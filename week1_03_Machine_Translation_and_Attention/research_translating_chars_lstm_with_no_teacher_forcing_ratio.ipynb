{
 "cells": [
  {
   "cell_type": "code",
   "execution_count": 1,
   "id": "f33b473d",
   "metadata": {},
   "outputs": [],
   "source": [
    "%matplotlib inline\n",
    "import numpy as np\n",
    "import matplotlib.pyplot as plt\n",
    "import seaborn as sns"
   ]
  },
  {
   "cell_type": "code",
   "execution_count": 2,
   "id": "1eed2428",
   "metadata": {},
   "outputs": [],
   "source": [
    "from IPython.display import clear_output\n",
    "from random import sample"
   ]
  },
  {
   "cell_type": "code",
   "execution_count": 3,
   "id": "869b0b15",
   "metadata": {},
   "outputs": [],
   "source": [
    "start_token = \" \"\n",
    "end_token = \".\"\n",
    "\n",
    "def read_names(path_to_file):\n",
    "    global start_token\n",
    "    \n",
    "    with open(path_to_file) as f:\n",
    "        names = f.read()[:-1].split('\\n')\n",
    "        #names = [start_token + line for line in names]\n",
    "        names = [f'{start_token}{line}{end_token}' for line in names]\n",
    "        return names"
   ]
  },
  {
   "cell_type": "code",
   "execution_count": 4,
   "id": "1b274211",
   "metadata": {},
   "outputs": [
    {
     "name": "stdout",
     "output_type": "stream",
     "text": [
      "File ‘names’ already there; not retrieving.\n",
      "File ‘names_ru’ already there; not retrieving.\n"
     ]
    }
   ],
   "source": [
    "try:\n",
    "    names = read_names('../datasets/names_dataset/names')\n",
    "except FileNotFoundError:\n",
    "    !wget https://raw.githubusercontent.com/neychev/made_nlp_course/master/datasets/names_dataset/names -nc -O names\n",
    "    names = read_names('./names')\n",
    "    \n",
    "try:\n",
    "    names_ru = read_names('../datasets/names_dataset/names_ru')\n",
    "except FileNotFoundError:\n",
    "    !wget https://raw.githubusercontent.com/neychev/made_nlp_course/master/datasets/names_dataset/names_ru -nc -O names_ru\n",
    "    names_ru = read_names('./names_ru')"
   ]
  },
  {
   "cell_type": "code",
   "execution_count": 5,
   "id": "1ea69231",
   "metadata": {
    "scrolled": false
   },
   "outputs": [
    {
     "name": "stdout",
     "output_type": "stream",
     "text": [
      "n samples =  7944\n",
      " Abagael.  Абагаел.\n",
      " Claresta.  Слареста.\n",
      " Glory.  Глорй.\n",
      " Liliane.  Лилиане.\n",
      " Prissie.  Приссие.\n",
      " Geeta.  Геета.\n",
      " Giovanne.  Гиованне.\n",
      " Piggy.  Пиггй.\n"
     ]
    }
   ],
   "source": [
    "print ('n samples = ',len(names_ru))\n",
    "for idx in np.arange(0, len(names), 1000):\n",
    "    print(names[idx], names_ru[idx])\n",
    "\n",
    "assert len(names) == len(names_ru), 'Wrong lengths'"
   ]
  },
  {
   "cell_type": "code",
   "execution_count": 6,
   "id": "4b0bc427",
   "metadata": {},
   "outputs": [
    {
     "name": "stdout",
     "output_type": "stream",
     "text": [
      "max length = 17\n"
     ]
    },
    {
     "data": {
      "image/png": "[encoded data removed]",
      "text/plain": [
       "<Figure size 432x288 with 1 Axes>"
      ]
     },
     "metadata": {
      "needs_background": "light"
     },
     "output_type": "display_data"
    }
   ],
   "source": [
    "MAX_LENGTH = max(map(len, names))\n",
    "print(\"max length =\", MAX_LENGTH)\n",
    "\n",
    "plt.title('Sequence length distribution')\n",
    "plt.hist(list(map(len, names)),bins=25, label='en');\n",
    "\n",
    "plt.title('Sequence length distribution')\n",
    "plt.hist(list(map(len, names_ru)),bins=25, alpha=0.3, label='ru');\n",
    "plt.legend()\n",
    "plt.show()"
   ]
  },
  {
   "cell_type": "code",
   "execution_count": 7,
   "id": "faaa9076",
   "metadata": {
    "scrolled": true
   },
   "outputs": [
    {
     "name": "stdout",
     "output_type": "stream",
     "text": [
      "num_tokens = 56\n"
     ]
    }
   ],
   "source": [
    "all_tokens_set_en = set()\n",
    "for name in names:\n",
    "    all_tokens_set_en.update(set(name))\n",
    "\n",
    "tokens_en = list(all_tokens_set_en)# <list of all unique characters in the dataset>\n",
    "\n",
    "num_tokens_en = len(tokens_en)\n",
    "print (f'num_tokens = {num_tokens_en}')\n",
    "\n",
    "assert 50 < num_tokens_en < 60, \"Names should contain within 50 and 60 unique tokens depending on encoding\""
   ]
  },
  {
   "cell_type": "code",
   "execution_count": 8,
   "id": "7491d877",
   "metadata": {
    "scrolled": true
   },
   "outputs": [
    {
     "name": "stdout",
     "output_type": "stream",
     "text": [
      "num_tokens = 55\n"
     ]
    }
   ],
   "source": [
    "all_tokens_set_ru = set()\n",
    "for name in names_ru:\n",
    "    all_tokens_set_ru.update(set(name))\n",
    "\n",
    "tokens_ru = list(all_tokens_set_ru)# <list of all unique characters in the dataset>\n",
    "\n",
    "num_tokens_ru = len(tokens_ru)\n",
    "print (f'num_tokens = {num_tokens_ru}')\n",
    "\n",
    "assert 50 < num_tokens_ru < 60, \"Names should contain within 50 and 60 unique tokens depending on encoding\""
   ]
  },
  {
   "cell_type": "code",
   "execution_count": 9,
   "id": "5d102d9f",
   "metadata": {},
   "outputs": [],
   "source": [
    "token_to_id_en = {\n",
    "    token: idx for idx, token in enumerate(tokens_en)\n",
    "}\n",
    "\n",
    "token_to_id_ru = {\n",
    "    token: idx for idx, token in enumerate(tokens_ru)\n",
    "}"
   ]
  },
  {
   "cell_type": "code",
   "execution_count": 10,
   "id": "80e344db",
   "metadata": {},
   "outputs": [
    {
     "name": "stdout",
     "output_type": "stream",
     "text": [
      "Seems alright!\n"
     ]
    }
   ],
   "source": [
    "assert len(tokens_ru) == len(token_to_id_ru), \"dictionaries must have same size\"\n",
    "\n",
    "for i in range(num_tokens_ru):\n",
    "    assert token_to_id_ru[tokens_ru[i]] == i, \"token identifier must be it's position in tokens list\"\n",
    "\n",
    "for i in range(num_tokens_en):\n",
    "    assert token_to_id_en[tokens_en[i]] == i, \"token identifier must be it's position in tokens list\"\n",
    "\n",
    "    \n",
    "print(\"Seems alright!\")"
   ]
  },
  {
   "cell_type": "code",
   "execution_count": 11,
   "id": "5ceb1bc4",
   "metadata": {},
   "outputs": [],
   "source": [
    "def to_matrix(names, token_to_id, max_len=None, pad=None, dtype='int32', batch_first=False):\n",
    "    \"\"\"Casts a list of names into rnn-digestable matrix\"\"\"\n",
    "    pad = token_to_id[' ']\n",
    "    max_len = max_len or max(map(len, names))\n",
    "    names_ix = np.zeros([len(names), max_len], dtype) + pad\n",
    "\n",
    "    for i in range(len(names)):\n",
    "        line_ix = [token_to_id[c] for c in names[i]]\n",
    "        names_ix[i, :len(line_ix)] = line_ix\n",
    "        \n",
    "    if not batch_first: # convert [batch, time] into [time, batch]\n",
    "        names_ix = np.transpose(names_ix)\n",
    "\n",
    "    return names_ix"
   ]
  },
  {
   "cell_type": "code",
   "execution_count": 12,
   "id": "0915a60b",
   "metadata": {
    "scrolled": false
   },
   "outputs": [
    {
     "name": "stdout",
     "output_type": "stream",
     "text": [
      "[[22 22 22]\n",
      " [25 25 25]\n",
      " [ 3  3  3]\n",
      " [36 36  3]\n",
      " [28 28  6]\n",
      " [36 36 54]\n",
      " [ 6  4 22]\n",
      " [47 47 22]\n",
      " [54 54 22]] \n",
      " (9, 3)\n"
     ]
    }
   ],
   "source": [
    "example = to_matrix(names[:3], token_to_id_en)\n",
    "print(example,'\\n', example.shape)\n",
    "del example"
   ]
  },
  {
   "cell_type": "code",
   "execution_count": 13,
   "id": "3c41a10a",
   "metadata": {},
   "outputs": [],
   "source": [
    "import torch, torch.nn as nn\n",
    "import torch.nn.functional as F\n",
    "import torch.optim as optim"
   ]
  },
  {
   "cell_type": "markdown",
   "id": "b15dc431",
   "metadata": {},
   "source": [
    "# Teacher forcing model with LSTM and dropout"
   ]
  },
  {
   "cell_type": "code",
   "execution_count": 14,
   "id": "342974ad",
   "metadata": {},
   "outputs": [],
   "source": [
    "class Encoder(nn.Module):\n",
    "    def __init__(self, num_tokens, emb_dim, hid_dim, n_layers, dropout):\n",
    "        super().__init__()\n",
    "        \n",
    "        self.num_tokens = num_tokens\n",
    "        self.emb_dim = emb_dim\n",
    "        self.hid_dim = hid_dim\n",
    "        self.n_layers = n_layers\n",
    "        \n",
    "        self.embedding = nn.Embedding(num_tokens, emb_dim)# <YOUR CODE HERE>\n",
    "        \n",
    "        self.rnn = nn.LSTM(input_size=emb_dim, hidden_size= hid_dim,\n",
    "                           num_layers = n_layers, dropout = dropout) # <YOUR CODE HERE>\n",
    "        \n",
    "        self.dropout = nn.Dropout(dropout) # <YOUR CODE HERE>\n",
    "        \n",
    "    def forward(self, src):\n",
    "        \n",
    "        #src = [src sent len, batch size]\n",
    "        \n",
    "        # Compute an embedding from the src data and apply dropout to it\n",
    "        # <YOUR CODE HERE>\n",
    "        \n",
    "        #embedded = [src sent len, batch size, emb dim]\n",
    "        embedded = self.embedding(src) \n",
    "        \n",
    "        embedded = self.dropout(embedded) \n",
    "        \n",
    "        # Compute the RNN output values of the encoder RNN. \n",
    "        # outputs, hidden and cell should be initialized here. Refer to nn.LSTM docs ;)\n",
    "        \n",
    "        output, (hidden, cell) = self.rnn(embedded) # <YOUR CODE HERE> \n",
    "        \n",
    "        #outputs = [src sent len, batch size, hid dim * n directions]\n",
    "        #hidden = [n layers * n directions, batch size, hid dim]\n",
    "        #cell = [n layers * n directions, batch size, hid dim]\n",
    "        \n",
    "        #outputs are always from the top hidden layer\n",
    "        \n",
    "        # Note: hidden - hidden state from the last state for each batch\n",
    "        # element \n",
    "        shp = [self.n_layers, src.shape[1], self.hid_dim]\n",
    "        assert list(hidden.size()) == shp, 'Wrong hidden dim'\n",
    "        assert list(cell.size()) == shp, 'Wrong cell dim'\n",
    "        return hidden, cell"
   ]
  },
  {
   "cell_type": "code",
   "execution_count": 15,
   "id": "086f2644",
   "metadata": {
    "scrolled": true
   },
   "outputs": [
    {
     "name": "stdout",
     "output_type": "stream",
     "text": [
      "torch.Size([17, 32])\n",
      "torch.Size([2, 32, 128]) torch.Size([2, 32, 128])\n"
     ]
    }
   ],
   "source": [
    "# check encoder forward pass:\n",
    "t = to_matrix(sample(names, 32), token_to_id_en, max_len=MAX_LENGTH)\n",
    "t = torch.LongTensor(t)\n",
    "print(t.shape) \n",
    "\n",
    "tencoder = Encoder(\n",
    "    num_tokens = len(token_to_id_en),\n",
    "    emb_dim = 64, hid_dim = 128,\n",
    "    n_layers = 2, dropout = 0.5)\n",
    "\n",
    "tenc_h, tenc_c  = tencoder.forward(t)\n",
    "\n",
    "print(tenc_h.size(), tenc_c.size())"
   ]
  },
  {
   "cell_type": "code",
   "execution_count": null,
   "id": "c31d0a5d",
   "metadata": {},
   "outputs": [],
   "source": []
  },
  {
   "cell_type": "code",
   "execution_count": null,
   "id": "666f00a1",
   "metadata": {},
   "outputs": [],
   "source": []
  },
  {
   "cell_type": "code",
   "execution_count": 16,
   "id": "92cbce05",
   "metadata": {},
   "outputs": [],
   "source": [
    "class Decoder(nn.Module):\n",
    "    def __init__(self, num_tokens, emb_dim, hid_dim, n_layers, dropout):\n",
    "        super().__init__()\n",
    "\n",
    "        self.emb_dim = emb_dim\n",
    "        self.hid_dim = hid_dim\n",
    "        self.num_tokens = num_tokens\n",
    "        self.n_layers = n_layers\n",
    "        \n",
    "        self.embedding = nn.Embedding(num_tokens, emb_dim)# <YOUR CODE HERE>\n",
    "        \n",
    "        self.rnn = nn.LSTM(input_size=emb_dim, hidden_size= hid_dim,\n",
    "                           num_layers = n_layers, dropout= dropout) # <YOUR CODE HERE>\n",
    "        \n",
    "        # Note:\n",
    "        # aditional linear layer to convert rnn outputputs hid_dim to \n",
    "        # probs of tokens dim - voc size\n",
    "        self.out = nn.Linear(hid_dim, num_tokens) # <YOUR CODE HERE>\n",
    "         \n",
    "        self.dropout = nn.Dropout(dropout)\n",
    "        \n",
    "    def forward(self, trg, hidden, cell):\n",
    "        \n",
    "        #input = [batch size]\n",
    "        #hidden = [n layers * n directions, batch size, hid dim]\n",
    "        #cell = [n layers * n directions, batch size, hid dim]\n",
    "        \n",
    "        #n directions in the decoder will both always be 1, therefore:\n",
    "        #hidden = [n layers, batch size, hid dim]\n",
    "        #context = [n layers, batch size, hid dim]\n",
    "        \n",
    "        # add first dim = 1: \n",
    "        #trg = trg.unsqueeze(0)\n",
    "        \n",
    "        #input = [1, batch size]\n",
    "        \n",
    "        # Compute an embedding from the input data and apply dropout to it\n",
    "        embedded = self.embedding(trg) # <YOUR CODE HERE>\n",
    "        embedded = self.dropout(embedded)\n",
    "        #embedded = [1, batch size, emb dim]\n",
    "        \n",
    "        # Compute the RNN output values of the encoder RNN. \n",
    "        # outputs, hidden and cell should be initialized here. Refer to nn.LSTM docs ;)\n",
    "\n",
    "        output, (hidden, cell) = self.rnn(embedded, (hidden, cell))# <YOUR CODE HERE>\n",
    "        \n",
    "        #output = [sent len, batch size, hid dim * n directions]\n",
    "        #hidden = [n layers * n directions, batch size, hid dim]\n",
    "        #cell = [n layers * n directions, batch size, hid dim]\n",
    "        \n",
    "        #sent len and n directions will always be 1 in the decoder, therefore:\n",
    "        #output = [1, batch size, hid dim]\n",
    "        #hidden = [n layers, batch size, hid dim]\n",
    "        #cell = [n layers, batch size, hid dim]\n",
    "        \n",
    "        prediction = self.out(output)\n",
    "        \n",
    "        #prediction = [batch size, output dim]\n",
    "        \n",
    "        # Note: we do not need softmax because we will predict\n",
    "        # the most likely token using argmax\n",
    "        \n",
    "        return prediction, hidden, cell"
   ]
  },
  {
   "cell_type": "code",
   "execution_count": null,
   "id": "a5c5e1dc",
   "metadata": {},
   "outputs": [],
   "source": []
  },
  {
   "cell_type": "code",
   "execution_count": 17,
   "id": "c3e69f81",
   "metadata": {
    "scrolled": true
   },
   "outputs": [
    {
     "name": "stdout",
     "output_type": "stream",
     "text": [
      "torch.Size([17, 32])\n",
      "torch.Size([17, 32, 55]) torch.Size([2, 32, 128]) torch.Size([2, 32, 128])\n"
     ]
    }
   ],
   "source": [
    "# check forward pass of decoder\n",
    "# we take slice of batch because will use teacher forcing\n",
    "\n",
    "t = to_matrix(sample(names_ru, 32), token_to_id_ru, max_len=MAX_LENGTH)\n",
    "t = torch.LongTensor(t)#[0,:]\n",
    "print(t.shape) \n",
    "\n",
    "tdecoder = Decoder(\n",
    "    num_tokens = len(token_to_id_ru),\n",
    "    emb_dim = 64, hid_dim = 128,\n",
    "    n_layers = 2, dropout = 0.5\n",
    ")\n",
    "\n",
    "tdec_res = tdecoder.forward(t, tenc_h, tenc_c)\n",
    "print(tdec_res[0].size(), tdec_res[1].size(), tdec_res[2].size())"
   ]
  },
  {
   "cell_type": "code",
   "execution_count": null,
   "id": "b1d764a9",
   "metadata": {},
   "outputs": [],
   "source": []
  },
  {
   "cell_type": "code",
   "execution_count": null,
   "id": "0ecb9184",
   "metadata": {},
   "outputs": [],
   "source": []
  },
  {
   "cell_type": "code",
   "execution_count": 18,
   "id": "ccb84f59",
   "metadata": {},
   "outputs": [],
   "source": [
    "class Seq2Seq(nn.Module):\n",
    "    def __init__(self, encoder, decoder, device):\n",
    "        super().__init__()\n",
    "        \n",
    "        self.encoder = encoder\n",
    "        self.decoder = decoder\n",
    "        self.device = device\n",
    "        \n",
    "        assert encoder.hid_dim == decoder.hid_dim, \\\n",
    "            \"Hidden dimensions of encoder and decoder must be equal!\"\n",
    "        assert encoder.n_layers == decoder.n_layers, \\\n",
    "            \"Encoder and decoder must have equal number of layers!\"\n",
    "        \n",
    "    def forward(self, src, trg, teacher_forcing_ratio = 0.5):\n",
    "        \n",
    "        #src = [src sent len, batch size]\n",
    "        #trg = [trg sent len, batch size]\n",
    "        #teacher_forcing_ratio is probability to use teacher forcing\n",
    "        #e.g. if teacher_forcing_ratio is 0.75 we use ground-truth inputs 75% of the time\n",
    "    \n",
    "        \n",
    "        \n",
    "        #last hidden state of the encoder is used as the initial hidden state of the decoder\n",
    "        hidden, cell = self.encoder(src)\n",
    "        outputs, _, _ = self.decoder(trg, hidden, cell)\n",
    "\n",
    "        return outputs"
   ]
  },
  {
   "cell_type": "code",
   "execution_count": null,
   "id": "b7f4c8b3",
   "metadata": {},
   "outputs": [],
   "source": []
  },
  {
   "cell_type": "code",
   "execution_count": 19,
   "id": "b154c9af",
   "metadata": {
    "scrolled": true
   },
   "outputs": [
    {
     "name": "stdout",
     "output_type": "stream",
     "text": [
      "device: cpu\n",
      "torch.Size([17, 32]) torch.Size([17, 32])\n",
      "torch.Size([17, 32, 55])\n",
      "torch.Size([17, 32])\n"
     ]
    }
   ],
   "source": [
    "# check Seq2Seq\n",
    "\n",
    "#tencoder = Encoder()\n",
    "#tdecoder = Decoder()\n",
    "\n",
    "device = torch.device(\n",
    "    'cuda' if torch.cuda.is_available() else 'cpu')\n",
    "\n",
    "print(f'device: {device}')\n",
    "\n",
    "tmodel = Seq2Seq(tencoder, tdecoder, device)\n",
    "\n",
    "t_src = to_matrix(sample(names, 32), token_to_id_en, max_len=MAX_LENGTH)\n",
    "t_src = torch.LongTensor(t_src)\n",
    "\n",
    "t_trg = to_matrix(sample(names_ru, 32), token_to_id_ru, max_len=MAX_LENGTH)\n",
    "t_trg = torch.LongTensor(t_trg)\n",
    "\n",
    "print(t_src.size(), t_trg.size())\n",
    "\n",
    "res_tseq2seq = tmodel.forward(\n",
    "    t_src, \n",
    "    t_trg\n",
    ")\n",
    "\n",
    "print(res_tseq2seq.size())\n",
    "\n",
    "preds = res_tseq2seq.argmax(-1)\n",
    "print(preds.size())"
   ]
  },
  {
   "cell_type": "markdown",
   "id": "bca7612c",
   "metadata": {},
   "source": [
    "## Train"
   ]
  },
  {
   "cell_type": "code",
   "execution_count": 20,
   "id": "c791e9c9",
   "metadata": {},
   "outputs": [],
   "source": [
    "# helper functions: \n",
    "\n",
    "def init_weights(m):\n",
    "    # <YOUR CODE HERE>\n",
    "    for p in m.parameters():\n",
    "        nn.init.uniform_(p, -0.08, 0.08)\n",
    "        \n",
    "def count_parameters(model):\n",
    "    return sum(p.numel() for p in model.parameters() if p.requires_grad)"
   ]
  },
  {
   "cell_type": "code",
   "execution_count": 23,
   "id": "18dd3b0c",
   "metadata": {
    "scrolled": false
   },
   "outputs": [
    {
     "name": "stdout",
     "output_type": "stream",
     "text": [
      "The model has 818,871 trainable parameters\n"
     ]
    },
    {
     "name": "stderr",
     "output_type": "stream",
     "text": [
      "/Users/artem/Documents/ML_projets/venvs/work_env/lib/python3.8/site-packages/torch/nn/modules/rnn.py:62: UserWarning: dropout option adds dropout after all but last recurrent layer, so non-zero dropout expects num_layers greater than 1, but got dropout=0.5 and num_layers=1\n",
      "  warnings.warn(\"dropout option adds dropout after all but last \"\n"
     ]
    }
   ],
   "source": [
    "# train parameters: \n",
    "\n",
    "n_epoch = 5\n",
    "batch_size = 128\n",
    "emb_size_ = 128\n",
    "rnn_num_units_ = 256 \n",
    "n_layers_ = 1\n",
    "dropout_ = 0.5\n",
    "\n",
    "enc = Encoder(\n",
    "    num_tokens = len(token_to_id_en),\n",
    "    emb_dim = emb_size_, hid_dim = rnn_num_units_,\n",
    "    n_layers = n_layers_, dropout = dropout_)\n",
    "\n",
    "dec = Decoder(\n",
    "    num_tokens = len(token_to_id_ru),\n",
    "    emb_dim = emb_size_, hid_dim = rnn_num_units_,\n",
    "    n_layers = n_layers_, dropout = dropout_)\n",
    "\n",
    "model = Seq2Seq(enc, dec, device).to(device)\n",
    "print(f'The model has {count_parameters(model):,} trainable parameters')\n",
    "\n",
    "# initialize model\n",
    "model.apply(init_weights)\n",
    "\n",
    "PAD_IDX = token_to_id_ru[' ']\n",
    "#criterion = nn.NLLLoss(ignore_index= PAD_IDX)\n",
    "criterion = nn.CrossEntropyLoss(ignore_index = PAD_IDX)\n",
    "opt = optim.Adam(model.parameters())\n",
    "\n",
    "loss_li = []"
   ]
  },
  {
   "cell_type": "code",
   "execution_count": 36,
   "id": "1c50a94c",
   "metadata": {
    "scrolled": false
   },
   "outputs": [
    {
     "name": "stdout",
     "output_type": "stream",
     "text": [
      "Epoch number 5/5..\n"
     ]
    },
    {
     "data": {
      "image/png": "[encoded data removed]",
      "text/plain": [
       "<Figure size 432x288 with 1 Axes>"
      ]
     },
     "metadata": {
      "needs_background": "light"
     },
     "output_type": "display_data"
    }
   ],
   "source": [
    "for epoch in range(n_epoch):\n",
    "    \n",
    "    for i in range(500):\n",
    "\n",
    "        # generate batch:\n",
    "        indices = np.random.choice(np.arange(len(names)), size=batch_size)\n",
    "\n",
    "        # tokenize src batch\n",
    "        batch_en = to_matrix(\n",
    "            np.array(names)[indices],\n",
    "            token_to_id=token_to_id_en,\n",
    "            max_len=MAX_LENGTH)\n",
    "\n",
    "        input_tensor = torch.from_numpy(batch_en).type(torch.int64)\n",
    "\n",
    "        # tokenize trg batch\n",
    "        batch_ru = to_matrix(\n",
    "            np.array(names_ru)[indices],\n",
    "            token_to_id=token_to_id_ru,\n",
    "            max_len=MAX_LENGTH\n",
    "        )\n",
    "\n",
    "        target_tensor = torch.from_numpy(batch_ru).type(torch.int64)\n",
    "\n",
    "        # generate preds:\n",
    "        logp_seq = model(input_tensor, target_tensor)\n",
    "        \n",
    "        # calculate loss:\n",
    "        preds = logp_seq[:-1].contiguous().view(-1, len(token_to_id_ru))\n",
    "        targets = target_tensor[1:].contiguous().view(-1)\n",
    "        \n",
    "        loss = criterion(preds, targets)\n",
    "\n",
    "        # calculate grads\n",
    "        loss.backward()\n",
    "        \n",
    "        # Let's clip the gradient\n",
    "        torch.nn.utils.clip_grad_norm_(model.parameters(), 1)\n",
    "\n",
    "        # update grads\n",
    "        opt.step()\n",
    "\n",
    "        # zero grads\n",
    "        opt.zero_grad()\n",
    "        \n",
    "        if (i+1) % 20 == 0:\n",
    "            loss_li.append(loss.item())\n",
    "    \n",
    "    print(f'Epoch number {epoch + 1}/{n_epoch}..')\n",
    "    plt.plot(loss_li)\n",
    "    plt.title('Cost function:')\n",
    "    plt.ylabel('- 1/m * Sum(Error_i)')\n",
    "    plt.xlabel('n_iter * step')\n",
    "    plt.show()\n",
    "    clear_output(True)"
   ]
  },
  {
   "cell_type": "markdown",
   "id": "56280e98",
   "metadata": {},
   "source": [
    "\"Teacher forcing works by using the actual or expected output from the training dataset at the current time step y(t) as input in the next time step X(t+1), rather than the output generated by the network.\"   \n",
    "\n",
    "So, if we do not pass manualy our predicts to rnn it will use ground-truth values. More stable results can be obtained using as our predictions as well as ground-truth values with some probability ratio. "
   ]
  },
  {
   "cell_type": "markdown",
   "id": "a5b15a6a",
   "metadata": {},
   "source": [
    "# Check the results"
   ]
  },
  {
   "cell_type": "code",
   "execution_count": 53,
   "id": "94bbd4a5",
   "metadata": {},
   "outputs": [],
   "source": [
    "import re"
   ]
  },
  {
   "cell_type": "code",
   "execution_count": null,
   "id": "f9c5e284",
   "metadata": {
    "scrolled": false
   },
   "outputs": [],
   "source": [
    "# text_batch_en -> encoder ->ht\n",
    "# in loop put sos and ht -> decoder \n",
    "# decoder -> probs for tokens ~ new input & ht+1  -> decoder\n",
    "# ..."
   ]
  },
  {
   "cell_type": "code",
   "execution_count": 54,
   "id": "63b59cbd",
   "metadata": {},
   "outputs": [],
   "source": [
    "def decode_tokens(x, decode_di): \n",
    "    if not isinstance(x, list):\n",
    "        x = x.reshape(len(x))\n",
    "    x = ''.join([decode_di.get(c) for c in x])\n",
    "    x = re.sub('\\.', '', x)\n",
    "    return x"
   ]
  },
  {
   "cell_type": "code",
   "execution_count": 55,
   "id": "a6225ed7",
   "metadata": {},
   "outputs": [],
   "source": [
    "# create inverse dicts\n",
    "\n",
    "id_to_token_en = {j:i for i,j in token_to_id_en.items()}\n",
    "assert len(id_to_token_en) == len(token_to_id_en), 'Error with lengths'\n",
    "\n",
    "id_to_token_ru = {j:i for i,j in token_to_id_ru.items()}\n",
    "assert len(id_to_token_ru) == len(token_to_id_ru), 'Error with lengths'"
   ]
  },
  {
   "cell_type": "code",
   "execution_count": 66,
   "id": "fd11f5af",
   "metadata": {},
   "outputs": [],
   "source": [
    "def translate_one_name(model, pad_ix): \n",
    "    \n",
    "    model.eval()\n",
    "    \n",
    "    # generate random sample: \n",
    "    indices = np.random.choice(np.arange(len(names)), size=1)\n",
    "    \n",
    "    no_eos_seq = re.sub('\\.', '', names[indices[0]])\n",
    "    print(f'Random name: {no_eos_seq}')\n",
    "    \n",
    "    # tokenize src batch\n",
    "    text_batch_en = to_matrix(\n",
    "        np.array(names)[indices],\n",
    "        token_to_id=token_to_id_en,\n",
    "        max_len=MAX_LENGTH)\n",
    "    \n",
    "    \n",
    "    text_batch_en = torch.from_numpy(text_batch_en).type(torch.int64)\n",
    "        \n",
    "    with torch.no_grad():\n",
    "        enc_hlast, enc_clast  = model.encoder(text_batch_en)\n",
    "\n",
    "        input_ = np.array([pad_ix])\n",
    "        input_ = torch.from_numpy(input_).type(torch.int64)\n",
    "        \n",
    "\n",
    "        predicted_tokens_li = [PAD_IDX]\n",
    "        \n",
    "        h_next = enc_hlast\n",
    "        c_next = enc_clast\n",
    "        \n",
    "        for i in range(1, MAX_LENGTH):\n",
    "            \n",
    "            token_preds, h_next, c_next = model.decoder(input_.unsqueeze(0), h_next, c_next)\n",
    "\n",
    "            predicted_token = token_preds.argmax(-1).item()\n",
    "            predicted_tokens_li.append(predicted_token)\n",
    "        \n",
    "            input_ = np.array([predicted_token])#.reshape(1,1)\n",
    "            input_ = torch.from_numpy(input_).type(torch.int64)\n",
    "        return predicted_tokens_li"
   ]
  },
  {
   "cell_type": "code",
   "execution_count": 71,
   "id": "076685a0",
   "metadata": {
    "scrolled": false
   },
   "outputs": [
    {
     "name": "stdout",
     "output_type": "stream",
     "text": [
      "Random name:  Filide\n",
      "Translation:  Филфин \n",
      "\n",
      "\n",
      "Random name:  Starla\n",
      "Translation:  Старла \n",
      "\n",
      "\n",
      "Random name:  Valentin\n",
      "Translation:  Валентин \n",
      "\n",
      "\n",
      "Random name:  Marya\n",
      "Translation:  Маря \n",
      "\n",
      "\n",
      "Random name:  Carlina\n",
      "Translation:  Сарлина \n",
      "\n",
      "\n",
      "Random name:  Anatola\n",
      "Translation:  Анатола \n",
      "\n",
      "\n",
      "Random name:  Krystle\n",
      "Translation:  Крйстле \n",
      "\n",
      "\n",
      "Random name:  Palmer\n",
      "Translation:  Палмер \n",
      "\n",
      "\n",
      "Random name:  Jasmina\n",
      "Translation:  Жасмина \n",
      "\n",
      "\n",
      "Random name:  Tommie\n",
      "Translation:  Томмие \n",
      "\n",
      "\n"
     ]
    }
   ],
   "source": [
    "for _ in range(10): \n",
    "    preds = translate_one_name(model, PAD_IDX)\n",
    "    decoded = decode_tokens(preds, id_to_token_ru)\n",
    "    print(f'Translation: {decoded}', '\\n'*2)"
   ]
  }
 ],
 "metadata": {
  "kernelspec": {
   "display_name": "work_env",
   "language": "python",
   "name": "work_env"
  },
  "language_info": {
   "codemirror_mode": {
    "name": "ipython",
    "version": 3
   },
   "file_extension": ".py",
   "mimetype": "text/x-python",
   "name": "python",
   "nbconvert_exporter": "python",
   "pygments_lexer": "ipython3",
   "version": "3.8.9"
  }
 },
 "nbformat": 4,
 "nbformat_minor": 5
}
