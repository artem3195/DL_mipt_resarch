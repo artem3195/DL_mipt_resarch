{
 "cells": [
  {
   "cell_type": "markdown",
   "metadata": {},
   "source": [
    "## Seminar 01: Dealing with Word Embeddings\n",
    "\n",
    "Today we gonna play with word embeddings: train our own little embedding, load one from   gensim model zoo and use it to visualize text corpora.\n",
    "\n",
    "This whole thing is gonna happen on top of embedding dataset.\n",
    "\n",
    "__Requirements:__ if you're running locally, in the selected environment run the following command:\n",
    "\n",
    "```pip install --upgrade nltk gensim bokeh umap-learn```\n"
   ]
  },
  {
   "cell_type": "code",
   "execution_count": 1,
   "metadata": {
    "collapsed": true
   },
   "outputs": [
    {
     "name": "stdout",
     "output_type": "stream",
     "text": [
      "Requirement already up-to-date: nltk in /Users/artem/Documents/ML_projets/venvs/work_env/lib/python3.8/site-packages (3.6.7)\n",
      "Requirement already up-to-date: gensim in /Users/artem/Documents/ML_projets/venvs/work_env/lib/python3.8/site-packages (4.1.2)\n",
      "Requirement already up-to-date: bokeh in /Users/artem/Documents/ML_projets/venvs/work_env/lib/python3.8/site-packages (2.4.2)\n",
      "Requirement already up-to-date: umap-learn in /Users/artem/Documents/ML_projets/venvs/work_env/lib/python3.8/site-packages (0.5.2)\n",
      "Requirement already satisfied, skipping upgrade: tqdm in /Users/artem/Documents/ML_projets/venvs/work_env/lib/python3.8/site-packages (from nltk) (4.62.3)\n",
      "Requirement already satisfied, skipping upgrade: click in /Users/artem/Documents/ML_projets/venvs/work_env/lib/python3.8/site-packages (from nltk) (8.0.3)\n",
      "Requirement already satisfied, skipping upgrade: joblib in /Users/artem/Documents/ML_projets/venvs/work_env/lib/python3.8/site-packages (from nltk) (1.1.0)\n",
      "Requirement already satisfied, skipping upgrade: regex>=2021.8.3 in /Users/artem/Documents/ML_projets/venvs/work_env/lib/python3.8/site-packages (from nltk) (2021.11.10)\n",
      "Requirement already satisfied, skipping upgrade: scipy>=0.18.1 in /Users/artem/Documents/ML_projets/venvs/work_env/lib/python3.8/site-packages (from gensim) (1.7.3)\n",
      "Requirement already satisfied, skipping upgrade: smart-open>=1.8.1 in /Users/artem/Documents/ML_projets/venvs/work_env/lib/python3.8/site-packages (from gensim) (5.2.1)\n",
      "Requirement already satisfied, skipping upgrade: numpy>=1.17.0 in /Users/artem/Documents/ML_projets/venvs/work_env/lib/python3.8/site-packages (from gensim) (1.20.3)\n",
      "Requirement already satisfied, skipping upgrade: Jinja2>=2.9 in /Users/artem/Documents/ML_projets/venvs/work_env/lib/python3.8/site-packages (from bokeh) (3.0.3)\n",
      "Requirement already satisfied, skipping upgrade: PyYAML>=3.10 in /Users/artem/Documents/ML_projets/venvs/work_env/lib/python3.8/site-packages (from bokeh) (6.0)\n",
      "Requirement already satisfied, skipping upgrade: packaging>=16.8 in /Users/artem/Documents/ML_projets/venvs/work_env/lib/python3.8/site-packages (from bokeh) (21.3)\n",
      "Requirement already satisfied, skipping upgrade: tornado>=5.1 in /Users/artem/Documents/ML_projets/venvs/work_env/lib/python3.8/site-packages (from bokeh) (6.1)\n",
      "Requirement already satisfied, skipping upgrade: pillow>=7.1.0 in /Users/artem/Documents/ML_projets/venvs/work_env/lib/python3.8/site-packages (from bokeh) (8.4.0)\n",
      "Requirement already satisfied, skipping upgrade: typing-extensions>=3.10.0 in /Users/artem/Documents/ML_projets/venvs/work_env/lib/python3.8/site-packages (from bokeh) (3.10.0.2)\n",
      "Requirement already satisfied, skipping upgrade: scikit-learn>=0.22 in /Users/artem/Documents/ML_projets/venvs/work_env/lib/python3.8/site-packages (from umap-learn) (1.0.2)\n",
      "Requirement already satisfied, skipping upgrade: numba>=0.49 in /Users/artem/Documents/ML_projets/venvs/work_env/lib/python3.8/site-packages (from umap-learn) (0.53.1)\n",
      "Requirement already satisfied, skipping upgrade: pynndescent>=0.5 in /Users/artem/Documents/ML_projets/venvs/work_env/lib/python3.8/site-packages (from umap-learn) (0.5.5)\n",
      "Requirement already satisfied, skipping upgrade: MarkupSafe>=2.0 in /Users/artem/Documents/ML_projets/venvs/work_env/lib/python3.8/site-packages (from Jinja2>=2.9->bokeh) (2.0.1)\n",
      "Requirement already satisfied, skipping upgrade: pyparsing!=3.0.5,>=2.0.2 in /Users/artem/Documents/ML_projets/venvs/work_env/lib/python3.8/site-packages (from packaging>=16.8->bokeh) (3.0.6)\n",
      "Requirement already satisfied, skipping upgrade: threadpoolctl>=2.0.0 in /Users/artem/Documents/ML_projets/venvs/work_env/lib/python3.8/site-packages (from scikit-learn>=0.22->umap-learn) (3.0.0)\n",
      "Requirement already satisfied, skipping upgrade: setuptools in /Users/artem/Documents/ML_projets/venvs/work_env/lib/python3.8/site-packages (from numba>=0.49->umap-learn) (41.2.0)\n",
      "Requirement already satisfied, skipping upgrade: llvmlite<0.37,>=0.36.0rc1 in /Users/artem/Documents/ML_projets/venvs/work_env/lib/python3.8/site-packages (from numba>=0.49->umap-learn) (0.36.0)\n",
      "\u001b[33mWARNING: You are using pip version 19.2.3, however version 21.3.1 is available.\n",
      "You should consider upgrading via the 'pip install --upgrade pip' command.\u001b[0m\n",
      "Note: you may need to restart the kernel to use updated packages.\n"
     ]
    }
   ],
   "source": [
    "pip install --upgrade nltk gensim bokeh umap-learn"
   ]
  },
  {
   "cell_type": "code",
   "execution_count": 32,
   "metadata": {
    "scrolled": true
   },
   "outputs": [],
   "source": [
    "import itertools\n",
    "import string\n",
    "\n",
    "import numpy as np\n",
    "import umap\n",
    "from nltk.tokenize import WordPunctTokenizer\n",
    "\n",
    "from matplotlib import pyplot as plt\n",
    "\n",
    "from IPython.display import clear_output"
   ]
  },
  {
   "cell_type": "code",
   "execution_count": null,
   "metadata": {},
   "outputs": [],
   "source": [
    "# download the data:\n",
    "!wget https://www.dropbox.com/s/obaitrix9jyu84r/quora.txt?dl=1 -O ./quora.txt -nc\n",
    "# alternative download link: https://yadi.sk/i/BPQrUu1NaTduEw"
   ]
  },
  {
   "cell_type": "code",
   "execution_count": 3,
   "metadata": {
    "scrolled": false
   },
   "outputs": [
    {
     "data": {
      "text/plain": [
       "\"What TV shows or books help you read people's body language?\\n\""
      ]
     },
     "execution_count": 3,
     "metadata": {},
     "output_type": "execute_result"
    }
   ],
   "source": [
    "data = list(open(\"./quora.txt\", encoding=\"utf-8\"))\n",
    "data[50]"
   ]
  },
  {
   "cell_type": "markdown",
   "metadata": {},
   "source": [
    "__Tokenization:__ a typical first step for an nlp task is to split raw data into words.\n",
    "The text we're working with is in raw format: with all the punctuation and smiles attached to some words, so a simple str.split won't do.\n",
    "\n",
    "Let's use __`nltk`__ - a library that handles many nlp tasks like tokenization, stemming or part-of-speech tagging."
   ]
  },
  {
   "cell_type": "code",
   "execution_count": 4,
   "metadata": {
    "scrolled": false
   },
   "outputs": [
    {
     "name": "stdout",
     "output_type": "stream",
     "text": [
      "['What', 'TV', 'shows', 'or', 'books', 'help', 'you', 'read', 'people', \"'\", 's', 'body', 'language', '?']\n"
     ]
    }
   ],
   "source": [
    "tokenizer = WordPunctTokenizer()\n",
    "\n",
    "print(tokenizer.tokenize(data[50]))"
   ]
  },
  {
   "cell_type": "code",
   "execution_count": 5,
   "metadata": {},
   "outputs": [],
   "source": [
    "# TASK: lowercase everything and extract tokens with tokenizer. \n",
    "# data_tok should be a list of lists of tokens for each line in data.\n",
    "\n",
    "data_tok = [tokenizer.tokenize(t.lower()) for t in data]"
   ]
  },
  {
   "cell_type": "markdown",
   "metadata": {},
   "source": [
    "Let's peek at the result:"
   ]
  },
  {
   "cell_type": "code",
   "execution_count": 6,
   "metadata": {
    "scrolled": false
   },
   "outputs": [
    {
     "data": {
      "text/plain": [
       "\"can i get back with my ex even though she is pregnant with another guy ' s baby ?\""
      ]
     },
     "execution_count": 6,
     "metadata": {},
     "output_type": "execute_result"
    }
   ],
   "source": [
    "' '.join(data_tok[0])"
   ]
  },
  {
   "cell_type": "markdown",
   "metadata": {},
   "source": [
    "Small check that everything is alright"
   ]
  },
  {
   "cell_type": "code",
   "execution_count": 7,
   "metadata": {},
   "outputs": [],
   "source": [
    "assert all(isinstance(row, (list, tuple)) for row in data_tok), \"please convert each line into a list of tokens (strings)\"\n",
    "assert all(all(isinstance(tok, str) for tok in row) for row in data_tok), \"please convert each line into a list of tokens (strings)\"\n",
    "is_latin = lambda tok: all('a' <= x.lower() <= 'z' for x in tok)\n",
    "assert all(map(lambda l: not is_latin(l) or l.islower(), map(' '.join, data_tok))), \"please make sure to lowercase the data\""
   ]
  },
  {
   "cell_type": "markdown",
   "metadata": {},
   "source": [
    "__Word vectors:__ as the saying goes, there's more than one way to train word embeddings. There's Word2Vec and GloVe with different objective functions. Then there's fasttext that uses character-level models to train word embeddings. \n",
    "\n",
    "The choice is huge, so let's start someplace small: __gensim__ is another NLP library that features many vector-based models incuding word2vec."
   ]
  },
  {
   "cell_type": "code",
   "execution_count": 8,
   "metadata": {
    "scrolled": true
   },
   "outputs": [],
   "source": [
    "from gensim.models import Word2Vec\n",
    "model = Word2Vec(data_tok, \n",
    "                 vector_size=32, # embedding vector size\n",
    "                 min_count=5,  # consider words that occured at least 5 times\n",
    "                 window=5).wv  # define context as a 5-word window around the target word"
   ]
  },
  {
   "cell_type": "code",
   "execution_count": 9,
   "metadata": {},
   "outputs": [
    {
     "data": {
      "text/plain": [
       "array([-2.2789788 , -1.4682097 , -0.0669508 ,  3.4317338 ,  1.3138198 ,\n",
       "        1.3282626 ,  3.2120922 , -2.038631  ,  0.6033965 ,  3.0340846 ,\n",
       "       -0.43405053,  1.3485172 ,  4.483739  ,  0.17039561,  2.9292128 ,\n",
       "       -0.3094901 ,  0.03789109, -0.582538  ,  0.5788814 , -4.000351  ,\n",
       "       -3.7451193 , -1.7453383 , -0.98449785, -0.21747458,  0.7699586 ,\n",
       "       -2.536995  , -0.2073898 , -1.182481  , -0.03801956,  1.0375136 ,\n",
       "       -0.89686495, -0.27229843], dtype=float32)"
      ]
     },
     "execution_count": 9,
     "metadata": {},
     "output_type": "execute_result"
    }
   ],
   "source": [
    "# now you can get word vectors !\n",
    "model.get_vector('anything')"
   ]
  },
  {
   "cell_type": "code",
   "execution_count": 10,
   "metadata": {
    "scrolled": false
   },
   "outputs": [
    {
     "data": {
      "text/plain": [
       "[('rice', 0.9479035139083862),\n",
       " ('butter', 0.9168109893798828),\n",
       " ('cheese', 0.9158768653869629),\n",
       " ('flour', 0.9089967012405396),\n",
       " ('fruit', 0.9079964756965637),\n",
       " ('sauce', 0.9077061414718628),\n",
       " ('wine', 0.8995053172111511),\n",
       " ('chicken', 0.8976998329162598),\n",
       " ('beans', 0.8967862129211426),\n",
       " ('honey', 0.895144522190094)]"
      ]
     },
     "execution_count": 10,
     "metadata": {},
     "output_type": "execute_result"
    }
   ],
   "source": [
    "# or query similar words directly. Go play with it!\n",
    "model.most_similar('bread')"
   ]
  },
  {
   "cell_type": "markdown",
   "metadata": {},
   "source": [
    "### Using pre-trained model\n",
    "\n",
    "Took it a while, huh? Now imagine training life-sized (100~300D) word embeddings on gigabytes of text: wikipedia articles or twitter posts. \n",
    "\n",
    "Thankfully, nowadays you can get a pre-trained word embedding model in 2 lines of code (no sms required, promise)."
   ]
  },
  {
   "cell_type": "code",
   "execution_count": 11,
   "metadata": {
    "scrolled": false
   },
   "outputs": [],
   "source": [
    "import gensim.downloader as api\n",
    "model = api.load('glove-twitter-25')"
   ]
  },
  {
   "cell_type": "code",
   "execution_count": 12,
   "metadata": {
    "scrolled": true
   },
   "outputs": [
    {
     "data": {
      "text/plain": [
       "[('realtor', 0.8265186548233032),\n",
       " ('gfx', 0.8249695897102356),\n",
       " ('caterers', 0.798202395439148),\n",
       " ('beatmaker', 0.7936854362487793),\n",
       " ('recruiter', 0.7892400026321411),\n",
       " ('sfi', 0.784467339515686),\n",
       " ('sosh', 0.7840632796287537),\n",
       " ('promoter', 0.7838250994682312),\n",
       " ('smallbusiness', 0.7786215543746948),\n",
       " ('promoters', 0.77646803855896)]"
      ]
     },
     "execution_count": 12,
     "metadata": {},
     "output_type": "execute_result"
    }
   ],
   "source": [
    "model.most_similar(positive=[\"coder\", \"money\"], negative=[\"brain\"])"
   ]
  },
  {
   "cell_type": "markdown",
   "metadata": {},
   "source": [
    "### Visualizing word vectors\n",
    "\n",
    "One way to see if our vectors are any good is to plot them. Thing is, those vectors are in 30D+ space and we humans are more used to 2-3D.\n",
    "\n",
    "Luckily, we machine learners know about __dimensionality reduction__ methods.\n",
    "\n",
    "Let's use that to plot 1000 most frequent words"
   ]
  },
  {
   "cell_type": "code",
   "execution_count": 13,
   "metadata": {
    "collapsed": true
   },
   "outputs": [
    {
     "name": "stdout",
     "output_type": "stream",
     "text": [
      "['<user>', '.', ':', 'rt', ',', '<repeat>', '<hashtag>', '<number>', '<url>', '!', 'i', 'a', '\"', 'the', '?', 'you', 'to', '(', '<allcaps>', '<elong>', ')', 'me', 'de', '<smile>', '！', 'que', 'and', '。', '-', 'my', 'no', '、', 'is', 'it', '…', 'in', 'n', 'for', '/', 'of', 'la', \"'s\", '*', 'do', \"n't\", 'that', 'on', 'y', \"'\", 'e', 'o', 'u', 'en', 'this', 'el', 'so', 'be', \"'m\", 'with', 'just', '>', 'your', '^', 'like', 'have', 'te', 'at', '？', 'love', 'se', 'are', '<', 'm', 'r', 'if', 'all', 'b', '・', 'not', 'but', 'we', 'es', 'ya', '&', 'follow', 'up', 'what', 'get', 'lol', 'un', '♥', 'lo', 'when', 'was', '“', '”', 'one', 'por', 'si', 'out', '_', 'mi', 'can', '<sadface>', 'من', '♡', '´', 'he', 'con', 'they', 'now', 'go', '،', 'para', 'los', 'know', 'haha', 'good', 'tu', 'back', '~', 'about', 'new', ';', 'as', 'day', 'how', 'who', 'will', 'want', 'people', 'yo', 'eu', 'from', 'di', 'time', '<heart>', 's', 'aku', 'da', \"'re\", '<lolface>', 'una', 'got', 'las', 'more', 'x', 'she', 'today', '（', '>>', 'k', 'by', 'or', 'في', '･', 'too', 'le', 'é', '|', '[', '）', ']', 'see', 'why', 'yg', 'ca', 'como', 'her', '—', 'q', 'need', 'an', 'na', '笑', 'there', 'ω', 'happy', 'im', 'mas', 'je', 'life', 'really', 'make', 'yang', 'shit', 'think', 't', '❤', 'não', 'never', 'some', '～', 'oh', '★', 'did', 'would', 'del', '`', 'd', 'please', 'via', 'much', 'fuck', 'al', 'dia', '$', 'و', 'right', 'best', 'c', 'going', 'الله', 'pero', 'only', 'has', '♪', \"'ll\", 'twitter', '=', 'hahaha', 'its', 'nn', '｀', '¿', 'am', 'say', '<neutralface>', 'them', 'here', 'لا', 'off', 'still', 'dan', '+', 'night', 'w', 'ada', 'someone', 'even', 'then', '☆', 'ni', 'come', 'com', 'always', 'man', \"'ve\", 'been', 'his', 'itu', 'على', '-_-', '☺', 'over', 'um', 'ما', 'hate', 'girl', 'ai', 'had', 'pra', 'todo', 'mais', 'feel', 'let', 'ini', 'because', 'ﾟ', 'thanks', 'ah', 'way', 'ever', 'look', 'tweet', 'followers', 'should', 'our', 'xd', 'aja', 'esta', 'school', 'him', 'ser', 'take', 'than', 'video', 'em', 'last', 'wanna', 'does', 'us', 'miss', 'l', 'ga', 'better', 'well', 'could', '▽', '%', 'apa', 'cuando', 'team', '✔', '@', 'ok', '؟', '•', 'vida', 'quiero', 'les', 'being', 'real', 'down', 'kamu', 'everyone', 'gonna', 'live', 'tonight', 'yes', 'work', 'ass', 'retweet', 'nada', 'sama', 'first', '<<', 'photo', 'tomorrow', 'where', 'god', 'son', 'ke', 'ta', 'f', 'home', 'lagi', 'thank', 'birthday', '█', 'ha', 'great', 'lmao', 'omg', 'morning', 'más', 'mau', 'baby', 'dont', '｡', 'their', 'p', 'things', 'game', 'pas', 'bad', 'year', 'yeah', 'su', 'bitch', 'в', 'stop', 'hoy', 'something', 'meu', 'tak', 'gak', 'world', 'amor', 'h', '\\\\', 'ver', '；', 'porque', 'give', 'these', 'اللهم', 'were', 'hay', 'sleep', 'gue', 'every', 'friends', 'uma', 'tell', 'amo', 'vou', 'bien', '¡', 'again', '＾', '／', 'done', 'after', 'todos', 'girls', 'guys', 'getting', 'big', 'wait', 'justin', 'eh', '→', 'kan', 'kita', 'jajaja', 'wish', 'said', 'fucking', 'show', 'thing', 'next', 'você', 'nos', 'little', 'tengo', 'keep', 'person', \"''\", '∀', 'hope', 'كل', 'hey', 'bisa', 'free', 'made', 'foto', 'va', 'everything', 'iya', 'nigga', 'eso', 'et', 'watch', 'music', 'week', 'talk', 'ne', 'solo', 'gente', 'udah', '：', '--', '＼', 'mejor', 'facebook', 'ma', 'v', 'phone', 'most', 'same', 'okay', 'ik', 'before', 'minha', 'days', 'g', 'ti', 'damn', 'nice', 'voy', 'vai', 'call', 'long', 'tapi', 'http', 'sin', 'nunca', 'doing', 'other', 'find', 'il', 'sa', 'sorry', 'nya', 'orang', '°', 'hard', 'mean', 'die', 'اللي', 'tem', 'soy', 'este', 'kalo', 'só', 'th', 'win', 'nothing', 'into', 'face', 'cute', \"'d\", 'gracias', 'lah', 'и', 'any', 'play', '←', 'ko', 'text', '⌣', 'estoy', 'tau', 'ur', 'buat', '#', 'cause', 'я', 'put', 'kau', 'siempre', 'juga', 'casa', 'أن', 'help', 'start', 'feliz', 'old', 'ir', 'very', 'care', 'bir', 'makes', 'song', 'check', 'watching', 'ahora', 'jadi', 'os', 'may', 'friend', 'beautiful', 'heart', 'ka', 'vc', 'mundo', 'на', 'sure', 'tan', 'pretty', 'aqui', 'не', 'house', 'رتويت', 'يا', 'ja', 'true', 'muy', 'away', 'already', 'actually', 'believe', 'try', 'many', 'mañana', 'mis', 'lu', 'those', 'hot', 'qué', 'mal', 'عن', 'though', 'ask', 'amazing', 'bed', '}', 'two', 'mom', 'día', 've', 'dari', 'gameinsight', 'stay', 'fun', 'around', 'van', 'cont', 'ready', 'money', 'bu', 'funny', 'cool', 'hair', 'à', 'tho', '{', 'wo', 'hi', 'name', 'tiene', 'hahahaha', 'pa', 'algo', 'gotta', 'ولا', 'boy', 'another', \"c'est\", 'hari', 'jajajaja', 'having', 'cara', 'jaja', 'dm', 'looking', 'top', 'android', 'dah', 'wow', '░', 'eres', 'ben', 'must', 'news', 'met', 'está', 'nih', 'family', 'black', 'thought', 'nak', 'super', 'end', 'hace', 'remember', 'ama', 'party', 'cant', 'vamos', 'anything', 'anyone', 'فولو', 'perfect', 'guy', 'vez', 'christmas', 'dos', 'bueno', 'nao', 'years', 'vote', 'dormir', 'bro', 'else', 'quien', 'untuk', 'jangan', 'myself', 'head', 'mind', 'gua', 'talking', 'while', 'dat', 'food', 'д', 'coming', 'wkwk', 'trying', 'saya', 'mucho', 'without', 'wrong', '’s', 'baru', '__', 'hehe', 'hacer', 'lot', 'followed', 'crazy', 'hell', 'feeling', 'des', 'kok', 'j', 'stats', \"j'\", 'ان', 'tweets', 'non', 'cosas', 'era', 'high', 'niggas', 'change', 'movie', 'xx', 'mad', 'sih', 'sometimes', 'deh', 'allah', 'through', 'pour', 'ela', 'soon', 'gone', 'playing', 'smile', 'bukan', 'tv', 'fans', 'hasta', 'akan', \"y'\", 'looks', 'isso', '✌', 'tired', 'boys', 'might', 'dong', 'lg', 'use', 'maybe', 'until', 'menos', 'own', 'dengan', 'eat', 'ou', 'weekend', '˘', 'class', 'ele', 'harry', 'iphone', 'friday', 'single', 'ff', 'awesome', 'bout', 'muito', 'hoje', '¬', 'dios', 'such', 'estar', 'já', 'quando', 'esa', 'making', '━', 'times', 'lmfao', 'gw', 'moment', 'yet', 'aw', 'smh', 'banget', 'masih', 'qui', 'quem', '–', 'leave', 'du', 'une', 'guess', 'hit', 'с', 'pm', 'since', 'pues', 'est', 'job', 'ﾉ', 'mana', 'bom', 'siapa', 'suka', 'bieber', 'mention', 'lebih', 'favorite', 'bitches', 'forever', 'لي', 'final', 'read', 'alguien', 'open', 'yourself', 'ese', 'che', 'sex', 'yaa', 'car', 'direction', 'tidak', 'seu', 'gets', 'left', 're', 'jam', 'enough', 'إلا', 'once', '’', 'part', 'cada', '定期', 'لك', 'een', 'seen', 'kak', 'así', 'nem', 'عمل', 'white', 'told', 'says', 'esto', 'sad', 'mo', 'fue', 'yah', 'summer', 'ه', '⭕', '»', 'thats', 'مع', 'posted', 'wants', 'agora', 'together', 'fan', 'men', 'hear', 'full', '☀', 'sigo', 'pq', 'dulu', 'plus', 'foi', 'tudo', 'هو', 'ill', 'あ', 'thinking', 'wtf', 'pagi', 'mama', 'kalau', 'hati', 'sexy', 'sayang', 'baik', 'semua', 'hola', 'went', 'vos', 'tanto', 'finally', 'fb', 'sea', 'stupid', 'tus', 'seriously', 'hora', 'min', 'pic', 'estas', 'turn', 'hours', 'excited', 'nah', 'buy', 'saying', 'mah', 'break', 'needs', 'ce', 'room', 'choice', 'far', 'dead', 'quero', 'saw', 'kids', 'lil', 'whole', 'puede', 'fall', 'sus', 'lost', 'asi', 'word', '☹', 'also', 'ريتويت', 'probably', 'everybody', 'tarde', 'run', 'sei', 'follback', 'forget', 'sweet', 'welcome', 'selamat', '＿', 'sur', 'place', 'gusta', 'sabe', 'androidgames', 'tp', 'tiempo', 'بس', 'sou', 'tuh', 'vs', 'eyes', 'انا', 'picture', 'das', 'meet', 'anak', 'persona', 'essa', 'bored', 'following', 'nadie', 'nobody', 'dice', 'alone', 'sick', 'red', 'city', 'cinta', '月', 'linda', 'dream', 'story', 'km', 'het', 'waiting', '^_^', 'mine', 'что', 'reason', 'kk', 'لو', 'online', 'fast', 'udh', 'wanted', 'op', 'others', 'gay', 'n’t', 'used', 'sem', 'understand', 'moi', 'sm', 'aint', 'donde', 'bem', 'which', 'ng', 'followback', 'punya', 'late', 'anda', 'tidur', 'puedo', 'early', 'nd', 'personas', 'banyak', '✅', '➊', 'trust', 'noche', 'tl', '＞', '«', 'af', 'move', 'pro', 'bring', 'ku', 'called', 'relationship', 'idk', 'hurt', 'st', 'pernah', 'pessoas', 'hello', 'uno', 'unfollowers', 'cry']\n"
     ]
    }
   ],
   "source": [
    "words = model.index_to_key[:1_000]\n",
    "print(words)"
   ]
  },
  {
   "cell_type": "code",
   "execution_count": 14,
   "metadata": {},
   "outputs": [],
   "source": [
    "# for each word, compute it's vector with model\n",
    "word_vectors = np.array([model.get_vector(w) for w in words])"
   ]
  },
  {
   "cell_type": "code",
   "execution_count": 15,
   "metadata": {},
   "outputs": [],
   "source": [
    "assert isinstance(word_vectors, np.ndarray)\n",
    "assert word_vectors.shape == (len(words), 25)\n",
    "assert np.isfinite(word_vectors).all()"
   ]
  },
  {
   "cell_type": "code",
   "execution_count": 16,
   "metadata": {},
   "outputs": [
    {
     "data": {
      "text/plain": [
       "(1000, 25)"
      ]
     },
     "execution_count": 16,
     "metadata": {},
     "output_type": "execute_result"
    }
   ],
   "source": [
    "word_vectors.shape"
   ]
  },
  {
   "cell_type": "markdown",
   "metadata": {},
   "source": [
    "#### Linear projection: PCA\n",
    "\n",
    "The simplest linear dimensionality reduction method is __P__rincipial __C__omponent __A__nalysis.\n",
    "\n",
    "In geometric terms, PCA tries to find axes along which most of the variance occurs. The \"natural\" axes, if you wish.\n",
    "\n",
    "<img src=\"https://github.com/yandexdataschool/Practical_RL/raw/master/yet_another_week/_resource/pca_fish.png\" style=\"width:30%\">\n",
    "\n",
    "\n",
    "Under the hood, it attempts to decompose object-feature matrix $X$ into two smaller matrices: $W$ and $\\hat W$ minimizing _mean squared error_:\n",
    "\n",
    "$$\\|(X W) \\hat{W} - X\\|^2_2 \\to_{W, \\hat{W}} \\min$$\n",
    "- $X \\in \\mathbb{R}^{n \\times m}$ - object matrix (**centered**);\n",
    "- $W \\in \\mathbb{R}^{m \\times d}$ - matrix of direct transformation;\n",
    "- $\\hat{W} \\in \\mathbb{R}^{d \\times m}$ - matrix of reverse transformation;\n",
    "- $n$ samples, $m$ original dimensions and $d$ target dimensions;\n",
    "\n"
   ]
  },
  {
   "cell_type": "code",
   "execution_count": 17,
   "metadata": {},
   "outputs": [],
   "source": [
    "from sklearn.decomposition import PCA\n",
    "from sklearn.preprocessing import StandardScaler\n",
    "\n",
    "# map word vectors onto 2d plane with PCA. Use good old sklearn api (fit, transform)\n",
    "word_vectors_pca = PCA(n_components=2).fit_transform(word_vectors)\n",
    "word_vectors_pca = StandardScaler().fit_transform(word_vectors_pca)"
   ]
  },
  {
   "cell_type": "code",
   "execution_count": 18,
   "metadata": {},
   "outputs": [],
   "source": [
    "assert word_vectors_pca.shape == (len(word_vectors), 2), \"there must be a 2d vector for each word\"\n",
    "assert max(abs(word_vectors_pca.mean(0))) < 1e-5, \"points must be zero-centered\"\n",
    "assert max(abs(1.0 - word_vectors_pca.std(0))) < 1e-2, \"points must have unit variance\""
   ]
  },
  {
   "cell_type": "markdown",
   "metadata": {},
   "source": [
    "#### Let's draw it!"
   ]
  },
  {
   "cell_type": "code",
   "execution_count": 19,
   "metadata": {
    "scrolled": true
   },
   "outputs": [
    {
     "data": {
      "text/html": [
       "\n",
       "    <div class=\"bk-root\">\n",
       "        <a href=\"https://bokeh.org\" target=\"_blank\" class=\"bk-logo bk-logo-small bk-logo-notebook\"></a>\n",
       "        <span id=\"1002\">Loading BokehJS ...</span>\n",
       "    </div>"
      ]
     },
     "metadata": {},
     "output_type": "display_data"
    },
    {
     "data": {
      "application/javascript": [
       "\n",
       "(function(root) {\n",
       "  function now() {\n",
       "    return new Date();\n",
       "  }\n",
       "\n",
       "  const force = true;\n",
       "\n",
       "  if (typeof root._bokeh_onload_callbacks === \"undefined\" || force === true) {\n",
       "    root._bokeh_onload_callbacks = [];\n",
       "    root._bokeh_is_loading = undefined;\n",
       "  }\n",
       "\n",
       "  const JS_MIME_TYPE = 'application/javascript';\n",
       "  const HTML_MIME_TYPE = 'text/html';\n",
       "  const EXEC_MIME_TYPE = 'application/vnd.bokehjs_exec.v0+json';\n",
       "  const CLASS_NAME = 'output_bokeh rendered_html';\n",
       "\n",
       "  /**\n",
       "   * Render data to the DOM node\n",
       "   */\n",
       "  function render(props, node) {\n",
       "    const script = document.createElement(\"script\");\n",
       "    node.appendChild(script);\n",
       "  }\n",
       "\n",
       "  /**\n",
       "   * Handle when an output is cleared or removed\n",
       "   */\n",
       "  function handleClearOutput(event, handle) {\n",
       "    const cell = handle.cell;\n",
       "\n",
       "    const id = cell.output_area._bokeh_element_id;\n",
       "    const server_id = cell.output_area._bokeh_server_id;\n",
       "    // Clean up Bokeh references\n",
       "    if (id != null && id in Bokeh.index) {\n",
       "      Bokeh.index[id].model.document.clear();\n",
       "      delete Bokeh.index[id];\n",
       "    }\n",
       "\n",
       "    if (server_id !== undefined) {\n",
       "      // Clean up Bokeh references\n",
       "      const cmd_clean = \"from bokeh.io.state import curstate; print(curstate().uuid_to_server['\" + server_id + \"'].get_sessions()[0].document.roots[0]._id)\";\n",
       "      cell.notebook.kernel.execute(cmd_clean, {\n",
       "        iopub: {\n",
       "          output: function(msg) {\n",
       "            const id = msg.content.text.trim();\n",
       "            if (id in Bokeh.index) {\n",
       "              Bokeh.index[id].model.document.clear();\n",
       "              delete Bokeh.index[id];\n",
       "            }\n",
       "          }\n",
       "        }\n",
       "      });\n",
       "      // Destroy server and session\n",
       "      const cmd_destroy = \"import bokeh.io.notebook as ion; ion.destroy_server('\" + server_id + \"')\";\n",
       "      cell.notebook.kernel.execute(cmd_destroy);\n",
       "    }\n",
       "  }\n",
       "\n",
       "  /**\n",
       "   * Handle when a new output is added\n",
       "   */\n",
       "  function handleAddOutput(event, handle) {\n",
       "    const output_area = handle.output_area;\n",
       "    const output = handle.output;\n",
       "\n",
       "    // limit handleAddOutput to display_data with EXEC_MIME_TYPE content only\n",
       "    if ((output.output_type != \"display_data\") || (!Object.prototype.hasOwnProperty.call(output.data, EXEC_MIME_TYPE))) {\n",
       "      return\n",
       "    }\n",
       "\n",
       "    const toinsert = output_area.element.find(\".\" + CLASS_NAME.split(' ')[0]);\n",
       "\n",
       "    if (output.metadata[EXEC_MIME_TYPE][\"id\"] !== undefined) {\n",
       "      toinsert[toinsert.length - 1].firstChild.textContent = output.data[JS_MIME_TYPE];\n",
       "      // store reference to embed id on output_area\n",
       "      output_area._bokeh_element_id = output.metadata[EXEC_MIME_TYPE][\"id\"];\n",
       "    }\n",
       "    if (output.metadata[EXEC_MIME_TYPE][\"server_id\"] !== undefined) {\n",
       "      const bk_div = document.createElement(\"div\");\n",
       "      bk_div.innerHTML = output.data[HTML_MIME_TYPE];\n",
       "      const script_attrs = bk_div.children[0].attributes;\n",
       "      for (let i = 0; i < script_attrs.length; i++) {\n",
       "        toinsert[toinsert.length - 1].firstChild.setAttribute(script_attrs[i].name, script_attrs[i].value);\n",
       "        toinsert[toinsert.length - 1].firstChild.textContent = bk_div.children[0].textContent\n",
       "      }\n",
       "      // store reference to server id on output_area\n",
       "      output_area._bokeh_server_id = output.metadata[EXEC_MIME_TYPE][\"server_id\"];\n",
       "    }\n",
       "  }\n",
       "\n",
       "  function register_renderer(events, OutputArea) {\n",
       "\n",
       "    function append_mime(data, metadata, element) {\n",
       "      // create a DOM node to render to\n",
       "      const toinsert = this.create_output_subarea(\n",
       "        metadata,\n",
       "        CLASS_NAME,\n",
       "        EXEC_MIME_TYPE\n",
       "      );\n",
       "      this.keyboard_manager.register_events(toinsert);\n",
       "      // Render to node\n",
       "      const props = {data: data, metadata: metadata[EXEC_MIME_TYPE]};\n",
       "      render(props, toinsert[toinsert.length - 1]);\n",
       "      element.append(toinsert);\n",
       "      return toinsert\n",
       "    }\n",
       "\n",
       "    /* Handle when an output is cleared or removed */\n",
       "    events.on('clear_output.CodeCell', handleClearOutput);\n",
       "    events.on('delete.Cell', handleClearOutput);\n",
       "\n",
       "    /* Handle when a new output is added */\n",
       "    events.on('output_added.OutputArea', handleAddOutput);\n",
       "\n",
       "    /**\n",
       "     * Register the mime type and append_mime function with output_area\n",
       "     */\n",
       "    OutputArea.prototype.register_mime_type(EXEC_MIME_TYPE, append_mime, {\n",
       "      /* Is output safe? */\n",
       "      safe: true,\n",
       "      /* Index of renderer in `output_area.display_order` */\n",
       "      index: 0\n",
       "    });\n",
       "  }\n",
       "\n",
       "  // register the mime type if in Jupyter Notebook environment and previously unregistered\n",
       "  if (root.Jupyter !== undefined) {\n",
       "    const events = require('base/js/events');\n",
       "    const OutputArea = require('notebook/js/outputarea').OutputArea;\n",
       "\n",
       "    if (OutputArea.prototype.mime_types().indexOf(EXEC_MIME_TYPE) == -1) {\n",
       "      register_renderer(events, OutputArea);\n",
       "    }\n",
       "  }\n",
       "\n",
       "  \n",
       "  if (typeof (root._bokeh_timeout) === \"undefined\" || force === true) {\n",
       "    root._bokeh_timeout = Date.now() + 5000;\n",
       "    root._bokeh_failed_load = false;\n",
       "  }\n",
       "\n",
       "  const NB_LOAD_WARNING = {'data': {'text/html':\n",
       "     \"<div style='background-color: #fdd'>\\n\"+\n",
       "     \"<p>\\n\"+\n",
       "     \"BokehJS does not appear to have successfully loaded. If loading BokehJS from CDN, this \\n\"+\n",
       "     \"may be due to a slow or bad network connection. Possible fixes:\\n\"+\n",
       "     \"</p>\\n\"+\n",
       "     \"<ul>\\n\"+\n",
       "     \"<li>re-rerun `output_notebook()` to attempt to load from CDN again, or</li>\\n\"+\n",
       "     \"<li>use INLINE resources instead, as so:</li>\\n\"+\n",
       "     \"</ul>\\n\"+\n",
       "     \"<code>\\n\"+\n",
       "     \"from bokeh.resources import INLINE\\n\"+\n",
       "     \"output_notebook(resources=INLINE)\\n\"+\n",
       "     \"</code>\\n\"+\n",
       "     \"</div>\"}};\n",
       "\n",
       "  function display_loaded() {\n",
       "    const el = document.getElementById(\"1002\");\n",
       "    if (el != null) {\n",
       "      el.textContent = \"BokehJS is loading...\";\n",
       "    }\n",
       "    if (root.Bokeh !== undefined) {\n",
       "      if (el != null) {\n",
       "        el.textContent = \"BokehJS \" + root.Bokeh.version + \" successfully loaded.\";\n",
       "      }\n",
       "    } else if (Date.now() < root._bokeh_timeout) {\n",
       "      setTimeout(display_loaded, 100)\n",
       "    }\n",
       "  }\n",
       "\n",
       "\n",
       "  function run_callbacks() {\n",
       "    try {\n",
       "      root._bokeh_onload_callbacks.forEach(function(callback) {\n",
       "        if (callback != null)\n",
       "          callback();\n",
       "      });\n",
       "    } finally {\n",
       "      delete root._bokeh_onload_callbacks\n",
       "    }\n",
       "    console.debug(\"Bokeh: all callbacks have finished\");\n",
       "  }\n",
       "\n",
       "  function load_libs(css_urls, js_urls, callback) {\n",
       "    if (css_urls == null) css_urls = [];\n",
       "    if (js_urls == null) js_urls = [];\n",
       "\n",
       "    root._bokeh_onload_callbacks.push(callback);\n",
       "    if (root._bokeh_is_loading > 0) {\n",
       "      console.debug(\"Bokeh: BokehJS is being loaded, scheduling callback at\", now());\n",
       "      return null;\n",
       "    }\n",
       "    if (js_urls == null || js_urls.length === 0) {\n",
       "      run_callbacks();\n",
       "      return null;\n",
       "    }\n",
       "    console.debug(\"Bokeh: BokehJS not loaded, scheduling load and callback at\", now());\n",
       "    root._bokeh_is_loading = css_urls.length + js_urls.length;\n",
       "\n",
       "    function on_load() {\n",
       "      root._bokeh_is_loading--;\n",
       "      if (root._bokeh_is_loading === 0) {\n",
       "        console.debug(\"Bokeh: all BokehJS libraries/stylesheets loaded\");\n",
       "        run_callbacks()\n",
       "      }\n",
       "    }\n",
       "\n",
       "    function on_error(url) {\n",
       "      console.error(\"failed to load \" + url);\n",
       "    }\n",
       "\n",
       "    for (let i = 0; i < css_urls.length; i++) {\n",
       "      const url = css_urls[i];\n",
       "      const element = document.createElement(\"link\");\n",
       "      element.onload = on_load;\n",
       "      element.onerror = on_error.bind(null, url);\n",
       "      element.rel = \"stylesheet\";\n",
       "      element.type = \"text/css\";\n",
       "      element.href = url;\n",
       "      console.debug(\"Bokeh: injecting link tag for BokehJS stylesheet: \", url);\n",
       "      document.body.appendChild(element);\n",
       "    }\n",
       "\n",
       "    for (let i = 0; i < js_urls.length; i++) {\n",
       "      const url = js_urls[i];\n",
       "      const element = document.createElement('script');\n",
       "      element.onload = on_load;\n",
       "      element.onerror = on_error.bind(null, url);\n",
       "      element.async = false;\n",
       "      element.src = url;\n",
       "      console.debug(\"Bokeh: injecting script tag for BokehJS library: \", url);\n",
       "      document.head.appendChild(element);\n",
       "    }\n",
       "  };\n",
       "\n",
       "  function inject_raw_css(css) {\n",
       "    const element = document.createElement(\"style\");\n",
       "    element.appendChild(document.createTextNode(css));\n",
       "    document.body.appendChild(element);\n",
       "  }\n",
       "\n",
       "  \n",
       "  const js_urls = [\"https://cdn.bokeh.org/bokeh/release/bokeh-2.4.2.min.js\", \"https://cdn.bokeh.org/bokeh/release/bokeh-gl-2.4.2.min.js\", \"https://cdn.bokeh.org/bokeh/release/bokeh-widgets-2.4.2.min.js\", \"https://cdn.bokeh.org/bokeh/release/bokeh-tables-2.4.2.min.js\", \"https://cdn.bokeh.org/bokeh/release/bokeh-mathjax-2.4.2.min.js\"];\n",
       "  const css_urls = [];\n",
       "  \n",
       "\n",
       "  const inline_js = [\n",
       "    function(Bokeh) {\n",
       "      Bokeh.set_log_level(\"info\");\n",
       "    },\n",
       "    function(Bokeh) {\n",
       "    \n",
       "    \n",
       "    }\n",
       "  ];\n",
       "\n",
       "  function run_inline_js() {\n",
       "    \n",
       "    if (root.Bokeh !== undefined || force === true) {\n",
       "      \n",
       "    for (let i = 0; i < inline_js.length; i++) {\n",
       "      inline_js[i].call(root, root.Bokeh);\n",
       "    }\n",
       "    if (force === true) {\n",
       "        display_loaded();\n",
       "      }} else if (Date.now() < root._bokeh_timeout) {\n",
       "      setTimeout(run_inline_js, 100);\n",
       "    } else if (!root._bokeh_failed_load) {\n",
       "      console.log(\"Bokeh: BokehJS failed to load within specified timeout.\");\n",
       "      root._bokeh_failed_load = true;\n",
       "    } else if (force !== true) {\n",
       "      const cell = $(document.getElementById(\"1002\")).parents('.cell').data().cell;\n",
       "      cell.output_area.append_execute_result(NB_LOAD_WARNING)\n",
       "    }\n",
       "\n",
       "  }\n",
       "\n",
       "  if (root._bokeh_is_loading === 0) {\n",
       "    console.debug(\"Bokeh: BokehJS loaded, going straight to plotting\");\n",
       "    run_inline_js();\n",
       "  } else {\n",
       "    load_libs(css_urls, js_urls, function() {\n",
       "      console.debug(\"Bokeh: BokehJS plotting callback run at\", now());\n",
       "      run_inline_js();\n",
       "    });\n",
       "  }\n",
       "}(window));"
      ],
      "application/vnd.bokehjs_load.v0+json": "\n(function(root) {\n  function now() {\n    return new Date();\n  }\n\n  const force = true;\n\n  if (typeof root._bokeh_onload_callbacks === \"undefined\" || force === true) {\n    root._bokeh_onload_callbacks = [];\n    root._bokeh_is_loading = undefined;\n  }\n\n  \n\n  \n  if (typeof (root._bokeh_timeout) === \"undefined\" || force === true) {\n    root._bokeh_timeout = Date.now() + 5000;\n    root._bokeh_failed_load = false;\n  }\n\n  const NB_LOAD_WARNING = {'data': {'text/html':\n     \"<div style='background-color: #fdd'>\\n\"+\n     \"<p>\\n\"+\n     \"BokehJS does not appear to have successfully loaded. If loading BokehJS from CDN, this \\n\"+\n     \"may be due to a slow or bad network connection. Possible fixes:\\n\"+\n     \"</p>\\n\"+\n     \"<ul>\\n\"+\n     \"<li>re-rerun `output_notebook()` to attempt to load from CDN again, or</li>\\n\"+\n     \"<li>use INLINE resources instead, as so:</li>\\n\"+\n     \"</ul>\\n\"+\n     \"<code>\\n\"+\n     \"from bokeh.resources import INLINE\\n\"+\n     \"output_notebook(resources=INLINE)\\n\"+\n     \"</code>\\n\"+\n     \"</div>\"}};\n\n  function display_loaded() {\n    const el = document.getElementById(\"1002\");\n    if (el != null) {\n      el.textContent = \"BokehJS is loading...\";\n    }\n    if (root.Bokeh !== undefined) {\n      if (el != null) {\n        el.textContent = \"BokehJS \" + root.Bokeh.version + \" successfully loaded.\";\n      }\n    } else if (Date.now() < root._bokeh_timeout) {\n      setTimeout(display_loaded, 100)\n    }\n  }\n\n\n  function run_callbacks() {\n    try {\n      root._bokeh_onload_callbacks.forEach(function(callback) {\n        if (callback != null)\n          callback();\n      });\n    } finally {\n      delete root._bokeh_onload_callbacks\n    }\n    console.debug(\"Bokeh: all callbacks have finished\");\n  }\n\n  function load_libs(css_urls, js_urls, callback) {\n    if (css_urls == null) css_urls = [];\n    if (js_urls == null) js_urls = [];\n\n    root._bokeh_onload_callbacks.push(callback);\n    if (root._bokeh_is_loading > 0) {\n      console.debug(\"Bokeh: BokehJS is being loaded, scheduling callback at\", now());\n      return null;\n    }\n    if (js_urls == null || js_urls.length === 0) {\n      run_callbacks();\n      return null;\n    }\n    console.debug(\"Bokeh: BokehJS not loaded, scheduling load and callback at\", now());\n    root._bokeh_is_loading = css_urls.length + js_urls.length;\n\n    function on_load() {\n      root._bokeh_is_loading--;\n      if (root._bokeh_is_loading === 0) {\n        console.debug(\"Bokeh: all BokehJS libraries/stylesheets loaded\");\n        run_callbacks()\n      }\n    }\n\n    function on_error(url) {\n      console.error(\"failed to load \" + url);\n    }\n\n    for (let i = 0; i < css_urls.length; i++) {\n      const url = css_urls[i];\n      const element = document.createElement(\"link\");\n      element.onload = on_load;\n      element.onerror = on_error.bind(null, url);\n      element.rel = \"stylesheet\";\n      element.type = \"text/css\";\n      element.href = url;\n      console.debug(\"Bokeh: injecting link tag for BokehJS stylesheet: \", url);\n      document.body.appendChild(element);\n    }\n\n    for (let i = 0; i < js_urls.length; i++) {\n      const url = js_urls[i];\n      const element = document.createElement('script');\n      element.onload = on_load;\n      element.onerror = on_error.bind(null, url);\n      element.async = false;\n      element.src = url;\n      console.debug(\"Bokeh: injecting script tag for BokehJS library: \", url);\n      document.head.appendChild(element);\n    }\n  };\n\n  function inject_raw_css(css) {\n    const element = document.createElement(\"style\");\n    element.appendChild(document.createTextNode(css));\n    document.body.appendChild(element);\n  }\n\n  \n  const js_urls = [\"https://cdn.bokeh.org/bokeh/release/bokeh-2.4.2.min.js\", \"https://cdn.bokeh.org/bokeh/release/bokeh-gl-2.4.2.min.js\", \"https://cdn.bokeh.org/bokeh/release/bokeh-widgets-2.4.2.min.js\", \"https://cdn.bokeh.org/bokeh/release/bokeh-tables-2.4.2.min.js\", \"https://cdn.bokeh.org/bokeh/release/bokeh-mathjax-2.4.2.min.js\"];\n  const css_urls = [];\n  \n\n  const inline_js = [\n    function(Bokeh) {\n      Bokeh.set_log_level(\"info\");\n    },\n    function(Bokeh) {\n    \n    \n    }\n  ];\n\n  function run_inline_js() {\n    \n    if (root.Bokeh !== undefined || force === true) {\n      \n    for (let i = 0; i < inline_js.length; i++) {\n      inline_js[i].call(root, root.Bokeh);\n    }\n    if (force === true) {\n        display_loaded();\n      }} else if (Date.now() < root._bokeh_timeout) {\n      setTimeout(run_inline_js, 100);\n    } else if (!root._bokeh_failed_load) {\n      console.log(\"Bokeh: BokehJS failed to load within specified timeout.\");\n      root._bokeh_failed_load = true;\n    } else if (force !== true) {\n      const cell = $(document.getElementById(\"1002\")).parents('.cell').data().cell;\n      cell.output_area.append_execute_result(NB_LOAD_WARNING)\n    }\n\n  }\n\n  if (root._bokeh_is_loading === 0) {\n    console.debug(\"Bokeh: BokehJS loaded, going straight to plotting\");\n    run_inline_js();\n  } else {\n    load_libs(css_urls, js_urls, function() {\n      console.debug(\"Bokeh: BokehJS plotting callback run at\", now());\n      run_inline_js();\n    });\n  }\n}(window));"
     },
     "metadata": {},
     "output_type": "display_data"
    }
   ],
   "source": [
    "import bokeh.models as bm, bokeh.plotting as pl\n",
    "from bokeh.io import output_notebook\n",
    "output_notebook()\n",
    "\n",
    "def draw_vectors(x, y, radius=10, alpha=0.25, color='blue',\n",
    "                 width=600, height=400, show=True, **kwargs):\n",
    "    \"\"\" draws an interactive plot for data points with auxilirary info on hover \"\"\"\n",
    "    if isinstance(color, str): color = [color] * len(x)\n",
    "    data_source = bm.ColumnDataSource({ 'x' : x, 'y' : y, 'color': color, **kwargs })\n",
    "\n",
    "    fig = pl.figure(active_scroll='wheel_zoom', width=width, height=height)\n",
    "    fig.scatter('x', 'y', size=radius, color='color', alpha=alpha, source=data_source)\n",
    "\n",
    "    fig.add_tools(bm.HoverTool(tooltips=[(key, \"@\" + key) for key in kwargs.keys()]))\n",
    "    if show: pl.show(fig)\n",
    "    return fig"
   ]
  },
  {
   "cell_type": "code",
   "execution_count": 20,
   "metadata": {
    "scrolled": false
   },
   "outputs": [
    {
     "data": {
      "text/html": [
       "\n",
       "\n",
       "\n",
       "\n",
       "\n",
       "\n",
       "  <div class=\"bk-root\" id=\"e1c77ac4-f7da-4ca4-b2d4-69ceb89fa2e6\" data-root-id=\"1004\"></div>\n"
      ]
     },
     "metadata": {},
     "output_type": "display_data"
    },
    {
     "data": {
      "application/javascript": [
       "(function(root) {\n",
       "  function embed_document(root) {\n",
       "    \n",
       "  const docs_json = {\"5cc5b4a2-56b1-48cf-8d20-c680647d5081\":{\"defs\":[],\"roots\":{\"references\":[{\"attributes\":{\"below\":[{\"id\":\"1013\"}],\"center\":[{\"id\":\"1016\"},{\"id\":\"1020\"}],\"height\":400,\"left\":[{\"id\":\"1017\"}],\"renderers\":[{\"id\":\"1039\"}],\"title\":{\"id\":\"1043\"},\"toolbar\":{\"id\":\"1028\"},\"x_range\":{\"id\":\"1005\"},\"x_scale\":{\"id\":\"1009\"},\"y_range\":{\"id\":\"1007\"},\"y_scale\":{\"id\":\"1011\"}},\"id\":\"1004\",\"subtype\":\"Figure\",\"type\":\"Plot\"},{\"attributes\":{\"coordinates\":null,\"group\":null},\"id\":\"1043\",\"type\":\"Title\"},{\"attributes\":{},\"id\":\"1051\",\"type\":\"UnionRenderers\"},{\"attributes\":{\"fill_alpha\":{\"value\":0.25},\"fill_color\":{\"field\":\"color\"},\"hatch_alpha\":{\"value\":0.25},\"hatch_color\":{\"field\":\"color\"},\"line_alpha\":{\"value\":0.25},\"line_color\":{\"field\":\"color\"},\"size\":{\"value\":10},\"x\":{\"field\":\"x\"},\"y\":{\"field\":\"y\"}},\"id\":\"1036\",\"type\":\"Scatter\"},{\"attributes\":{\"data\":{\"color\":[\"blue\",\"blue\",\"blue\",\"blue\",\"blue\",\"blue\",\"blue\",\"blue\",\"blue\",\"blue\",\"blue\",\"blue\",\"blue\",\"blue\",\"blue\",\"blue\",\"blue\",\"blue\",\"blue\",\"blue\",\"blue\",\"blue\",\"blue\",\"blue\",\"blue\",\"blue\",\"blue\",\"blue\",\"blue\",\"blue\",\"blue\",\"blue\",\"blue\",\"blue\",\"blue\",\"blue\",\"blue\",\"blue\",\"blue\",\"blue\",\"blue\",\"blue\",\"blue\",\"blue\",\"blue\",\"blue\",\"blue\",\"blue\",\"blue\",\"blue\",\"blue\",\"blue\",\"blue\",\"blue\",\"blue\",\"blue\",\"blue\",\"blue\",\"blue\",\"blue\",\"blue\",\"blue\",\"blue\",\"blue\",\"blue\",\"blue\",\"blue\",\"blue\",\"blue\",\"blue\",\"blue\",\"blue\",\"blue\",\"blue\",\"blue\",\"blue\",\"blue\",\"blue\",\"blue\",\"blue\",\"blue\",\"blue\",\"blue\",\"blue\",\"blue\",\"blue\",\"blue\",\"blue\",\"blue\",\"blue\",\"blue\",\"blue\",\"blue\",\"blue\",\"blue\",\"blue\",\"blue\",\"blue\",\"blue\",\"blue\",\"blue\",\"blue\",\"blue\",\"blue\",\"blue\",\"blue\",\"blue\",\"blue\",\"blue\",\"blue\",\"blue\",\"blue\",\"blue\",\"blue\",\"blue\",\"blue\",\"blue\",\"blue\",\"blue\",\"blue\",\"blue\",\"blue\",\"blue\",\"blue\",\"blue\",\"blue\",\"blue\",\"blue\",\"blue\",\"blue\",\"blue\",\"blue\",\"blue\",\"blue\",\"blue\",\"blue\",\"blue\",\"blue\",\"blue\",\"blue\",\"blue\",\"blue\",\"blue\",\"blue\",\"blue\",\"blue\",\"blue\",\"blue\",\"blue\",\"blue\",\"blue\",\"blue\",\"blue\",\"blue\",\"blue\",\"blue\",\"blue\",\"blue\",\"blue\",\"blue\",\"blue\",\"blue\",\"blue\",\"blue\",\"blue\",\"blue\",\"blue\",\"blue\",\"blue\",\"blue\",\"blue\",\"blue\",\"blue\",\"blue\",\"blue\",\"blue\",\"blue\",\"blue\",\"blue\",\"blue\",\"blue\",\"blue\",\"blue\",\"blue\",\"blue\",\"blue\",\"blue\",\"blue\",\"blue\",\"blue\",\"blue\",\"blue\",\"blue\",\"blue\",\"blue\",\"blue\",\"blue\",\"blue\",\"blue\",\"blue\",\"blue\",\"blue\",\"blue\",\"blue\",\"blue\",\"blue\",\"blue\",\"blue\",\"blue\",\"blue\",\"blue\",\"blue\",\"blue\",\"blue\",\"blue\",\"blue\",\"blue\",\"blue\",\"blue\",\"blue\",\"blue\",\"blue\",\"blue\",\"blue\",\"blue\",\"blue\",\"blue\",\"blue\",\"blue\",\"blue\",\"blue\",\"blue\",\"blue\",\"blue\",\"blue\",\"blue\",\"blue\",\"blue\",\"blue\",\"blue\",\"blue\",\"blue\",\"blue\",\"blue\",\"blue\",\"blue\",\"blue\",\"blue\",\"blue\",\"blue\",\"blue\",\"blue\",\"blue\",\"blue\",\"blue\",\"blue\",\"blue\",\"blue\",\"blue\",\"blue\",\"blue\",\"blue\",\"blue\",\"blue\",\"blue\",\"blue\",\"blue\",\"blue\",\"blue\",\"blue\",\"blue\",\"blue\",\"blue\",\"blue\",\"blue\",\"blue\",\"blue\",\"blue\",\"blue\",\"blue\",\"blue\",\"blue\",\"blue\",\"blue\",\"blue\",\"blue\",\"blue\",\"blue\",\"blue\",\"blue\",\"blue\",\"blue\",\"blue\",\"blue\",\"blue\",\"blue\",\"blue\",\"blue\",\"blue\",\"blue\",\"blue\",\"blue\",\"blue\",\"blue\",\"blue\",\"blue\",\"blue\",\"blue\",\"blue\",\"blue\",\"blue\",\"blue\",\"blue\",\"blue\",\"blue\",\"blue\",\"blue\",\"blue\",\"blue\",\"blue\",\"blue\",\"blue\",\"blue\",\"blue\",\"blue\",\"blue\",\"blue\",\"blue\",\"blue\",\"blue\",\"blue\",\"blue\",\"blue\",\"blue\",\"blue\",\"blue\",\"blue\",\"blue\",\"blue\",\"blue\",\"blue\",\"blue\",\"blue\",\"blue\",\"blue\",\"blue\",\"blue\",\"blue\",\"blue\",\"blue\",\"blue\",\"blue\",\"blue\",\"blue\",\"blue\",\"blue\",\"blue\",\"blue\",\"blue\",\"blue\",\"blue\",\"blue\",\"blue\",\"blue\",\"blue\",\"blue\",\"blue\",\"blue\",\"blue\",\"blue\",\"blue\",\"blue\",\"blue\",\"blue\",\"blue\",\"blue\",\"blue\",\"blue\",\"blue\",\"blue\",\"blue\",\"blue\",\"blue\",\"blue\",\"blue\",\"blue\",\"blue\",\"blue\",\"blue\",\"blue\",\"blue\",\"blue\",\"blue\",\"blue\",\"blue\",\"blue\",\"blue\",\"blue\",\"blue\",\"blue\",\"blue\",\"blue\",\"blue\",\"blue\",\"blue\",\"blue\",\"blue\",\"blue\",\"blue\",\"blue\",\"blue\",\"blue\",\"blue\",\"blue\",\"blue\",\"blue\",\"blue\",\"blue\",\"blue\",\"blue\",\"blue\",\"blue\",\"blue\",\"blue\",\"blue\",\"blue\",\"blue\",\"blue\",\"blue\",\"blue\",\"blue\",\"blue\",\"blue\",\"blue\",\"blue\",\"blue\",\"blue\",\"blue\",\"blue\",\"blue\",\"blue\",\"blue\",\"blue\",\"blue\",\"blue\",\"blue\",\"blue\",\"blue\",\"blue\",\"blue\",\"blue\",\"blue\",\"blue\",\"blue\",\"blue\",\"blue\",\"blue\",\"blue\",\"blue\",\"blue\",\"blue\",\"blue\",\"blue\",\"blue\",\"blue\",\"blue\",\"blue\",\"blue\",\"blue\",\"blue\",\"blue\",\"blue\",\"blue\",\"blue\",\"blue\",\"blue\",\"blue\",\"blue\",\"blue\",\"blue\",\"blue\",\"blue\",\"blue\",\"blue\",\"blue\",\"blue\",\"blue\",\"blue\",\"blue\",\"blue\",\"blue\",\"blue\",\"blue\",\"blue\",\"blue\",\"blue\",\"blue\",\"blue\",\"blue\",\"blue\",\"blue\",\"blue\",\"blue\",\"blue\",\"blue\",\"blue\",\"blue\",\"blue\",\"blue\",\"blue\",\"blue\",\"blue\",\"blue\",\"blue\",\"blue\",\"blue\",\"blue\",\"blue\",\"blue\",\"blue\",\"blue\",\"blue\",\"blue\",\"blue\",\"blue\",\"blue\",\"blue\",\"blue\",\"blue\",\"blue\",\"blue\",\"blue\",\"blue\",\"blue\",\"blue\",\"blue\",\"blue\",\"blue\",\"blue\",\"blue\",\"blue\",\"blue\",\"blue\",\"blue\",\"blue\",\"blue\",\"blue\",\"blue\",\"blue\",\"blue\",\"blue\",\"blue\",\"blue\",\"blue\",\"blue\",\"blue\",\"blue\",\"blue\",\"blue\",\"blue\",\"blue\",\"blue\",\"blue\",\"blue\",\"blue\",\"blue\",\"blue\",\"blue\",\"blue\",\"blue\",\"blue\",\"blue\",\"blue\",\"blue\",\"blue\",\"blue\",\"blue\",\"blue\",\"blue\",\"blue\",\"blue\",\"blue\",\"blue\",\"blue\",\"blue\",\"blue\",\"blue\",\"blue\",\"blue\",\"blue\",\"blue\",\"blue\",\"blue\",\"blue\",\"blue\",\"blue\",\"blue\",\"blue\",\"blue\",\"blue\",\"blue\",\"blue\",\"blue\",\"blue\",\"blue\",\"blue\",\"blue\",\"blue\",\"blue\",\"blue\",\"blue\",\"blue\",\"blue\",\"blue\",\"blue\",\"blue\",\"blue\",\"blue\",\"blue\",\"blue\",\"blue\",\"blue\",\"blue\",\"blue\",\"blue\",\"blue\",\"blue\",\"blue\",\"blue\",\"blue\",\"blue\",\"blue\",\"blue\",\"blue\",\"blue\",\"blue\",\"blue\",\"blue\",\"blue\",\"blue\",\"blue\",\"blue\",\"blue\",\"blue\",\"blue\",\"blue\",\"blue\",\"blue\",\"blue\",\"blue\",\"blue\",\"blue\",\"blue\",\"blue\",\"blue\",\"blue\",\"blue\",\"blue\",\"blue\",\"blue\",\"blue\",\"blue\",\"blue\",\"blue\",\"blue\",\"blue\",\"blue\",\"blue\",\"blue\",\"blue\",\"blue\",\"blue\",\"blue\",\"blue\",\"blue\",\"blue\",\"blue\",\"blue\",\"blue\",\"blue\",\"blue\",\"blue\",\"blue\",\"blue\",\"blue\",\"blue\",\"blue\",\"blue\",\"blue\",\"blue\",\"blue\",\"blue\",\"blue\",\"blue\",\"blue\",\"blue\",\"blue\",\"blue\",\"blue\",\"blue\",\"blue\",\"blue\",\"blue\",\"blue\",\"blue\",\"blue\",\"blue\",\"blue\",\"blue\",\"blue\",\"blue\",\"blue\",\"blue\",\"blue\",\"blue\",\"blue\",\"blue\",\"blue\",\"blue\",\"blue\",\"blue\",\"blue\",\"blue\",\"blue\",\"blue\",\"blue\",\"blue\",\"blue\",\"blue\",\"blue\",\"blue\",\"blue\",\"blue\",\"blue\",\"blue\",\"blue\",\"blue\",\"blue\",\"blue\",\"blue\",\"blue\",\"blue\",\"blue\",\"blue\",\"blue\",\"blue\",\"blue\",\"blue\",\"blue\",\"blue\",\"blue\",\"blue\",\"blue\",\"blue\",\"blue\",\"blue\",\"blue\",\"blue\",\"blue\",\"blue\",\"blue\",\"blue\",\"blue\",\"blue\",\"blue\",\"blue\",\"blue\",\"blue\",\"blue\",\"blue\",\"blue\",\"blue\",\"blue\",\"blue\",\"blue\",\"blue\",\"blue\",\"blue\",\"blue\",\"blue\",\"blue\",\"blue\",\"blue\",\"blue\",\"blue\",\"blue\",\"blue\",\"blue\",\"blue\",\"blue\",\"blue\",\"blue\",\"blue\",\"blue\",\"blue\",\"blue\",\"blue\",\"blue\",\"blue\",\"blue\",\"blue\",\"blue\",\"blue\",\"blue\",\"blue\",\"blue\",\"blue\",\"blue\",\"blue\",\"blue\",\"blue\",\"blue\",\"blue\",\"blue\",\"blue\",\"blue\",\"blue\",\"blue\",\"blue\",\"blue\",\"blue\",\"blue\",\"blue\",\"blue\",\"blue\",\"blue\",\"blue\",\"blue\",\"blue\",\"blue\",\"blue\",\"blue\",\"blue\",\"blue\",\"blue\",\"blue\",\"blue\",\"blue\",\"blue\",\"blue\",\"blue\",\"blue\",\"blue\",\"blue\",\"blue\",\"blue\",\"blue\",\"blue\",\"blue\",\"blue\",\"blue\",\"blue\",\"blue\",\"blue\",\"blue\",\"blue\",\"blue\",\"blue\",\"blue\",\"blue\",\"blue\",\"blue\",\"blue\",\"blue\",\"blue\",\"blue\",\"blue\",\"blue\",\"blue\",\"blue\",\"blue\",\"blue\",\"blue\",\"blue\",\"blue\",\"blue\",\"blue\",\"blue\",\"blue\",\"blue\",\"blue\",\"blue\",\"blue\",\"blue\",\"blue\",\"blue\",\"blue\",\"blue\",\"blue\",\"blue\",\"blue\",\"blue\",\"blue\",\"blue\",\"blue\",\"blue\",\"blue\",\"blue\",\"blue\",\"blue\",\"blue\",\"blue\",\"blue\",\"blue\",\"blue\",\"blue\",\"blue\",\"blue\",\"blue\",\"blue\",\"blue\",\"blue\",\"blue\",\"blue\",\"blue\",\"blue\",\"blue\",\"blue\",\"blue\",\"blue\",\"blue\",\"blue\",\"blue\",\"blue\",\"blue\",\"blue\",\"blue\",\"blue\",\"blue\",\"blue\",\"blue\",\"blue\",\"blue\",\"blue\",\"blue\",\"blue\",\"blue\",\"blue\",\"blue\",\"blue\",\"blue\",\"blue\",\"blue\",\"blue\",\"blue\",\"blue\",\"blue\",\"blue\",\"blue\",\"blue\",\"blue\",\"blue\",\"blue\",\"blue\",\"blue\",\"blue\",\"blue\",\"blue\",\"blue\",\"blue\",\"blue\",\"blue\",\"blue\",\"blue\",\"blue\",\"blue\",\"blue\",\"blue\",\"blue\",\"blue\",\"blue\",\"blue\",\"blue\",\"blue\",\"blue\",\"blue\",\"blue\",\"blue\",\"blue\",\"blue\",\"blue\",\"blue\",\"blue\",\"blue\",\"blue\",\"blue\",\"blue\",\"blue\",\"blue\",\"blue\",\"blue\",\"blue\",\"blue\",\"blue\",\"blue\",\"blue\",\"blue\",\"blue\",\"blue\",\"blue\"],\"token\":[\"<user>\",\".\",\":\",\"rt\",\",\",\"<repeat>\",\"<hashtag>\",\"<number>\",\"<url>\",\"!\",\"i\",\"a\",\"\\\"\",\"the\",\"?\",\"you\",\"to\",\"(\",\"<allcaps>\",\"<elong>\",\")\",\"me\",\"de\",\"<smile>\",\"\\uff01\",\"que\",\"and\",\"\\u3002\",\"-\",\"my\",\"no\",\"\\u3001\",\"is\",\"it\",\"\\u2026\",\"in\",\"n\",\"for\",\"/\",\"of\",\"la\",\"'s\",\"*\",\"do\",\"n't\",\"that\",\"on\",\"y\",\"'\",\"e\",\"o\",\"u\",\"en\",\"this\",\"el\",\"so\",\"be\",\"'m\",\"with\",\"just\",\">\",\"your\",\"^\",\"like\",\"have\",\"te\",\"at\",\"\\uff1f\",\"love\",\"se\",\"are\",\"<\",\"m\",\"r\",\"if\",\"all\",\"b\",\"\\u30fb\",\"not\",\"but\",\"we\",\"es\",\"ya\",\"&\",\"follow\",\"up\",\"what\",\"get\",\"lol\",\"un\",\"\\u2665\",\"lo\",\"when\",\"was\",\"\\u201c\",\"\\u201d\",\"one\",\"por\",\"si\",\"out\",\"_\",\"mi\",\"can\",\"<sadface>\",\"\\u0645\\u0646\",\"\\u2661\",\"\\u00b4\",\"he\",\"con\",\"they\",\"now\",\"go\",\"\\u060c\",\"para\",\"los\",\"know\",\"haha\",\"good\",\"tu\",\"back\",\"~\",\"about\",\"new\",\";\",\"as\",\"day\",\"how\",\"who\",\"will\",\"want\",\"people\",\"yo\",\"eu\",\"from\",\"di\",\"time\",\"<heart>\",\"s\",\"aku\",\"da\",\"'re\",\"<lolface>\",\"una\",\"got\",\"las\",\"more\",\"x\",\"she\",\"today\",\"\\uff08\",\">>\",\"k\",\"by\",\"or\",\"\\u0641\\u064a\",\"\\uff65\",\"too\",\"le\",\"\\u00e9\",\"|\",\"[\",\"\\uff09\",\"]\",\"see\",\"why\",\"yg\",\"ca\",\"como\",\"her\",\"\\u2014\",\"q\",\"need\",\"an\",\"na\",\"\\u7b11\",\"there\",\"\\u03c9\",\"happy\",\"im\",\"mas\",\"je\",\"life\",\"really\",\"make\",\"yang\",\"shit\",\"think\",\"t\",\"\\u2764\",\"n\\u00e3o\",\"never\",\"some\",\"\\uff5e\",\"oh\",\"\\u2605\",\"did\",\"would\",\"del\",\"`\",\"d\",\"please\",\"via\",\"much\",\"fuck\",\"al\",\"dia\",\"$\",\"\\u0648\",\"right\",\"best\",\"c\",\"going\",\"\\u0627\\u0644\\u0644\\u0647\",\"pero\",\"only\",\"has\",\"\\u266a\",\"'ll\",\"twitter\",\"=\",\"hahaha\",\"its\",\"nn\",\"\\uff40\",\"\\u00bf\",\"am\",\"say\",\"<neutralface>\",\"them\",\"here\",\"\\u0644\\u0627\",\"off\",\"still\",\"dan\",\"+\",\"night\",\"w\",\"ada\",\"someone\",\"even\",\"then\",\"\\u2606\",\"ni\",\"come\",\"com\",\"always\",\"man\",\"'ve\",\"been\",\"his\",\"itu\",\"\\u0639\\u0644\\u0649\",\"-_-\",\"\\u263a\",\"over\",\"um\",\"\\u0645\\u0627\",\"hate\",\"girl\",\"ai\",\"had\",\"pra\",\"todo\",\"mais\",\"feel\",\"let\",\"ini\",\"because\",\"\\uff9f\",\"thanks\",\"ah\",\"way\",\"ever\",\"look\",\"tweet\",\"followers\",\"should\",\"our\",\"xd\",\"aja\",\"esta\",\"school\",\"him\",\"ser\",\"take\",\"than\",\"video\",\"em\",\"last\",\"wanna\",\"does\",\"us\",\"miss\",\"l\",\"ga\",\"better\",\"well\",\"could\",\"\\u25bd\",\"%\",\"apa\",\"cuando\",\"team\",\"\\u2714\",\"@\",\"ok\",\"\\u061f\",\"\\u2022\",\"vida\",\"quiero\",\"les\",\"being\",\"real\",\"down\",\"kamu\",\"everyone\",\"gonna\",\"live\",\"tonight\",\"yes\",\"work\",\"ass\",\"retweet\",\"nada\",\"sama\",\"first\",\"<<\",\"photo\",\"tomorrow\",\"where\",\"god\",\"son\",\"ke\",\"ta\",\"f\",\"home\",\"lagi\",\"thank\",\"birthday\",\"\\u2588\",\"ha\",\"great\",\"lmao\",\"omg\",\"morning\",\"m\\u00e1s\",\"mau\",\"baby\",\"dont\",\"\\uff61\",\"their\",\"p\",\"things\",\"game\",\"pas\",\"bad\",\"year\",\"yeah\",\"su\",\"bitch\",\"\\u0432\",\"stop\",\"hoy\",\"something\",\"meu\",\"tak\",\"gak\",\"world\",\"amor\",\"h\",\"\\\\\",\"ver\",\"\\uff1b\",\"porque\",\"give\",\"these\",\"\\u0627\\u0644\\u0644\\u0647\\u0645\",\"were\",\"hay\",\"sleep\",\"gue\",\"every\",\"friends\",\"uma\",\"tell\",\"amo\",\"vou\",\"bien\",\"\\u00a1\",\"again\",\"\\uff3e\",\"\\uff0f\",\"done\",\"after\",\"todos\",\"girls\",\"guys\",\"getting\",\"big\",\"wait\",\"justin\",\"eh\",\"\\u2192\",\"kan\",\"kita\",\"jajaja\",\"wish\",\"said\",\"fucking\",\"show\",\"thing\",\"next\",\"voc\\u00ea\",\"nos\",\"little\",\"tengo\",\"keep\",\"person\",\"''\",\"\\u2200\",\"hope\",\"\\u0643\\u0644\",\"hey\",\"bisa\",\"free\",\"made\",\"foto\",\"va\",\"everything\",\"iya\",\"nigga\",\"eso\",\"et\",\"watch\",\"music\",\"week\",\"talk\",\"ne\",\"solo\",\"gente\",\"udah\",\"\\uff1a\",\"--\",\"\\uff3c\",\"mejor\",\"facebook\",\"ma\",\"v\",\"phone\",\"most\",\"same\",\"okay\",\"ik\",\"before\",\"minha\",\"days\",\"g\",\"ti\",\"damn\",\"nice\",\"voy\",\"vai\",\"call\",\"long\",\"tapi\",\"http\",\"sin\",\"nunca\",\"doing\",\"other\",\"find\",\"il\",\"sa\",\"sorry\",\"nya\",\"orang\",\"\\u00b0\",\"hard\",\"mean\",\"die\",\"\\u0627\\u0644\\u0644\\u064a\",\"tem\",\"soy\",\"este\",\"kalo\",\"s\\u00f3\",\"th\",\"win\",\"nothing\",\"into\",\"face\",\"cute\",\"'d\",\"gracias\",\"lah\",\"\\u0438\",\"any\",\"play\",\"\\u2190\",\"ko\",\"text\",\"\\u2323\",\"estoy\",\"tau\",\"ur\",\"buat\",\"#\",\"cause\",\"\\u044f\",\"put\",\"kau\",\"siempre\",\"juga\",\"casa\",\"\\u0623\\u0646\",\"help\",\"start\",\"feliz\",\"old\",\"ir\",\"very\",\"care\",\"bir\",\"makes\",\"song\",\"check\",\"watching\",\"ahora\",\"jadi\",\"os\",\"may\",\"friend\",\"beautiful\",\"heart\",\"ka\",\"vc\",\"mundo\",\"\\u043d\\u0430\",\"sure\",\"tan\",\"pretty\",\"aqui\",\"\\u043d\\u0435\",\"house\",\"\\u0631\\u062a\\u0648\\u064a\\u062a\",\"\\u064a\\u0627\",\"ja\",\"true\",\"muy\",\"away\",\"already\",\"actually\",\"believe\",\"try\",\"many\",\"ma\\u00f1ana\",\"mis\",\"lu\",\"those\",\"hot\",\"qu\\u00e9\",\"mal\",\"\\u0639\\u0646\",\"though\",\"ask\",\"amazing\",\"bed\",\"}\",\"two\",\"mom\",\"d\\u00eda\",\"ve\",\"dari\",\"gameinsight\",\"stay\",\"fun\",\"around\",\"van\",\"cont\",\"ready\",\"money\",\"bu\",\"funny\",\"cool\",\"hair\",\"\\u00e0\",\"tho\",\"{\",\"wo\",\"hi\",\"name\",\"tiene\",\"hahahaha\",\"pa\",\"algo\",\"gotta\",\"\\u0648\\u0644\\u0627\",\"boy\",\"another\",\"c'est\",\"hari\",\"jajajaja\",\"having\",\"cara\",\"jaja\",\"dm\",\"looking\",\"top\",\"android\",\"dah\",\"wow\",\"\\u2591\",\"eres\",\"ben\",\"must\",\"news\",\"met\",\"est\\u00e1\",\"nih\",\"family\",\"black\",\"thought\",\"nak\",\"super\",\"end\",\"hace\",\"remember\",\"ama\",\"party\",\"cant\",\"vamos\",\"anything\",\"anyone\",\"\\u0641\\u0648\\u0644\\u0648\",\"perfect\",\"guy\",\"vez\",\"christmas\",\"dos\",\"bueno\",\"nao\",\"years\",\"vote\",\"dormir\",\"bro\",\"else\",\"quien\",\"untuk\",\"jangan\",\"myself\",\"head\",\"mind\",\"gua\",\"talking\",\"while\",\"dat\",\"food\",\"\\u0434\",\"coming\",\"wkwk\",\"trying\",\"saya\",\"mucho\",\"without\",\"wrong\",\"\\u2019s\",\"baru\",\"__\",\"hehe\",\"hacer\",\"lot\",\"followed\",\"crazy\",\"hell\",\"feeling\",\"des\",\"kok\",\"j\",\"stats\",\"j'\",\"\\u0627\\u0646\",\"tweets\",\"non\",\"cosas\",\"era\",\"high\",\"niggas\",\"change\",\"movie\",\"xx\",\"mad\",\"sih\",\"sometimes\",\"deh\",\"allah\",\"through\",\"pour\",\"ela\",\"soon\",\"gone\",\"playing\",\"smile\",\"bukan\",\"tv\",\"fans\",\"hasta\",\"akan\",\"y'\",\"looks\",\"isso\",\"\\u270c\",\"tired\",\"boys\",\"might\",\"dong\",\"lg\",\"use\",\"maybe\",\"until\",\"menos\",\"own\",\"dengan\",\"eat\",\"ou\",\"weekend\",\"\\u02d8\",\"class\",\"ele\",\"harry\",\"iphone\",\"friday\",\"single\",\"ff\",\"awesome\",\"bout\",\"muito\",\"hoje\",\"\\u00ac\",\"dios\",\"such\",\"estar\",\"j\\u00e1\",\"quando\",\"esa\",\"making\",\"\\u2501\",\"times\",\"lmfao\",\"gw\",\"moment\",\"yet\",\"aw\",\"smh\",\"banget\",\"masih\",\"qui\",\"quem\",\"\\u2013\",\"leave\",\"du\",\"une\",\"guess\",\"hit\",\"\\u0441\",\"pm\",\"since\",\"pues\",\"est\",\"job\",\"\\uff89\",\"mana\",\"bom\",\"siapa\",\"suka\",\"bieber\",\"mention\",\"lebih\",\"favorite\",\"bitches\",\"forever\",\"\\u0644\\u064a\",\"final\",\"read\",\"alguien\",\"open\",\"yourself\",\"ese\",\"che\",\"sex\",\"yaa\",\"car\",\"direction\",\"tidak\",\"seu\",\"gets\",\"left\",\"re\",\"jam\",\"enough\",\"\\u0625\\u0644\\u0627\",\"once\",\"\\u2019\",\"part\",\"cada\",\"\\u5b9a\\u671f\",\"\\u0644\\u0643\",\"een\",\"seen\",\"kak\",\"as\\u00ed\",\"nem\",\"\\u0639\\u0645\\u0644\",\"white\",\"told\",\"says\",\"esto\",\"sad\",\"mo\",\"fue\",\"yah\",\"summer\",\"\\u0647\",\"\\u2b55\",\"\\u00bb\",\"thats\",\"\\u0645\\u0639\",\"posted\",\"wants\",\"agora\",\"together\",\"fan\",\"men\",\"hear\",\"full\",\"\\u2600\",\"sigo\",\"pq\",\"dulu\",\"plus\",\"foi\",\"tudo\",\"\\u0647\\u0648\",\"ill\",\"\\u3042\",\"thinking\",\"wtf\",\"pagi\",\"mama\",\"kalau\",\"hati\",\"sexy\",\"sayang\",\"baik\",\"semua\",\"hola\",\"went\",\"vos\",\"tanto\",\"finally\",\"fb\",\"sea\",\"stupid\",\"tus\",\"seriously\",\"hora\",\"min\",\"pic\",\"estas\",\"turn\",\"hours\",\"excited\",\"nah\",\"buy\",\"saying\",\"mah\",\"break\",\"needs\",\"ce\",\"room\",\"choice\",\"far\",\"dead\",\"quero\",\"saw\",\"kids\",\"lil\",\"whole\",\"puede\",\"fall\",\"sus\",\"lost\",\"asi\",\"word\",\"\\u2639\",\"also\",\"\\u0631\\u064a\\u062a\\u0648\\u064a\\u062a\",\"probably\",\"everybody\",\"tarde\",\"run\",\"sei\",\"follback\",\"forget\",\"sweet\",\"welcome\",\"selamat\",\"\\uff3f\",\"sur\",\"place\",\"gusta\",\"sabe\",\"androidgames\",\"tp\",\"tiempo\",\"\\u0628\\u0633\",\"sou\",\"tuh\",\"vs\",\"eyes\",\"\\u0627\\u0646\\u0627\",\"picture\",\"das\",\"meet\",\"anak\",\"persona\",\"essa\",\"bored\",\"following\",\"nadie\",\"nobody\",\"dice\",\"alone\",\"sick\",\"red\",\"city\",\"cinta\",\"\\u6708\",\"linda\",\"dream\",\"story\",\"km\",\"het\",\"waiting\",\"^_^\",\"mine\",\"\\u0447\\u0442\\u043e\",\"reason\",\"kk\",\"\\u0644\\u0648\",\"online\",\"fast\",\"udh\",\"wanted\",\"op\",\"others\",\"gay\",\"n\\u2019t\",\"used\",\"sem\",\"understand\",\"moi\",\"sm\",\"aint\",\"donde\",\"bem\",\"which\",\"ng\",\"followback\",\"punya\",\"late\",\"anda\",\"tidur\",\"puedo\",\"early\",\"nd\",\"personas\",\"banyak\",\"\\u2705\",\"\\u278a\",\"trust\",\"noche\",\"tl\",\"\\uff1e\",\"\\u00ab\",\"af\",\"move\",\"pro\",\"bring\",\"ku\",\"called\",\"relationship\",\"idk\",\"hurt\",\"st\",\"pernah\",\"pessoas\",\"hello\",\"uno\",\"unfollowers\",\"cry\"],\"x\":{\"__ndarray__\":\"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\",\"dtype\":\"float32\",\"order\":\"little\",\"shape\":[1000]},\"y\":{\"__ndarray__\":\"u9D8Pm5qTD5EEx0/gTN3P3CwR77UaMc+ysiXvZGM2j4toMC9OON8vayEur45mwDAZ4PsPnYU5L73TQE+0OYBvh+LOr+u/zY/grN5P+M09j5uTGY/4t0HwB7mDMAprEA/l+bZPtnBHsA6Zju+v3USP8N6mz4NJHi+G9gCwBDPej9MG5i+cYEPvqCSMj6jZ6e+NVmQPjl7wb6RZwM/0qbBvqeXxb+2oQe/6FQ7PwrjrL+DM+G+lnTrvloCp77A/8W/x4XnPZ49hL+kWHq/bD1GPepq27/Ycay+5ordvz09lb6ZD3g919DnvQlrej30kYK+xuU1Pq3IiL5ITHs/pp+5vv8Qhb7Fh9q/fzF4Pb9KdT92ARW+01n2vxPd3b5aVJE+OkZ0vjXt4r2McGK+2iKUvmhIuz3inXE/NZq/vpi1mb7qake+Gpi2v6AAtD7/Bj8+pD4AP/1mGL7MaIe+PkGjvqKVjr4bkKG/SlrDPoLGe76fsLy+iiTpvjdMIz5fX0e+nBMZv7Vz+r+5ytS+XCJNvk+ooT9iVJC/zoTIvdyqAj8KJtI/l083Pw2bmD4GoGe/L3nRv/fR5r6wjay8o7wYvrQonD85mLm/4eHxv/gphr7LnoY/d+7+PeO6xb7FfeO9TiCJP0PCgb7pfhW9Yi/dPZmGob9djQI+18Cmvu794b7nHou+thuYvpJ49r72IWO/PzzSvyo/XL6yMuE/i90kvpXs274C15i+MO4RQKDfRb863j++QVmeP6Lb4L+KyHG+rkzzv46uNr5uDAm+uOzHvp+d8r3RYBc/BWFKvYWOyL6UrHS8VnCVPTuf3T9FyJM/TeJdPMI0l79y+62/foqIP3/8Uz/m/0E/6NxEPy8vmb41LrG9C60lQEew0b5tGua/PJ5qvv5YFb+Sxau/A0rvvQ+mCD/nEi+/tv+jP65jnL4n6Y8/DnMUP9/CEjyU5TC/0D0AP/oEgr78eKa+r2dWPrcpKkDNjea+xguQviqET76RBwg6R03IvxS5G78jPi2/4wEiP8ERnj4Ltq4+d1KhvrKk9742+bK/B3aNP+WN+r1F6Rg+JjyjPGiglL6KtP6+D1Wjv+zGKz+Y/8c9SHO1P4S4Wb41tgo+fHL/vpTBq76HZ1A/2oefv8XSqr3KBoW/9Ww3vvRABb5cosa+GuncPjdcST8CEei9hBr2Pgj/Zj9llba/Cmp4vtyfuz4JyZc/nTjfvkLRJL5bDH8/PJNXvWT6ij07aOU/F3+QPuVOATw3yvs+TqUlQN1O1zw8sIu+BPkTPiIjET9VQSE+7WaAv6aJrr/nmpu9s4Wzvk9+277gGaa+MwrKvrw9J0C9C7g/08DgPx5+jT8Caj2+gQOnv1cRxj/vl1S+xdphvtwPd7/Ahdm+q0Kov88h3b/0Dqe/GddcvFqbWb6YGShASoi3vvlHej9OOSo/jECOPuNoqL6njwy/Vm0dv9rAfjtNdqY+Yeqqvk3Rpb6WFRS9yhoaQO/T1L8wrli+v/SVvlCn17+XUxy+2SyZvuOQwb6b7am/cY3rPTG7S77q0O6+WMOUvjklMz0lZJi97gQMQAAOw72Inpo9covLvv4i/D+RWl68zJgZQOx927/4zRO9fvAaP2H0jD6fGoy+QXmsP2DqhD9v0N+/Sxa0v39/cb8XrJ6+oo8hvw0LI75wMRhAlb1MvluasL53so2+Z4xtvtszwz4scK6+Hgrvvpr/Oj+qXbC/orAaQC9ZVj1n1Vy9x01hPXGRFb5DMLO+Bp/JvTkdmL+zRrM/sJXtvlk4pb0KFCK+z/ggQMTAuD4Qyu8+QZKZPjtUML/7FgG+NQE7vgOCrb4odyg/o/Czv6S7EUCTn9290eKpvoWQiz/qscS+GpSYvt+hHr9PF4k8+M1YP+kvmL7N/x0+kpzFvBxCmL+OBCK/8+esPww4bj2CsrO/h1bzvOvRrb8xSuw/CxgdQIf2Gb6f5by/eTmIvcCeIz/4T6y/wuFjP75R77+pPya+s3fwvlX/e72nsai+Hx2Sv9oaqz1sbyRA835yvlOqOb49MKi/6SN7vl2yuL+MeZG/Yf6xvweQlL8VZwc9PaxcP12FMT+MPd4+IkTMvTGhxb8YU5i9/r7FPld+3L7DiLC+c/lovLSidb+k/NE+RxSSPz+kAEDZBBFAN/qHvyN9ET+xGOG9T8c5vyp/Vr8bQNa+iVovPg3Wp78DE/e/SMwuv6SFur9q6XU+3Yu8vhTng75iFIU/jtGDPfAU8z/58i0+2OUjQBbVzz6xZFe+VZnzvAWsrb8BDi2+uhMZQMNo275vyaq/rvKVvsXTgL4QLZu9qtgVu/4I1b1XoAc+J05mv2LKxb904CFAJp2HP0qsMT/kc0Q/+zecv5zwH7/Zl3M9NvNfPlTj9z06sJ2+wLK7Pdhc1T4CBqs+HpZEvRpasr8q55y9FashP88lVL+u+b28+rKePqOxxL/crZa/kkgHPn9A9716HhRAzqmYPqHns795jte/CstuvpqFrL49M9++qCZGvzjtIL2Rhp8+w10NQJ3oGUAOF0s/J3GcvlddPb7SEgs/HrfmP1DCj7+RVqa/RX7Dv8h3GkBxULO/lLgfP4Fn5j0zsBO+e3bMvu7Mbr92K4w+TJGWvmPTiL8Abvk/59R8PyTwBr8AIzC/IUhXP+DGjz9XAKs+w6EVQOXQtr9iixJAckqNvTiCEkDRPHE+4p8Pv5aitD9TGGE+4zzvP9wavb+vJiNAKmbOv911Oz82fzU+oyuUPjGfs7+84We+VqLKv0KgWr2GHjM+pDIZP5rI276UQpq9wMSpPv4Xa77nqau/vaIaQMCX079rFps9quH+vZI9qL1p/R6+CHedP8G5hr+1Kru/7SOzPw2CKr0yTl+/XMOOvnIGqL829yo/iXLvvj+HAT+6apY/PO+ZvqVew72Wyqe/w057PMTW6721a56+jeM5v8YkVj4bQr+++GC0v2bUwb8+29w/1vW1vmZ/Jz4KKLy/LzWhvyvqrT910UG+jHEpvze1wD1UMNK8+06wP7eOtr79Bog90Rqkv5ah+T0dXRdAaElQPll0gT7TWSQ+gVl7vpAUIr/G2F0/kw1dPsygk76wPYY/K00YvrEr6L3bQk2+FVl6vxW4Tz7KcqM/4juqPrhWkT4C+Zy8wfayvzy+wD4mTRK/jQrQv3cry77rI4c/W/6/vYEogL4j87y+pMEhQHFDgL+okq++UoRWvqnhj78jPUM+5EdpvmNrmb5tUqo+qRYGQMi2uj5B6Zg9bqeNv4MalD764Tc9xuN4PvfPmD47qMm/NbYXQMhxz7yF3s2+k6mMvkLT1j9IbLC+aA3kOxogxb/GRYm+C8oNP7ytnL5xTSm+CPCnv7ritb6ikbi+ENMlPx7Wjj3Lsaq+khS+v6LQir3nwN+/8dicv7jopL9WgA2+qLAXvj98uL8L6yk/r1i6vle+tL9qHgZAIbkZQNH3j76sz5u9tpQnvTsAFEB5nJC+b/H3vcAmEr4Cku+8cASRP67qgL3xVAZAR0arvlOBDUBAi5y/62U2vvQMSr5630i+6ewVQKNsoj/DS6M/WKe0v4qib75RKQk/vCWzvh2/Tb7QE509anKqvnN7DUDVacG8jOVDPWG0Gr9drFI/Dx9bv+d7AL8xisO/MISwvxt+bL7T9r++R2W/viBz1r2Onsg9/wUdvqdeEEC4j1K9glQQQNPUuj9sNry+gi30vqT/lL+walg+ZAMhvhznPL6t+HY+e+EVQIuOVr0XgHE94A6bv90dCkAw9xa/H3DWvqF7mr98uQy8dJUMPpVSUL7FHa6+Kx4MQFZ3CEDWMhG/i+ESPq8mIb6mhrS/OioTvxtTBUDaZwK+gnSWv9nWvD7ZeAhASXTbPVNRjb8xVF+/Lr8evmPkI71jtOM+52hXPpZ/lD5cI9S+zaKQvyiAlL+JqxE/5EjNvzsErr6XdsK/B7ykvyg8sL+JjqW/zKSWvioT2z5yOc6+5ABjvsYrEEAfcOI86hgXvg0Yg70Tqp68yL4dQKY6HUCCF1i/Ny+Qv55ddb1VyoO974KFvpQAIb9CCau9bWDuvkhmCUDN15M9t7xOvjs9hL/J+Mu+LcDZPc84oT+2t+Y/b27bvX+ID0BrVBRAgz4xv4PrrD8fnxVA3lVXPvTTAL+KorW+bTwzPzlsSb9wsZ8+1rfQv90uxj7RShK+Zzelv6ULVr8KmVG9/XbMP4tOrr46eEK/S28UQNtDlb8S4o2+W8U4vlEXgr9vYOI/fjgzvv7Xmj9rJ9i+uD5UPg2/VD0QQsC/1+6gP42lKz+CObA+1VJDvgDP9z/1x5e/QO5Yv8NqQT8Pk1i+SByqvi8mCL4tLK+/a/7EvZRWWz5nC62/+QoBQK8/Tb5yK7E/BHyBPwDBLT9huQS+WZrQP0tHW7xnc+O+IcKQv3BXwr1IOwC/T3GTPgylKL6uqcs9+b8KP9zfTL9hNKW/ttQQQMQetTyX0Za/bj2Uvyb61j/Ehua9oHBAP1tHEj4Y0NW+O3IdQD04rD0jEApADQoYQN1xgL7S7AtAM8MXQFhQFkBGlWG/5BWCvrMvsr8y5by/bLzDPWA71jznsJ6/Lm8Evovoqr/TZT89qSa3v6mNHT/c8xQ/9Syuv88iAb4n1F69aLTuPVz9Zz+7DES+EIJWvqcM5D+wKeA9hBMQv7cxtD0F8Y28B07DvoyuMr77E/a+eymXv8BKtj4DHNK+d2Sivn9gqr7CdKi/kEemvgYMqL+DhE++estuvyD/8L0TUXI/PrBAvXNpGD8WTMC+jwsyvswGpr/sv0++b6lmv06UzT8aYEI9leggP5MRBz9u9RJAk+bTPrutBr/pHv++7UWlv4wXtb+tdMY+Cgj3Pxejnr8pxr4/eIBwv5d4CEBcIQ69HE9AO64FnT8GN1W9bu6nv36SQ74Vqg5Ah/a2v8v/or9Ldu49tlbgPkVru7/GstW+Un2wvx7nl742xro93iIMv8OFXD3IpwdATRpJPz8hib+m0Uc+hMH6vZAfrj+V5kM+IZCqPmMqZj+OcgO+toyAP1islr6pI+Y++g6rP1A4tj0FSCo+IzQTQHIaFr8lpmM+GTkaPvF2Vb8iXsS+x3CivmGfJL91F4O+U1+dvqTE3z+lqqm+8vK1v4E4O78iO32+/VK6PjPrOj/8fxFAy/jSvgu4MT99KxpAHOypv7zmvr2Kub09vcOnv3EUHEBcYAE/S9UpP0AvS72OCqm/z4PcPuvvMz6ji+o+uzALv1jJKT9u/G+/mfuBvteu4z/Emjq+oaLTO0cYQTzkLDe9+F/SPfMpFUBavKO/lqDjPnFYoL/Bvj4+B22VvQ==\",\"dtype\":\"float32\",\"order\":\"little\",\"shape\":[1000]}},\"selected\":{\"id\":\"1052\"},\"selection_policy\":{\"id\":\"1051\"}},\"id\":\"1003\",\"type\":\"ColumnDataSource\"},{\"attributes\":{},\"id\":\"1052\",\"type\":\"Selection\"},{\"attributes\":{},\"id\":\"1050\",\"type\":\"AllLabels\"},{\"attributes\":{},\"id\":\"1011\",\"type\":\"LinearScale\"},{\"attributes\":{},\"id\":\"1005\",\"type\":\"DataRange1d\"},{\"attributes\":{\"source\":{\"id\":\"1003\"}},\"id\":\"1040\",\"type\":\"CDSView\"},{\"attributes\":{\"fill_alpha\":{\"value\":0.2},\"fill_color\":{\"field\":\"color\"},\"hatch_alpha\":{\"value\":0.2},\"hatch_color\":{\"field\":\"color\"},\"line_alpha\":{\"value\":0.2},\"line_color\":{\"field\":\"color\"},\"size\":{\"value\":10},\"x\":{\"field\":\"x\"},\"y\":{\"field\":\"y\"}},\"id\":\"1038\",\"type\":\"Scatter\"},{\"attributes\":{},\"id\":\"1007\",\"type\":\"DataRange1d\"},{\"attributes\":{\"callback\":null,\"tooltips\":[[\"token\",\"@token\"]]},\"id\":\"1041\",\"type\":\"HoverTool\"},{\"attributes\":{\"coordinates\":null,\"formatter\":{\"id\":\"1046\"},\"group\":null,\"major_label_policy\":{\"id\":\"1047\"},\"ticker\":{\"id\":\"1018\"}},\"id\":\"1017\",\"type\":\"LinearAxis\"},{\"attributes\":{\"bottom_units\":\"screen\",\"coordinates\":null,\"fill_alpha\":0.5,\"fill_color\":\"lightgrey\",\"group\":null,\"left_units\":\"screen\",\"level\":\"overlay\",\"line_alpha\":1.0,\"line_color\":\"black\",\"line_dash\":[4,4],\"line_width\":2,\"right_units\":\"screen\",\"syncable\":false,\"top_units\":\"screen\"},\"id\":\"1027\",\"type\":\"BoxAnnotation\"},{\"attributes\":{},\"id\":\"1026\",\"type\":\"HelpTool\"},{\"attributes\":{},\"id\":\"1046\",\"type\":\"BasicTickFormatter\"},{\"attributes\":{\"axis\":{\"id\":\"1013\"},\"coordinates\":null,\"group\":null,\"ticker\":null},\"id\":\"1016\",\"type\":\"Grid\"},{\"attributes\":{},\"id\":\"1009\",\"type\":\"LinearScale\"},{\"attributes\":{\"coordinates\":null,\"formatter\":{\"id\":\"1049\"},\"group\":null,\"major_label_policy\":{\"id\":\"1050\"},\"ticker\":{\"id\":\"1014\"}},\"id\":\"1013\",\"type\":\"LinearAxis\"},{\"attributes\":{},\"id\":\"1021\",\"type\":\"PanTool\"},{\"attributes\":{},\"id\":\"1025\",\"type\":\"ResetTool\"},{\"attributes\":{\"overlay\":{\"id\":\"1027\"}},\"id\":\"1023\",\"type\":\"BoxZoomTool\"},{\"attributes\":{},\"id\":\"1024\",\"type\":\"SaveTool\"},{\"attributes\":{\"coordinates\":null,\"data_source\":{\"id\":\"1003\"},\"glyph\":{\"id\":\"1036\"},\"group\":null,\"hover_glyph\":null,\"muted_glyph\":{\"id\":\"1038\"},\"nonselection_glyph\":{\"id\":\"1037\"},\"view\":{\"id\":\"1040\"}},\"id\":\"1039\",\"type\":\"GlyphRenderer\"},{\"attributes\":{\"fill_alpha\":{\"value\":0.1},\"fill_color\":{\"field\":\"color\"},\"hatch_alpha\":{\"value\":0.1},\"hatch_color\":{\"field\":\"color\"},\"line_alpha\":{\"value\":0.1},\"line_color\":{\"field\":\"color\"},\"size\":{\"value\":10},\"x\":{\"field\":\"x\"},\"y\":{\"field\":\"y\"}},\"id\":\"1037\",\"type\":\"Scatter\"},{\"attributes\":{},\"id\":\"1047\",\"type\":\"AllLabels\"},{\"attributes\":{},\"id\":\"1022\",\"type\":\"WheelZoomTool\"},{\"attributes\":{},\"id\":\"1049\",\"type\":\"BasicTickFormatter\"},{\"attributes\":{},\"id\":\"1018\",\"type\":\"BasicTicker\"},{\"attributes\":{},\"id\":\"1014\",\"type\":\"BasicTicker\"},{\"attributes\":{\"axis\":{\"id\":\"1017\"},\"coordinates\":null,\"dimension\":1,\"group\":null,\"ticker\":null},\"id\":\"1020\",\"type\":\"Grid\"},{\"attributes\":{\"active_scroll\":{\"id\":\"1022\"},\"tools\":[{\"id\":\"1021\"},{\"id\":\"1022\"},{\"id\":\"1023\"},{\"id\":\"1024\"},{\"id\":\"1025\"},{\"id\":\"1026\"},{\"id\":\"1041\"}]},\"id\":\"1028\",\"type\":\"Toolbar\"}],\"root_ids\":[\"1004\"]},\"title\":\"Bokeh Application\",\"version\":\"2.4.2\"}};\n",
       "  const render_items = [{\"docid\":\"5cc5b4a2-56b1-48cf-8d20-c680647d5081\",\"root_ids\":[\"1004\"],\"roots\":{\"1004\":\"e1c77ac4-f7da-4ca4-b2d4-69ceb89fa2e6\"}}];\n",
       "  root.Bokeh.embed.embed_items_notebook(docs_json, render_items);\n",
       "\n",
       "  }\n",
       "  if (root.Bokeh !== undefined) {\n",
       "    embed_document(root);\n",
       "  } else {\n",
       "    let attempts = 0;\n",
       "    const timer = setInterval(function(root) {\n",
       "      if (root.Bokeh !== undefined) {\n",
       "        clearInterval(timer);\n",
       "        embed_document(root);\n",
       "      } else {\n",
       "        attempts++;\n",
       "        if (attempts > 100) {\n",
       "          clearInterval(timer);\n",
       "          console.log(\"Bokeh: ERROR: Unable to run BokehJS code because BokehJS library is missing\");\n",
       "        }\n",
       "      }\n",
       "    }, 10, root)\n",
       "  }\n",
       "})(window);"
      ],
      "application/vnd.bokehjs_exec.v0+json": ""
     },
     "metadata": {
      "application/vnd.bokehjs_exec.v0+json": {
       "id": "1004"
      }
     },
     "output_type": "display_data"
    },
    {
     "data": {
      "text/html": [
       "<div style=\"display: table;\"><div style=\"display: table-row;\"><div style=\"display: table-cell;\"><b title=\"bokeh.plotting.figure.Figure\">Figure</b>(</div><div style=\"display: table-cell;\">id&nbsp;=&nbsp;'1004', <span id=\"1110\" style=\"cursor: pointer;\">&hellip;)</span></div></div><div class=\"1109\" style=\"display: none;\"><div style=\"display: table-cell;\"></div><div style=\"display: table-cell;\">above&nbsp;=&nbsp;[],</div></div><div class=\"1109\" style=\"display: none;\"><div style=\"display: table-cell;\"></div><div style=\"display: table-cell;\">align&nbsp;=&nbsp;'start',</div></div><div class=\"1109\" style=\"display: none;\"><div style=\"display: table-cell;\"></div><div style=\"display: table-cell;\">aspect_ratio&nbsp;=&nbsp;None,</div></div><div class=\"1109\" style=\"display: none;\"><div style=\"display: table-cell;\"></div><div style=\"display: table-cell;\">aspect_scale&nbsp;=&nbsp;1,</div></div><div class=\"1109\" style=\"display: none;\"><div style=\"display: table-cell;\"></div><div style=\"display: table-cell;\">background&nbsp;=&nbsp;None,</div></div><div class=\"1109\" style=\"display: none;\"><div style=\"display: table-cell;\"></div><div style=\"display: table-cell;\">background_fill_alpha&nbsp;=&nbsp;1.0,</div></div><div class=\"1109\" style=\"display: none;\"><div style=\"display: table-cell;\"></div><div style=\"display: table-cell;\">background_fill_color&nbsp;=&nbsp;'#ffffff',</div></div><div class=\"1109\" style=\"display: none;\"><div style=\"display: table-cell;\"></div><div style=\"display: table-cell;\">below&nbsp;=&nbsp;[LinearAxis(id='1013', ...)],</div></div><div class=\"1109\" style=\"display: none;\"><div style=\"display: table-cell;\"></div><div style=\"display: table-cell;\">border_fill_alpha&nbsp;=&nbsp;1.0,</div></div><div class=\"1109\" style=\"display: none;\"><div style=\"display: table-cell;\"></div><div style=\"display: table-cell;\">border_fill_color&nbsp;=&nbsp;'#ffffff',</div></div><div class=\"1109\" style=\"display: none;\"><div style=\"display: table-cell;\"></div><div style=\"display: table-cell;\">center&nbsp;=&nbsp;[Grid(id='1016', ...), Grid(id='1020', ...)],</div></div><div class=\"1109\" style=\"display: none;\"><div style=\"display: table-cell;\"></div><div style=\"display: table-cell;\">css_classes&nbsp;=&nbsp;[],</div></div><div class=\"1109\" style=\"display: none;\"><div style=\"display: table-cell;\"></div><div style=\"display: table-cell;\">disabled&nbsp;=&nbsp;False,</div></div><div class=\"1109\" style=\"display: none;\"><div style=\"display: table-cell;\"></div><div style=\"display: table-cell;\">extra_x_ranges&nbsp;=&nbsp;{},</div></div><div class=\"1109\" style=\"display: none;\"><div style=\"display: table-cell;\"></div><div style=\"display: table-cell;\">extra_x_scales&nbsp;=&nbsp;{},</div></div><div class=\"1109\" style=\"display: none;\"><div style=\"display: table-cell;\"></div><div style=\"display: table-cell;\">extra_y_ranges&nbsp;=&nbsp;{},</div></div><div class=\"1109\" style=\"display: none;\"><div style=\"display: table-cell;\"></div><div style=\"display: table-cell;\">extra_y_scales&nbsp;=&nbsp;{},</div></div><div class=\"1109\" style=\"display: none;\"><div style=\"display: table-cell;\"></div><div style=\"display: table-cell;\">frame_height&nbsp;=&nbsp;None,</div></div><div class=\"1109\" style=\"display: none;\"><div style=\"display: table-cell;\"></div><div style=\"display: table-cell;\">frame_width&nbsp;=&nbsp;None,</div></div><div class=\"1109\" style=\"display: none;\"><div style=\"display: table-cell;\"></div><div style=\"display: table-cell;\">height&nbsp;=&nbsp;400,</div></div><div class=\"1109\" style=\"display: none;\"><div style=\"display: table-cell;\"></div><div style=\"display: table-cell;\">height_policy&nbsp;=&nbsp;'auto',</div></div><div class=\"1109\" style=\"display: none;\"><div style=\"display: table-cell;\"></div><div style=\"display: table-cell;\">hidpi&nbsp;=&nbsp;True,</div></div><div class=\"1109\" style=\"display: none;\"><div style=\"display: table-cell;\"></div><div style=\"display: table-cell;\">inner_height&nbsp;=&nbsp;0,</div></div><div class=\"1109\" style=\"display: none;\"><div style=\"display: table-cell;\"></div><div style=\"display: table-cell;\">inner_width&nbsp;=&nbsp;0,</div></div><div class=\"1109\" style=\"display: none;\"><div style=\"display: table-cell;\"></div><div style=\"display: table-cell;\">js_event_callbacks&nbsp;=&nbsp;{},</div></div><div class=\"1109\" style=\"display: none;\"><div style=\"display: table-cell;\"></div><div style=\"display: table-cell;\">js_property_callbacks&nbsp;=&nbsp;{},</div></div><div class=\"1109\" style=\"display: none;\"><div style=\"display: table-cell;\"></div><div style=\"display: table-cell;\">left&nbsp;=&nbsp;[LinearAxis(id='1017', ...)],</div></div><div class=\"1109\" style=\"display: none;\"><div style=\"display: table-cell;\"></div><div style=\"display: table-cell;\">lod_factor&nbsp;=&nbsp;10,</div></div><div class=\"1109\" style=\"display: none;\"><div style=\"display: table-cell;\"></div><div style=\"display: table-cell;\">lod_interval&nbsp;=&nbsp;300,</div></div><div class=\"1109\" style=\"display: none;\"><div style=\"display: table-cell;\"></div><div style=\"display: table-cell;\">lod_threshold&nbsp;=&nbsp;2000,</div></div><div class=\"1109\" style=\"display: none;\"><div style=\"display: table-cell;\"></div><div style=\"display: table-cell;\">lod_timeout&nbsp;=&nbsp;500,</div></div><div class=\"1109\" style=\"display: none;\"><div style=\"display: table-cell;\"></div><div style=\"display: table-cell;\">margin&nbsp;=&nbsp;(0, 0, 0, 0),</div></div><div class=\"1109\" style=\"display: none;\"><div style=\"display: table-cell;\"></div><div style=\"display: table-cell;\">match_aspect&nbsp;=&nbsp;False,</div></div><div class=\"1109\" style=\"display: none;\"><div style=\"display: table-cell;\"></div><div style=\"display: table-cell;\">max_height&nbsp;=&nbsp;None,</div></div><div class=\"1109\" style=\"display: none;\"><div style=\"display: table-cell;\"></div><div style=\"display: table-cell;\">max_width&nbsp;=&nbsp;None,</div></div><div class=\"1109\" style=\"display: none;\"><div style=\"display: table-cell;\"></div><div style=\"display: table-cell;\">min_border&nbsp;=&nbsp;5,</div></div><div class=\"1109\" style=\"display: none;\"><div style=\"display: table-cell;\"></div><div style=\"display: table-cell;\">min_border_bottom&nbsp;=&nbsp;None,</div></div><div class=\"1109\" style=\"display: none;\"><div style=\"display: table-cell;\"></div><div style=\"display: table-cell;\">min_border_left&nbsp;=&nbsp;None,</div></div><div class=\"1109\" style=\"display: none;\"><div style=\"display: table-cell;\"></div><div style=\"display: table-cell;\">min_border_right&nbsp;=&nbsp;None,</div></div><div class=\"1109\" style=\"display: none;\"><div style=\"display: table-cell;\"></div><div style=\"display: table-cell;\">min_border_top&nbsp;=&nbsp;None,</div></div><div class=\"1109\" style=\"display: none;\"><div style=\"display: table-cell;\"></div><div style=\"display: table-cell;\">min_height&nbsp;=&nbsp;None,</div></div><div class=\"1109\" style=\"display: none;\"><div style=\"display: table-cell;\"></div><div style=\"display: table-cell;\">min_width&nbsp;=&nbsp;None,</div></div><div class=\"1109\" style=\"display: none;\"><div style=\"display: table-cell;\"></div><div style=\"display: table-cell;\">name&nbsp;=&nbsp;None,</div></div><div class=\"1109\" style=\"display: none;\"><div style=\"display: table-cell;\"></div><div style=\"display: table-cell;\">outer_height&nbsp;=&nbsp;0,</div></div><div class=\"1109\" style=\"display: none;\"><div style=\"display: table-cell;\"></div><div style=\"display: table-cell;\">outer_width&nbsp;=&nbsp;0,</div></div><div class=\"1109\" style=\"display: none;\"><div style=\"display: table-cell;\"></div><div style=\"display: table-cell;\">outline_line_alpha&nbsp;=&nbsp;1.0,</div></div><div class=\"1109\" style=\"display: none;\"><div style=\"display: table-cell;\"></div><div style=\"display: table-cell;\">outline_line_cap&nbsp;=&nbsp;'butt',</div></div><div class=\"1109\" style=\"display: none;\"><div style=\"display: table-cell;\"></div><div style=\"display: table-cell;\">outline_line_color&nbsp;=&nbsp;'#e5e5e5',</div></div><div class=\"1109\" style=\"display: none;\"><div style=\"display: table-cell;\"></div><div style=\"display: table-cell;\">outline_line_dash&nbsp;=&nbsp;[],</div></div><div class=\"1109\" style=\"display: none;\"><div style=\"display: table-cell;\"></div><div style=\"display: table-cell;\">outline_line_dash_offset&nbsp;=&nbsp;0,</div></div><div class=\"1109\" style=\"display: none;\"><div style=\"display: table-cell;\"></div><div style=\"display: table-cell;\">outline_line_join&nbsp;=&nbsp;'bevel',</div></div><div class=\"1109\" style=\"display: none;\"><div style=\"display: table-cell;\"></div><div style=\"display: table-cell;\">outline_line_width&nbsp;=&nbsp;1,</div></div><div class=\"1109\" style=\"display: none;\"><div style=\"display: table-cell;\"></div><div style=\"display: table-cell;\">output_backend&nbsp;=&nbsp;'canvas',</div></div><div class=\"1109\" style=\"display: none;\"><div style=\"display: table-cell;\"></div><div style=\"display: table-cell;\">renderers&nbsp;=&nbsp;[GlyphRenderer(id='1039', ...)],</div></div><div class=\"1109\" style=\"display: none;\"><div style=\"display: table-cell;\"></div><div style=\"display: table-cell;\">reset_policy&nbsp;=&nbsp;'standard',</div></div><div class=\"1109\" style=\"display: none;\"><div style=\"display: table-cell;\"></div><div style=\"display: table-cell;\">right&nbsp;=&nbsp;[],</div></div><div class=\"1109\" style=\"display: none;\"><div style=\"display: table-cell;\"></div><div style=\"display: table-cell;\">sizing_mode&nbsp;=&nbsp;None,</div></div><div class=\"1109\" style=\"display: none;\"><div style=\"display: table-cell;\"></div><div style=\"display: table-cell;\">subscribed_events&nbsp;=&nbsp;[],</div></div><div class=\"1109\" style=\"display: none;\"><div style=\"display: table-cell;\"></div><div style=\"display: table-cell;\">syncable&nbsp;=&nbsp;True,</div></div><div class=\"1109\" style=\"display: none;\"><div style=\"display: table-cell;\"></div><div style=\"display: table-cell;\">tags&nbsp;=&nbsp;[],</div></div><div class=\"1109\" style=\"display: none;\"><div style=\"display: table-cell;\"></div><div style=\"display: table-cell;\">title&nbsp;=&nbsp;Title(id='1043', ...),</div></div><div class=\"1109\" style=\"display: none;\"><div style=\"display: table-cell;\"></div><div style=\"display: table-cell;\">title_location&nbsp;=&nbsp;'above',</div></div><div class=\"1109\" style=\"display: none;\"><div style=\"display: table-cell;\"></div><div style=\"display: table-cell;\">toolbar&nbsp;=&nbsp;Toolbar(id='1028', ...),</div></div><div class=\"1109\" style=\"display: none;\"><div style=\"display: table-cell;\"></div><div style=\"display: table-cell;\">toolbar_location&nbsp;=&nbsp;'right',</div></div><div class=\"1109\" style=\"display: none;\"><div style=\"display: table-cell;\"></div><div style=\"display: table-cell;\">toolbar_sticky&nbsp;=&nbsp;True,</div></div><div class=\"1109\" style=\"display: none;\"><div style=\"display: table-cell;\"></div><div style=\"display: table-cell;\">visible&nbsp;=&nbsp;True,</div></div><div class=\"1109\" style=\"display: none;\"><div style=\"display: table-cell;\"></div><div style=\"display: table-cell;\">width&nbsp;=&nbsp;600,</div></div><div class=\"1109\" style=\"display: none;\"><div style=\"display: table-cell;\"></div><div style=\"display: table-cell;\">width_policy&nbsp;=&nbsp;'auto',</div></div><div class=\"1109\" style=\"display: none;\"><div style=\"display: table-cell;\"></div><div style=\"display: table-cell;\">x_range&nbsp;=&nbsp;DataRange1d(id='1005', ...),</div></div><div class=\"1109\" style=\"display: none;\"><div style=\"display: table-cell;\"></div><div style=\"display: table-cell;\">x_scale&nbsp;=&nbsp;LinearScale(id='1009', ...),</div></div><div class=\"1109\" style=\"display: none;\"><div style=\"display: table-cell;\"></div><div style=\"display: table-cell;\">y_range&nbsp;=&nbsp;DataRange1d(id='1007', ...),</div></div><div class=\"1109\" style=\"display: none;\"><div style=\"display: table-cell;\"></div><div style=\"display: table-cell;\">y_scale&nbsp;=&nbsp;LinearScale(id='1011', ...))</div></div></div>\n",
       "<script>\n",
       "(function() {\n",
       "  let expanded = false;\n",
       "  const ellipsis = document.getElementById(\"1110\");\n",
       "  ellipsis.addEventListener(\"click\", function() {\n",
       "    const rows = document.getElementsByClassName(\"1109\");\n",
       "    for (let i = 0; i < rows.length; i++) {\n",
       "      const el = rows[i];\n",
       "      el.style.display = expanded ? \"none\" : \"table-row\";\n",
       "    }\n",
       "    ellipsis.innerHTML = expanded ? \"&hellip;)\" : \"&lsaquo;&lsaquo;&lsaquo;\";\n",
       "    expanded = !expanded;\n",
       "  });\n",
       "})();\n",
       "</script>\n"
      ],
      "text/plain": [
       "Figure(id='1004', ...)"
      ]
     },
     "execution_count": 20,
     "metadata": {},
     "output_type": "execute_result"
    }
   ],
   "source": [
    "draw_vectors(word_vectors_pca[:, 0], word_vectors_pca[:, 1], token=words)\n",
    "\n",
    "# hover a mouse over there and see if you can identify the clusters"
   ]
  },
  {
   "cell_type": "markdown",
   "metadata": {},
   "source": [
    "### Visualizing neighbors with TSNE and UMAP\n",
    "PCA is nice but it's strictly linear and thus only able to capture coarse high-level structure of the data.\n",
    "\n",
    "If we instead want to focus on keeping neighboring points near, we could use UMAP, which is itself an embedding method. Here you can read __[more on UMAP (ru)](https://habr.com/ru/company/newprolab/blog/350584/)__ and on __[t-SNE](https://distill.pub/2016/misread-tsne/)__, which is also an embedding."
   ]
  },
  {
   "cell_type": "code",
   "execution_count": null,
   "metadata": {},
   "outputs": [],
   "source": [
    "from sklearn.manifold import TSNE"
   ]
  },
  {
   "cell_type": "code",
   "execution_count": 28,
   "metadata": {
    "scrolled": true
   },
   "outputs": [
    {
     "name": "stderr",
     "output_type": "stream",
     "text": [
      "/Users/artem/Documents/ML_projets/venvs/work_env/lib/python3.8/site-packages/sklearn/manifold/_t_sne.py:780: FutureWarning: The default initialization in TSNE will change from 'random' to 'pca' in 1.2.\n",
      "  warnings.warn(\n",
      "/Users/artem/Documents/ML_projets/venvs/work_env/lib/python3.8/site-packages/sklearn/manifold/_t_sne.py:790: FutureWarning: The default learning rate in TSNE will change from 200.0 to 'auto' in 1.2.\n",
      "  warnings.warn(\n"
     ]
    },
    {
     "name": "stdout",
     "output_type": "stream",
     "text": [
      "[t-SNE] Computing 91 nearest neighbors...\n",
      "[t-SNE] Indexed 1000 samples in 0.000s...\n",
      "[t-SNE] Computed neighbors for 1000 samples in 0.037s...\n",
      "[t-SNE] Computed conditional probabilities for sample 1000 / 1000\n",
      "[t-SNE] Mean sigma: 1.229689\n",
      "[t-SNE] KL divergence after 250 iterations with early exaggeration: 64.520187\n",
      "[t-SNE] KL divergence after 1000 iterations: 0.970865\n"
     ]
    }
   ],
   "source": [
    "from sklearn.manifold import TSNE\n",
    "word_tsne = TSNE(n_components= 2, verbose= 1).fit_transform(word_vectors)\n",
    "word_tsne = StandardScaler().fit_transform(word_tsne)"
   ]
  },
  {
   "cell_type": "code",
   "execution_count": 30,
   "metadata": {},
   "outputs": [
    {
     "data": {
      "text/html": [
       "\n",
       "\n",
       "\n",
       "\n",
       "\n",
       "\n",
       "  <div class=\"bk-root\" id=\"73ba729c-9177-494a-ab8e-21bedf838cdf\" data-root-id=\"1114\"></div>\n"
      ]
     },
     "metadata": {},
     "output_type": "display_data"
    },
    {
     "data": {
      "application/javascript": [
       "(function(root) {\n",
       "  function embed_document(root) {\n",
       "    \n",
       "  const docs_json = {\"6cb0234c-a0fc-4075-91dc-bdf00d2d83f0\":{\"defs\":[],\"roots\":{\"references\":[{\"attributes\":{\"below\":[{\"id\":\"1123\"}],\"center\":[{\"id\":\"1126\"},{\"id\":\"1130\"}],\"height\":400,\"left\":[{\"id\":\"1127\"}],\"renderers\":[{\"id\":\"1149\"}],\"title\":{\"id\":\"1164\"},\"toolbar\":{\"id\":\"1138\"},\"x_range\":{\"id\":\"1115\"},\"x_scale\":{\"id\":\"1119\"},\"y_range\":{\"id\":\"1117\"},\"y_scale\":{\"id\":\"1121\"}},\"id\":\"1114\",\"subtype\":\"Figure\",\"type\":\"Plot\"},{\"attributes\":{\"fill_alpha\":{\"value\":0.1},\"fill_color\":{\"field\":\"color\"},\"hatch_alpha\":{\"value\":0.1},\"hatch_color\":{\"field\":\"color\"},\"line_alpha\":{\"value\":0.1},\"line_color\":{\"field\":\"color\"},\"size\":{\"value\":10},\"x\":{\"field\":\"x\"},\"y\":{\"field\":\"y\"}},\"id\":\"1147\",\"type\":\"Scatter\"},{\"attributes\":{},\"id\":\"1124\",\"type\":\"BasicTicker\"},{\"attributes\":{},\"id\":\"1134\",\"type\":\"SaveTool\"},{\"attributes\":{\"coordinates\":null,\"group\":null},\"id\":\"1164\",\"type\":\"Title\"},{\"attributes\":{},\"id\":\"1135\",\"type\":\"ResetTool\"},{\"attributes\":{\"overlay\":{\"id\":\"1137\"}},\"id\":\"1133\",\"type\":\"BoxZoomTool\"},{\"attributes\":{\"coordinates\":null,\"formatter\":{\"id\":\"1167\"},\"group\":null,\"major_label_policy\":{\"id\":\"1168\"},\"ticker\":{\"id\":\"1128\"}},\"id\":\"1127\",\"type\":\"LinearAxis\"},{\"attributes\":{\"bottom_units\":\"screen\",\"coordinates\":null,\"fill_alpha\":0.5,\"fill_color\":\"lightgrey\",\"group\":null,\"left_units\":\"screen\",\"level\":\"overlay\",\"line_alpha\":1.0,\"line_color\":\"black\",\"line_dash\":[4,4],\"line_width\":2,\"right_units\":\"screen\",\"syncable\":false,\"top_units\":\"screen\"},\"id\":\"1137\",\"type\":\"BoxAnnotation\"},{\"attributes\":{\"axis\":{\"id\":\"1123\"},\"coordinates\":null,\"group\":null,\"ticker\":null},\"id\":\"1126\",\"type\":\"Grid\"},{\"attributes\":{},\"id\":\"1173\",\"type\":\"Selection\"},{\"attributes\":{},\"id\":\"1128\",\"type\":\"BasicTicker\"},{\"attributes\":{\"fill_alpha\":{\"value\":0.25},\"fill_color\":{\"field\":\"color\"},\"hatch_alpha\":{\"value\":0.25},\"hatch_color\":{\"field\":\"color\"},\"line_alpha\":{\"value\":0.25},\"line_color\":{\"field\":\"color\"},\"size\":{\"value\":10},\"x\":{\"field\":\"x\"},\"y\":{\"field\":\"y\"}},\"id\":\"1146\",\"type\":\"Scatter\"},{\"attributes\":{},\"id\":\"1172\",\"type\":\"UnionRenderers\"},{\"attributes\":{\"axis\":{\"id\":\"1127\"},\"coordinates\":null,\"dimension\":1,\"group\":null,\"ticker\":null},\"id\":\"1130\",\"type\":\"Grid\"},{\"attributes\":{},\"id\":\"1136\",\"type\":\"HelpTool\"},{\"attributes\":{\"callback\":null,\"tooltips\":[[\"token\",\"@token\"]]},\"id\":\"1151\",\"type\":\"HoverTool\"},{\"attributes\":{\"source\":{\"id\":\"1113\"}},\"id\":\"1150\",\"type\":\"CDSView\"},{\"attributes\":{},\"id\":\"1121\",\"type\":\"LinearScale\"},{\"attributes\":{},\"id\":\"1167\",\"type\":\"BasicTickFormatter\"},{\"attributes\":{\"coordinates\":null,\"data_source\":{\"id\":\"1113\"},\"glyph\":{\"id\":\"1146\"},\"group\":null,\"hover_glyph\":null,\"muted_glyph\":{\"id\":\"1148\"},\"nonselection_glyph\":{\"id\":\"1147\"},\"view\":{\"id\":\"1150\"}},\"id\":\"1149\",\"type\":\"GlyphRenderer\"},{\"attributes\":{\"data\":{\"color\":[\"blue\",\"blue\",\"blue\",\"blue\",\"blue\",\"blue\",\"blue\",\"blue\",\"blue\",\"blue\",\"blue\",\"blue\",\"blue\",\"blue\",\"blue\",\"blue\",\"blue\",\"blue\",\"blue\",\"blue\",\"blue\",\"blue\",\"blue\",\"blue\",\"blue\",\"blue\",\"blue\",\"blue\",\"blue\",\"blue\",\"blue\",\"blue\",\"blue\",\"blue\",\"blue\",\"blue\",\"blue\",\"blue\",\"blue\",\"blue\",\"blue\",\"blue\",\"blue\",\"blue\",\"blue\",\"blue\",\"blue\",\"blue\",\"blue\",\"blue\",\"blue\",\"blue\",\"blue\",\"blue\",\"blue\",\"blue\",\"blue\",\"blue\",\"blue\",\"blue\",\"blue\",\"blue\",\"blue\",\"blue\",\"blue\",\"blue\",\"blue\",\"blue\",\"blue\",\"blue\",\"blue\",\"blue\",\"blue\",\"blue\",\"blue\",\"blue\",\"blue\",\"blue\",\"blue\",\"blue\",\"blue\",\"blue\",\"blue\",\"blue\",\"blue\",\"blue\",\"blue\",\"blue\",\"blue\",\"blue\",\"blue\",\"blue\",\"blue\",\"blue\",\"blue\",\"blue\",\"blue\",\"blue\",\"blue\",\"blue\",\"blue\",\"blue\",\"blue\",\"blue\",\"blue\",\"blue\",\"blue\",\"blue\",\"blue\",\"blue\",\"blue\",\"blue\",\"blue\",\"blue\",\"blue\",\"blue\",\"blue\",\"blue\",\"blue\",\"blue\",\"blue\",\"blue\",\"blue\",\"blue\",\"blue\",\"blue\",\"blue\",\"blue\",\"blue\",\"blue\",\"blue\",\"blue\",\"blue\",\"blue\",\"blue\",\"blue\",\"blue\",\"blue\",\"blue\",\"blue\",\"blue\",\"blue\",\"blue\",\"blue\",\"blue\",\"blue\",\"blue\",\"blue\",\"blue\",\"blue\",\"blue\",\"blue\",\"blue\",\"blue\",\"blue\",\"blue\",\"blue\",\"blue\",\"blue\",\"blue\",\"blue\",\"blue\",\"blue\",\"blue\",\"blue\",\"blue\",\"blue\",\"blue\",\"blue\",\"blue\",\"blue\",\"blue\",\"blue\",\"blue\",\"blue\",\"blue\",\"blue\",\"blue\",\"blue\",\"blue\",\"blue\",\"blue\",\"blue\",\"blue\",\"blue\",\"blue\",\"blue\",\"blue\",\"blue\",\"blue\",\"blue\",\"blue\",\"blue\",\"blue\",\"blue\",\"blue\",\"blue\",\"blue\",\"blue\",\"blue\",\"blue\",\"blue\",\"blue\",\"blue\",\"blue\",\"blue\",\"blue\",\"blue\",\"blue\",\"blue\",\"blue\",\"blue\",\"blue\",\"blue\",\"blue\",\"blue\",\"blue\",\"blue\",\"blue\",\"blue\",\"blue\",\"blue\",\"blue\",\"blue\",\"blue\",\"blue\",\"blue\",\"blue\",\"blue\",\"blue\",\"blue\",\"blue\",\"blue\",\"blue\",\"blue\",\"blue\",\"blue\",\"blue\",\"blue\",\"blue\",\"blue\",\"blue\",\"blue\",\"blue\",\"blue\",\"blue\",\"blue\",\"blue\",\"blue\",\"blue\",\"blue\",\"blue\",\"blue\",\"blue\",\"blue\",\"blue\",\"blue\",\"blue\",\"blue\",\"blue\",\"blue\",\"blue\",\"blue\",\"blue\",\"blue\",\"blue\",\"blue\",\"blue\",\"blue\",\"blue\",\"blue\",\"blue\",\"blue\",\"blue\",\"blue\",\"blue\",\"blue\",\"blue\",\"blue\",\"blue\",\"blue\",\"blue\",\"blue\",\"blue\",\"blue\",\"blue\",\"blue\",\"blue\",\"blue\",\"blue\",\"blue\",\"blue\",\"blue\",\"blue\",\"blue\",\"blue\",\"blue\",\"blue\",\"blue\",\"blue\",\"blue\",\"blue\",\"blue\",\"blue\",\"blue\",\"blue\",\"blue\",\"blue\",\"blue\",\"blue\",\"blue\",\"blue\",\"blue\",\"blue\",\"blue\",\"blue\",\"blue\",\"blue\",\"blue\",\"blue\",\"blue\",\"blue\",\"blue\",\"blue\",\"blue\",\"blue\",\"blue\",\"blue\",\"blue\",\"blue\",\"blue\",\"blue\",\"blue\",\"blue\",\"blue\",\"blue\",\"blue\",\"blue\",\"blue\",\"blue\",\"blue\",\"blue\",\"blue\",\"blue\",\"blue\",\"blue\",\"blue\",\"blue\",\"blue\",\"blue\",\"blue\",\"blue\",\"blue\",\"blue\",\"blue\",\"blue\",\"blue\",\"blue\",\"blue\",\"blue\",\"blue\",\"blue\",\"blue\",\"blue\",\"blue\",\"blue\",\"blue\",\"blue\",\"blue\",\"blue\",\"blue\",\"blue\",\"blue\",\"blue\",\"blue\",\"blue\",\"blue\",\"blue\",\"blue\",\"blue\",\"blue\",\"blue\",\"blue\",\"blue\",\"blue\",\"blue\",\"blue\",\"blue\",\"blue\",\"blue\",\"blue\",\"blue\",\"blue\",\"blue\",\"blue\",\"blue\",\"blue\",\"blue\",\"blue\",\"blue\",\"blue\",\"blue\",\"blue\",\"blue\",\"blue\",\"blue\",\"blue\",\"blue\",\"blue\",\"blue\",\"blue\",\"blue\",\"blue\",\"blue\",\"blue\",\"blue\",\"blue\",\"blue\",\"blue\",\"blue\",\"blue\",\"blue\",\"blue\",\"blue\",\"blue\",\"blue\",\"blue\",\"blue\",\"blue\",\"blue\",\"blue\",\"blue\",\"blue\",\"blue\",\"blue\",\"blue\",\"blue\",\"blue\",\"blue\",\"blue\",\"blue\",\"blue\",\"blue\",\"blue\",\"blue\",\"blue\",\"blue\",\"blue\",\"blue\",\"blue\",\"blue\",\"blue\",\"blue\",\"blue\",\"blue\",\"blue\",\"blue\",\"blue\",\"blue\",\"blue\",\"blue\",\"blue\",\"blue\",\"blue\",\"blue\",\"blue\",\"blue\",\"blue\",\"blue\",\"blue\",\"blue\",\"blue\",\"blue\",\"blue\",\"blue\",\"blue\",\"blue\",\"blue\",\"blue\",\"blue\",\"blue\",\"blue\",\"blue\",\"blue\",\"blue\",\"blue\",\"blue\",\"blue\",\"blue\",\"blue\",\"blue\",\"blue\",\"blue\",\"blue\",\"blue\",\"blue\",\"blue\",\"blue\",\"blue\",\"blue\",\"blue\",\"blue\",\"blue\",\"blue\",\"blue\",\"blue\",\"blue\",\"blue\",\"blue\",\"blue\",\"blue\",\"blue\",\"blue\",\"blue\",\"blue\",\"blue\",\"blue\",\"blue\",\"blue\",\"blue\",\"blue\",\"blue\",\"blue\",\"blue\",\"blue\",\"blue\",\"blue\",\"blue\",\"blue\",\"blue\",\"blue\",\"blue\",\"blue\",\"blue\",\"blue\",\"blue\",\"blue\",\"blue\",\"blue\",\"blue\",\"blue\",\"blue\",\"blue\",\"blue\",\"blue\",\"blue\",\"blue\",\"blue\",\"blue\",\"blue\",\"blue\",\"blue\",\"blue\",\"blue\",\"blue\",\"blue\",\"blue\",\"blue\",\"blue\",\"blue\",\"blue\",\"blue\",\"blue\",\"blue\",\"blue\",\"blue\",\"blue\",\"blue\",\"blue\",\"blue\",\"blue\",\"blue\",\"blue\",\"blue\",\"blue\",\"blue\",\"blue\",\"blue\",\"blue\",\"blue\",\"blue\",\"blue\",\"blue\",\"blue\",\"blue\",\"blue\",\"blue\",\"blue\",\"blue\",\"blue\",\"blue\",\"blue\",\"blue\",\"blue\",\"blue\",\"blue\",\"blue\",\"blue\",\"blue\",\"blue\",\"blue\",\"blue\",\"blue\",\"blue\",\"blue\",\"blue\",\"blue\",\"blue\",\"blue\",\"blue\",\"blue\",\"blue\",\"blue\",\"blue\",\"blue\",\"blue\",\"blue\",\"blue\",\"blue\",\"blue\",\"blue\",\"blue\",\"blue\",\"blue\",\"blue\",\"blue\",\"blue\",\"blue\",\"blue\",\"blue\",\"blue\",\"blue\",\"blue\",\"blue\",\"blue\",\"blue\",\"blue\",\"blue\",\"blue\",\"blue\",\"blue\",\"blue\",\"blue\",\"blue\",\"blue\",\"blue\",\"blue\",\"blue\",\"blue\",\"blue\",\"blue\",\"blue\",\"blue\",\"blue\",\"blue\",\"blue\",\"blue\",\"blue\",\"blue\",\"blue\",\"blue\",\"blue\",\"blue\",\"blue\",\"blue\",\"blue\",\"blue\",\"blue\",\"blue\",\"blue\",\"blue\",\"blue\",\"blue\",\"blue\",\"blue\",\"blue\",\"blue\",\"blue\",\"blue\",\"blue\",\"blue\",\"blue\",\"blue\",\"blue\",\"blue\",\"blue\",\"blue\",\"blue\",\"blue\",\"blue\",\"blue\",\"blue\",\"blue\",\"blue\",\"blue\",\"blue\",\"blue\",\"blue\",\"blue\",\"blue\",\"blue\",\"blue\",\"blue\",\"blue\",\"blue\",\"blue\",\"blue\",\"blue\",\"blue\",\"blue\",\"blue\",\"blue\",\"blue\",\"blue\",\"blue\",\"blue\",\"blue\",\"blue\",\"blue\",\"blue\",\"blue\",\"blue\",\"blue\",\"blue\",\"blue\",\"blue\",\"blue\",\"blue\",\"blue\",\"blue\",\"blue\",\"blue\",\"blue\",\"blue\",\"blue\",\"blue\",\"blue\",\"blue\",\"blue\",\"blue\",\"blue\",\"blue\",\"blue\",\"blue\",\"blue\",\"blue\",\"blue\",\"blue\",\"blue\",\"blue\",\"blue\",\"blue\",\"blue\",\"blue\",\"blue\",\"blue\",\"blue\",\"blue\",\"blue\",\"blue\",\"blue\",\"blue\",\"blue\",\"blue\",\"blue\",\"blue\",\"blue\",\"blue\",\"blue\",\"blue\",\"blue\",\"blue\",\"blue\",\"blue\",\"blue\",\"blue\",\"blue\",\"blue\",\"blue\",\"blue\",\"blue\",\"blue\",\"blue\",\"blue\",\"blue\",\"blue\",\"blue\",\"blue\",\"blue\",\"blue\",\"blue\",\"blue\",\"blue\",\"blue\",\"blue\",\"blue\",\"blue\",\"blue\",\"blue\",\"blue\",\"blue\",\"blue\",\"blue\",\"blue\",\"blue\",\"blue\",\"blue\",\"blue\",\"blue\",\"blue\",\"blue\",\"blue\",\"blue\",\"blue\",\"blue\",\"blue\",\"blue\",\"blue\",\"blue\",\"blue\",\"blue\",\"blue\",\"blue\",\"blue\",\"blue\",\"blue\",\"blue\",\"blue\",\"blue\",\"blue\",\"blue\",\"blue\",\"blue\",\"blue\",\"blue\",\"blue\",\"blue\",\"blue\",\"blue\",\"blue\",\"blue\",\"blue\",\"blue\",\"blue\",\"blue\",\"blue\",\"blue\",\"blue\",\"blue\",\"blue\",\"blue\",\"blue\",\"blue\",\"blue\",\"blue\",\"blue\",\"blue\",\"blue\",\"blue\",\"blue\",\"blue\",\"blue\",\"blue\",\"blue\",\"blue\",\"blue\",\"blue\",\"blue\",\"blue\",\"blue\",\"blue\",\"blue\",\"blue\",\"blue\",\"blue\",\"blue\",\"blue\",\"blue\",\"blue\",\"blue\",\"blue\",\"blue\",\"blue\",\"blue\",\"blue\",\"blue\",\"blue\",\"blue\",\"blue\",\"blue\",\"blue\",\"blue\",\"blue\",\"blue\",\"blue\",\"blue\",\"blue\",\"blue\",\"blue\",\"blue\",\"blue\",\"blue\",\"blue\",\"blue\",\"blue\",\"blue\",\"blue\",\"blue\",\"blue\",\"blue\",\"blue\",\"blue\",\"blue\",\"blue\",\"blue\",\"blue\",\"blue\",\"blue\",\"blue\",\"blue\",\"blue\",\"blue\",\"blue\",\"blue\",\"blue\",\"blue\",\"blue\",\"blue\",\"blue\",\"blue\",\"blue\",\"blue\",\"blue\",\"blue\",\"blue\",\"blue\",\"blue\",\"blue\",\"blue\",\"blue\",\"blue\",\"blue\",\"blue\",\"blue\",\"blue\",\"blue\",\"blue\",\"blue\",\"blue\",\"blue\",\"blue\",\"blue\",\"blue\",\"blue\",\"blue\",\"blue\",\"blue\",\"blue\",\"blue\",\"blue\",\"blue\",\"blue\",\"blue\",\"blue\",\"blue\",\"blue\",\"blue\",\"blue\",\"blue\",\"blue\",\"blue\",\"blue\",\"blue\",\"blue\",\"blue\",\"blue\",\"blue\",\"blue\",\"blue\",\"blue\",\"blue\",\"blue\",\"blue\",\"blue\",\"blue\",\"blue\",\"blue\",\"blue\",\"blue\",\"blue\",\"blue\",\"blue\",\"blue\",\"blue\",\"blue\",\"blue\",\"blue\",\"blue\",\"blue\",\"blue\"],\"token\":[\"<user>\",\".\",\":\",\"rt\",\",\",\"<repeat>\",\"<hashtag>\",\"<number>\",\"<url>\",\"!\",\"i\",\"a\",\"\\\"\",\"the\",\"?\",\"you\",\"to\",\"(\",\"<allcaps>\",\"<elong>\",\")\",\"me\",\"de\",\"<smile>\",\"\\uff01\",\"que\",\"and\",\"\\u3002\",\"-\",\"my\",\"no\",\"\\u3001\",\"is\",\"it\",\"\\u2026\",\"in\",\"n\",\"for\",\"/\",\"of\",\"la\",\"'s\",\"*\",\"do\",\"n't\",\"that\",\"on\",\"y\",\"'\",\"e\",\"o\",\"u\",\"en\",\"this\",\"el\",\"so\",\"be\",\"'m\",\"with\",\"just\",\">\",\"your\",\"^\",\"like\",\"have\",\"te\",\"at\",\"\\uff1f\",\"love\",\"se\",\"are\",\"<\",\"m\",\"r\",\"if\",\"all\",\"b\",\"\\u30fb\",\"not\",\"but\",\"we\",\"es\",\"ya\",\"&\",\"follow\",\"up\",\"what\",\"get\",\"lol\",\"un\",\"\\u2665\",\"lo\",\"when\",\"was\",\"\\u201c\",\"\\u201d\",\"one\",\"por\",\"si\",\"out\",\"_\",\"mi\",\"can\",\"<sadface>\",\"\\u0645\\u0646\",\"\\u2661\",\"\\u00b4\",\"he\",\"con\",\"they\",\"now\",\"go\",\"\\u060c\",\"para\",\"los\",\"know\",\"haha\",\"good\",\"tu\",\"back\",\"~\",\"about\",\"new\",\";\",\"as\",\"day\",\"how\",\"who\",\"will\",\"want\",\"people\",\"yo\",\"eu\",\"from\",\"di\",\"time\",\"<heart>\",\"s\",\"aku\",\"da\",\"'re\",\"<lolface>\",\"una\",\"got\",\"las\",\"more\",\"x\",\"she\",\"today\",\"\\uff08\",\">>\",\"k\",\"by\",\"or\",\"\\u0641\\u064a\",\"\\uff65\",\"too\",\"le\",\"\\u00e9\",\"|\",\"[\",\"\\uff09\",\"]\",\"see\",\"why\",\"yg\",\"ca\",\"como\",\"her\",\"\\u2014\",\"q\",\"need\",\"an\",\"na\",\"\\u7b11\",\"there\",\"\\u03c9\",\"happy\",\"im\",\"mas\",\"je\",\"life\",\"really\",\"make\",\"yang\",\"shit\",\"think\",\"t\",\"\\u2764\",\"n\\u00e3o\",\"never\",\"some\",\"\\uff5e\",\"oh\",\"\\u2605\",\"did\",\"would\",\"del\",\"`\",\"d\",\"please\",\"via\",\"much\",\"fuck\",\"al\",\"dia\",\"$\",\"\\u0648\",\"right\",\"best\",\"c\",\"going\",\"\\u0627\\u0644\\u0644\\u0647\",\"pero\",\"only\",\"has\",\"\\u266a\",\"'ll\",\"twitter\",\"=\",\"hahaha\",\"its\",\"nn\",\"\\uff40\",\"\\u00bf\",\"am\",\"say\",\"<neutralface>\",\"them\",\"here\",\"\\u0644\\u0627\",\"off\",\"still\",\"dan\",\"+\",\"night\",\"w\",\"ada\",\"someone\",\"even\",\"then\",\"\\u2606\",\"ni\",\"come\",\"com\",\"always\",\"man\",\"'ve\",\"been\",\"his\",\"itu\",\"\\u0639\\u0644\\u0649\",\"-_-\",\"\\u263a\",\"over\",\"um\",\"\\u0645\\u0627\",\"hate\",\"girl\",\"ai\",\"had\",\"pra\",\"todo\",\"mais\",\"feel\",\"let\",\"ini\",\"because\",\"\\uff9f\",\"thanks\",\"ah\",\"way\",\"ever\",\"look\",\"tweet\",\"followers\",\"should\",\"our\",\"xd\",\"aja\",\"esta\",\"school\",\"him\",\"ser\",\"take\",\"than\",\"video\",\"em\",\"last\",\"wanna\",\"does\",\"us\",\"miss\",\"l\",\"ga\",\"better\",\"well\",\"could\",\"\\u25bd\",\"%\",\"apa\",\"cuando\",\"team\",\"\\u2714\",\"@\",\"ok\",\"\\u061f\",\"\\u2022\",\"vida\",\"quiero\",\"les\",\"being\",\"real\",\"down\",\"kamu\",\"everyone\",\"gonna\",\"live\",\"tonight\",\"yes\",\"work\",\"ass\",\"retweet\",\"nada\",\"sama\",\"first\",\"<<\",\"photo\",\"tomorrow\",\"where\",\"god\",\"son\",\"ke\",\"ta\",\"f\",\"home\",\"lagi\",\"thank\",\"birthday\",\"\\u2588\",\"ha\",\"great\",\"lmao\",\"omg\",\"morning\",\"m\\u00e1s\",\"mau\",\"baby\",\"dont\",\"\\uff61\",\"their\",\"p\",\"things\",\"game\",\"pas\",\"bad\",\"year\",\"yeah\",\"su\",\"bitch\",\"\\u0432\",\"stop\",\"hoy\",\"something\",\"meu\",\"tak\",\"gak\",\"world\",\"amor\",\"h\",\"\\\\\",\"ver\",\"\\uff1b\",\"porque\",\"give\",\"these\",\"\\u0627\\u0644\\u0644\\u0647\\u0645\",\"were\",\"hay\",\"sleep\",\"gue\",\"every\",\"friends\",\"uma\",\"tell\",\"amo\",\"vou\",\"bien\",\"\\u00a1\",\"again\",\"\\uff3e\",\"\\uff0f\",\"done\",\"after\",\"todos\",\"girls\",\"guys\",\"getting\",\"big\",\"wait\",\"justin\",\"eh\",\"\\u2192\",\"kan\",\"kita\",\"jajaja\",\"wish\",\"said\",\"fucking\",\"show\",\"thing\",\"next\",\"voc\\u00ea\",\"nos\",\"little\",\"tengo\",\"keep\",\"person\",\"''\",\"\\u2200\",\"hope\",\"\\u0643\\u0644\",\"hey\",\"bisa\",\"free\",\"made\",\"foto\",\"va\",\"everything\",\"iya\",\"nigga\",\"eso\",\"et\",\"watch\",\"music\",\"week\",\"talk\",\"ne\",\"solo\",\"gente\",\"udah\",\"\\uff1a\",\"--\",\"\\uff3c\",\"mejor\",\"facebook\",\"ma\",\"v\",\"phone\",\"most\",\"same\",\"okay\",\"ik\",\"before\",\"minha\",\"days\",\"g\",\"ti\",\"damn\",\"nice\",\"voy\",\"vai\",\"call\",\"long\",\"tapi\",\"http\",\"sin\",\"nunca\",\"doing\",\"other\",\"find\",\"il\",\"sa\",\"sorry\",\"nya\",\"orang\",\"\\u00b0\",\"hard\",\"mean\",\"die\",\"\\u0627\\u0644\\u0644\\u064a\",\"tem\",\"soy\",\"este\",\"kalo\",\"s\\u00f3\",\"th\",\"win\",\"nothing\",\"into\",\"face\",\"cute\",\"'d\",\"gracias\",\"lah\",\"\\u0438\",\"any\",\"play\",\"\\u2190\",\"ko\",\"text\",\"\\u2323\",\"estoy\",\"tau\",\"ur\",\"buat\",\"#\",\"cause\",\"\\u044f\",\"put\",\"kau\",\"siempre\",\"juga\",\"casa\",\"\\u0623\\u0646\",\"help\",\"start\",\"feliz\",\"old\",\"ir\",\"very\",\"care\",\"bir\",\"makes\",\"song\",\"check\",\"watching\",\"ahora\",\"jadi\",\"os\",\"may\",\"friend\",\"beautiful\",\"heart\",\"ka\",\"vc\",\"mundo\",\"\\u043d\\u0430\",\"sure\",\"tan\",\"pretty\",\"aqui\",\"\\u043d\\u0435\",\"house\",\"\\u0631\\u062a\\u0648\\u064a\\u062a\",\"\\u064a\\u0627\",\"ja\",\"true\",\"muy\",\"away\",\"already\",\"actually\",\"believe\",\"try\",\"many\",\"ma\\u00f1ana\",\"mis\",\"lu\",\"those\",\"hot\",\"qu\\u00e9\",\"mal\",\"\\u0639\\u0646\",\"though\",\"ask\",\"amazing\",\"bed\",\"}\",\"two\",\"mom\",\"d\\u00eda\",\"ve\",\"dari\",\"gameinsight\",\"stay\",\"fun\",\"around\",\"van\",\"cont\",\"ready\",\"money\",\"bu\",\"funny\",\"cool\",\"hair\",\"\\u00e0\",\"tho\",\"{\",\"wo\",\"hi\",\"name\",\"tiene\",\"hahahaha\",\"pa\",\"algo\",\"gotta\",\"\\u0648\\u0644\\u0627\",\"boy\",\"another\",\"c'est\",\"hari\",\"jajajaja\",\"having\",\"cara\",\"jaja\",\"dm\",\"looking\",\"top\",\"android\",\"dah\",\"wow\",\"\\u2591\",\"eres\",\"ben\",\"must\",\"news\",\"met\",\"est\\u00e1\",\"nih\",\"family\",\"black\",\"thought\",\"nak\",\"super\",\"end\",\"hace\",\"remember\",\"ama\",\"party\",\"cant\",\"vamos\",\"anything\",\"anyone\",\"\\u0641\\u0648\\u0644\\u0648\",\"perfect\",\"guy\",\"vez\",\"christmas\",\"dos\",\"bueno\",\"nao\",\"years\",\"vote\",\"dormir\",\"bro\",\"else\",\"quien\",\"untuk\",\"jangan\",\"myself\",\"head\",\"mind\",\"gua\",\"talking\",\"while\",\"dat\",\"food\",\"\\u0434\",\"coming\",\"wkwk\",\"trying\",\"saya\",\"mucho\",\"without\",\"wrong\",\"\\u2019s\",\"baru\",\"__\",\"hehe\",\"hacer\",\"lot\",\"followed\",\"crazy\",\"hell\",\"feeling\",\"des\",\"kok\",\"j\",\"stats\",\"j'\",\"\\u0627\\u0646\",\"tweets\",\"non\",\"cosas\",\"era\",\"high\",\"niggas\",\"change\",\"movie\",\"xx\",\"mad\",\"sih\",\"sometimes\",\"deh\",\"allah\",\"through\",\"pour\",\"ela\",\"soon\",\"gone\",\"playing\",\"smile\",\"bukan\",\"tv\",\"fans\",\"hasta\",\"akan\",\"y'\",\"looks\",\"isso\",\"\\u270c\",\"tired\",\"boys\",\"might\",\"dong\",\"lg\",\"use\",\"maybe\",\"until\",\"menos\",\"own\",\"dengan\",\"eat\",\"ou\",\"weekend\",\"\\u02d8\",\"class\",\"ele\",\"harry\",\"iphone\",\"friday\",\"single\",\"ff\",\"awesome\",\"bout\",\"muito\",\"hoje\",\"\\u00ac\",\"dios\",\"such\",\"estar\",\"j\\u00e1\",\"quando\",\"esa\",\"making\",\"\\u2501\",\"times\",\"lmfao\",\"gw\",\"moment\",\"yet\",\"aw\",\"smh\",\"banget\",\"masih\",\"qui\",\"quem\",\"\\u2013\",\"leave\",\"du\",\"une\",\"guess\",\"hit\",\"\\u0441\",\"pm\",\"since\",\"pues\",\"est\",\"job\",\"\\uff89\",\"mana\",\"bom\",\"siapa\",\"suka\",\"bieber\",\"mention\",\"lebih\",\"favorite\",\"bitches\",\"forever\",\"\\u0644\\u064a\",\"final\",\"read\",\"alguien\",\"open\",\"yourself\",\"ese\",\"che\",\"sex\",\"yaa\",\"car\",\"direction\",\"tidak\",\"seu\",\"gets\",\"left\",\"re\",\"jam\",\"enough\",\"\\u0625\\u0644\\u0627\",\"once\",\"\\u2019\",\"part\",\"cada\",\"\\u5b9a\\u671f\",\"\\u0644\\u0643\",\"een\",\"seen\",\"kak\",\"as\\u00ed\",\"nem\",\"\\u0639\\u0645\\u0644\",\"white\",\"told\",\"says\",\"esto\",\"sad\",\"mo\",\"fue\",\"yah\",\"summer\",\"\\u0647\",\"\\u2b55\",\"\\u00bb\",\"thats\",\"\\u0645\\u0639\",\"posted\",\"wants\",\"agora\",\"together\",\"fan\",\"men\",\"hear\",\"full\",\"\\u2600\",\"sigo\",\"pq\",\"dulu\",\"plus\",\"foi\",\"tudo\",\"\\u0647\\u0648\",\"ill\",\"\\u3042\",\"thinking\",\"wtf\",\"pagi\",\"mama\",\"kalau\",\"hati\",\"sexy\",\"sayang\",\"baik\",\"semua\",\"hola\",\"went\",\"vos\",\"tanto\",\"finally\",\"fb\",\"sea\",\"stupid\",\"tus\",\"seriously\",\"hora\",\"min\",\"pic\",\"estas\",\"turn\",\"hours\",\"excited\",\"nah\",\"buy\",\"saying\",\"mah\",\"break\",\"needs\",\"ce\",\"room\",\"choice\",\"far\",\"dead\",\"quero\",\"saw\",\"kids\",\"lil\",\"whole\",\"puede\",\"fall\",\"sus\",\"lost\",\"asi\",\"word\",\"\\u2639\",\"also\",\"\\u0631\\u064a\\u062a\\u0648\\u064a\\u062a\",\"probably\",\"everybody\",\"tarde\",\"run\",\"sei\",\"follback\",\"forget\",\"sweet\",\"welcome\",\"selamat\",\"\\uff3f\",\"sur\",\"place\",\"gusta\",\"sabe\",\"androidgames\",\"tp\",\"tiempo\",\"\\u0628\\u0633\",\"sou\",\"tuh\",\"vs\",\"eyes\",\"\\u0627\\u0646\\u0627\",\"picture\",\"das\",\"meet\",\"anak\",\"persona\",\"essa\",\"bored\",\"following\",\"nadie\",\"nobody\",\"dice\",\"alone\",\"sick\",\"red\",\"city\",\"cinta\",\"\\u6708\",\"linda\",\"dream\",\"story\",\"km\",\"het\",\"waiting\",\"^_^\",\"mine\",\"\\u0447\\u0442\\u043e\",\"reason\",\"kk\",\"\\u0644\\u0648\",\"online\",\"fast\",\"udh\",\"wanted\",\"op\",\"others\",\"gay\",\"n\\u2019t\",\"used\",\"sem\",\"understand\",\"moi\",\"sm\",\"aint\",\"donde\",\"bem\",\"which\",\"ng\",\"followback\",\"punya\",\"late\",\"anda\",\"tidur\",\"puedo\",\"early\",\"nd\",\"personas\",\"banyak\",\"\\u2705\",\"\\u278a\",\"trust\",\"noche\",\"tl\",\"\\uff1e\",\"\\u00ab\",\"af\",\"move\",\"pro\",\"bring\",\"ku\",\"called\",\"relationship\",\"idk\",\"hurt\",\"st\",\"pernah\",\"pessoas\",\"hello\",\"uno\",\"unfollowers\",\"cry\"],\"x\":{\"__ndarray__\":\"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\",\"dtype\":\"float32\",\"order\":\"little\",\"shape\":[1000]},\"y\":{\"__ndarray__\":\"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\",\"dtype\":\"float32\",\"order\":\"little\",\"shape\":[1000]}},\"selected\":{\"id\":\"1173\"},\"selection_policy\":{\"id\":\"1172\"}},\"id\":\"1113\",\"type\":\"ColumnDataSource\"},{\"attributes\":{},\"id\":\"1168\",\"type\":\"AllLabels\"},{\"attributes\":{\"coordinates\":null,\"formatter\":{\"id\":\"1170\"},\"group\":null,\"major_label_policy\":{\"id\":\"1171\"},\"ticker\":{\"id\":\"1124\"}},\"id\":\"1123\",\"type\":\"LinearAxis\"},{\"attributes\":{},\"id\":\"1115\",\"type\":\"DataRange1d\"},{\"attributes\":{\"active_scroll\":{\"id\":\"1132\"},\"tools\":[{\"id\":\"1131\"},{\"id\":\"1132\"},{\"id\":\"1133\"},{\"id\":\"1134\"},{\"id\":\"1135\"},{\"id\":\"1136\"},{\"id\":\"1151\"}]},\"id\":\"1138\",\"type\":\"Toolbar\"},{\"attributes\":{},\"id\":\"1117\",\"type\":\"DataRange1d\"},{\"attributes\":{},\"id\":\"1170\",\"type\":\"BasicTickFormatter\"},{\"attributes\":{},\"id\":\"1119\",\"type\":\"LinearScale\"},{\"attributes\":{\"fill_alpha\":{\"value\":0.2},\"fill_color\":{\"field\":\"color\"},\"hatch_alpha\":{\"value\":0.2},\"hatch_color\":{\"field\":\"color\"},\"line_alpha\":{\"value\":0.2},\"line_color\":{\"field\":\"color\"},\"size\":{\"value\":10},\"x\":{\"field\":\"x\"},\"y\":{\"field\":\"y\"}},\"id\":\"1148\",\"type\":\"Scatter\"},{\"attributes\":{},\"id\":\"1171\",\"type\":\"AllLabels\"},{\"attributes\":{},\"id\":\"1131\",\"type\":\"PanTool\"},{\"attributes\":{},\"id\":\"1132\",\"type\":\"WheelZoomTool\"}],\"root_ids\":[\"1114\"]},\"title\":\"Bokeh Application\",\"version\":\"2.4.2\"}};\n",
       "  const render_items = [{\"docid\":\"6cb0234c-a0fc-4075-91dc-bdf00d2d83f0\",\"root_ids\":[\"1114\"],\"roots\":{\"1114\":\"73ba729c-9177-494a-ab8e-21bedf838cdf\"}}];\n",
       "  root.Bokeh.embed.embed_items_notebook(docs_json, render_items);\n",
       "\n",
       "  }\n",
       "  if (root.Bokeh !== undefined) {\n",
       "    embed_document(root);\n",
       "  } else {\n",
       "    let attempts = 0;\n",
       "    const timer = setInterval(function(root) {\n",
       "      if (root.Bokeh !== undefined) {\n",
       "        clearInterval(timer);\n",
       "        embed_document(root);\n",
       "      } else {\n",
       "        attempts++;\n",
       "        if (attempts > 100) {\n",
       "          clearInterval(timer);\n",
       "          console.log(\"Bokeh: ERROR: Unable to run BokehJS code because BokehJS library is missing\");\n",
       "        }\n",
       "      }\n",
       "    }, 10, root)\n",
       "  }\n",
       "})(window);"
      ],
      "application/vnd.bokehjs_exec.v0+json": ""
     },
     "metadata": {
      "application/vnd.bokehjs_exec.v0+json": {
       "id": "1114"
      }
     },
     "output_type": "display_data"
    },
    {
     "data": {
      "text/html": [
       "<div style=\"display: table;\"><div style=\"display: table-row;\"><div style=\"display: table-cell;\"><b title=\"bokeh.plotting.figure.Figure\">Figure</b>(</div><div style=\"display: table-cell;\">id&nbsp;=&nbsp;'1114', <span id=\"1231\" style=\"cursor: pointer;\">&hellip;)</span></div></div><div class=\"1230\" style=\"display: none;\"><div style=\"display: table-cell;\"></div><div style=\"display: table-cell;\">above&nbsp;=&nbsp;[],</div></div><div class=\"1230\" style=\"display: none;\"><div style=\"display: table-cell;\"></div><div style=\"display: table-cell;\">align&nbsp;=&nbsp;'start',</div></div><div class=\"1230\" style=\"display: none;\"><div style=\"display: table-cell;\"></div><div style=\"display: table-cell;\">aspect_ratio&nbsp;=&nbsp;None,</div></div><div class=\"1230\" style=\"display: none;\"><div style=\"display: table-cell;\"></div><div style=\"display: table-cell;\">aspect_scale&nbsp;=&nbsp;1,</div></div><div class=\"1230\" style=\"display: none;\"><div style=\"display: table-cell;\"></div><div style=\"display: table-cell;\">background&nbsp;=&nbsp;None,</div></div><div class=\"1230\" style=\"display: none;\"><div style=\"display: table-cell;\"></div><div style=\"display: table-cell;\">background_fill_alpha&nbsp;=&nbsp;1.0,</div></div><div class=\"1230\" style=\"display: none;\"><div style=\"display: table-cell;\"></div><div style=\"display: table-cell;\">background_fill_color&nbsp;=&nbsp;'#ffffff',</div></div><div class=\"1230\" style=\"display: none;\"><div style=\"display: table-cell;\"></div><div style=\"display: table-cell;\">below&nbsp;=&nbsp;[LinearAxis(id='1123', ...)],</div></div><div class=\"1230\" style=\"display: none;\"><div style=\"display: table-cell;\"></div><div style=\"display: table-cell;\">border_fill_alpha&nbsp;=&nbsp;1.0,</div></div><div class=\"1230\" style=\"display: none;\"><div style=\"display: table-cell;\"></div><div style=\"display: table-cell;\">border_fill_color&nbsp;=&nbsp;'#ffffff',</div></div><div class=\"1230\" style=\"display: none;\"><div style=\"display: table-cell;\"></div><div style=\"display: table-cell;\">center&nbsp;=&nbsp;[Grid(id='1126', ...), Grid(id='1130', ...)],</div></div><div class=\"1230\" style=\"display: none;\"><div style=\"display: table-cell;\"></div><div style=\"display: table-cell;\">css_classes&nbsp;=&nbsp;[],</div></div><div class=\"1230\" style=\"display: none;\"><div style=\"display: table-cell;\"></div><div style=\"display: table-cell;\">disabled&nbsp;=&nbsp;False,</div></div><div class=\"1230\" style=\"display: none;\"><div style=\"display: table-cell;\"></div><div style=\"display: table-cell;\">extra_x_ranges&nbsp;=&nbsp;{},</div></div><div class=\"1230\" style=\"display: none;\"><div style=\"display: table-cell;\"></div><div style=\"display: table-cell;\">extra_x_scales&nbsp;=&nbsp;{},</div></div><div class=\"1230\" style=\"display: none;\"><div style=\"display: table-cell;\"></div><div style=\"display: table-cell;\">extra_y_ranges&nbsp;=&nbsp;{},</div></div><div class=\"1230\" style=\"display: none;\"><div style=\"display: table-cell;\"></div><div style=\"display: table-cell;\">extra_y_scales&nbsp;=&nbsp;{},</div></div><div class=\"1230\" style=\"display: none;\"><div style=\"display: table-cell;\"></div><div style=\"display: table-cell;\">frame_height&nbsp;=&nbsp;None,</div></div><div class=\"1230\" style=\"display: none;\"><div style=\"display: table-cell;\"></div><div style=\"display: table-cell;\">frame_width&nbsp;=&nbsp;None,</div></div><div class=\"1230\" style=\"display: none;\"><div style=\"display: table-cell;\"></div><div style=\"display: table-cell;\">height&nbsp;=&nbsp;400,</div></div><div class=\"1230\" style=\"display: none;\"><div style=\"display: table-cell;\"></div><div style=\"display: table-cell;\">height_policy&nbsp;=&nbsp;'auto',</div></div><div class=\"1230\" style=\"display: none;\"><div style=\"display: table-cell;\"></div><div style=\"display: table-cell;\">hidpi&nbsp;=&nbsp;True,</div></div><div class=\"1230\" style=\"display: none;\"><div style=\"display: table-cell;\"></div><div style=\"display: table-cell;\">inner_height&nbsp;=&nbsp;0,</div></div><div class=\"1230\" style=\"display: none;\"><div style=\"display: table-cell;\"></div><div style=\"display: table-cell;\">inner_width&nbsp;=&nbsp;0,</div></div><div class=\"1230\" style=\"display: none;\"><div style=\"display: table-cell;\"></div><div style=\"display: table-cell;\">js_event_callbacks&nbsp;=&nbsp;{},</div></div><div class=\"1230\" style=\"display: none;\"><div style=\"display: table-cell;\"></div><div style=\"display: table-cell;\">js_property_callbacks&nbsp;=&nbsp;{},</div></div><div class=\"1230\" style=\"display: none;\"><div style=\"display: table-cell;\"></div><div style=\"display: table-cell;\">left&nbsp;=&nbsp;[LinearAxis(id='1127', ...)],</div></div><div class=\"1230\" style=\"display: none;\"><div style=\"display: table-cell;\"></div><div style=\"display: table-cell;\">lod_factor&nbsp;=&nbsp;10,</div></div><div class=\"1230\" style=\"display: none;\"><div style=\"display: table-cell;\"></div><div style=\"display: table-cell;\">lod_interval&nbsp;=&nbsp;300,</div></div><div class=\"1230\" style=\"display: none;\"><div style=\"display: table-cell;\"></div><div style=\"display: table-cell;\">lod_threshold&nbsp;=&nbsp;2000,</div></div><div class=\"1230\" style=\"display: none;\"><div style=\"display: table-cell;\"></div><div style=\"display: table-cell;\">lod_timeout&nbsp;=&nbsp;500,</div></div><div class=\"1230\" style=\"display: none;\"><div style=\"display: table-cell;\"></div><div style=\"display: table-cell;\">margin&nbsp;=&nbsp;(0, 0, 0, 0),</div></div><div class=\"1230\" style=\"display: none;\"><div style=\"display: table-cell;\"></div><div style=\"display: table-cell;\">match_aspect&nbsp;=&nbsp;False,</div></div><div class=\"1230\" style=\"display: none;\"><div style=\"display: table-cell;\"></div><div style=\"display: table-cell;\">max_height&nbsp;=&nbsp;None,</div></div><div class=\"1230\" style=\"display: none;\"><div style=\"display: table-cell;\"></div><div style=\"display: table-cell;\">max_width&nbsp;=&nbsp;None,</div></div><div class=\"1230\" style=\"display: none;\"><div style=\"display: table-cell;\"></div><div style=\"display: table-cell;\">min_border&nbsp;=&nbsp;5,</div></div><div class=\"1230\" style=\"display: none;\"><div style=\"display: table-cell;\"></div><div style=\"display: table-cell;\">min_border_bottom&nbsp;=&nbsp;None,</div></div><div class=\"1230\" style=\"display: none;\"><div style=\"display: table-cell;\"></div><div style=\"display: table-cell;\">min_border_left&nbsp;=&nbsp;None,</div></div><div class=\"1230\" style=\"display: none;\"><div style=\"display: table-cell;\"></div><div style=\"display: table-cell;\">min_border_right&nbsp;=&nbsp;None,</div></div><div class=\"1230\" style=\"display: none;\"><div style=\"display: table-cell;\"></div><div style=\"display: table-cell;\">min_border_top&nbsp;=&nbsp;None,</div></div><div class=\"1230\" style=\"display: none;\"><div style=\"display: table-cell;\"></div><div style=\"display: table-cell;\">min_height&nbsp;=&nbsp;None,</div></div><div class=\"1230\" style=\"display: none;\"><div style=\"display: table-cell;\"></div><div style=\"display: table-cell;\">min_width&nbsp;=&nbsp;None,</div></div><div class=\"1230\" style=\"display: none;\"><div style=\"display: table-cell;\"></div><div style=\"display: table-cell;\">name&nbsp;=&nbsp;None,</div></div><div class=\"1230\" style=\"display: none;\"><div style=\"display: table-cell;\"></div><div style=\"display: table-cell;\">outer_height&nbsp;=&nbsp;0,</div></div><div class=\"1230\" style=\"display: none;\"><div style=\"display: table-cell;\"></div><div style=\"display: table-cell;\">outer_width&nbsp;=&nbsp;0,</div></div><div class=\"1230\" style=\"display: none;\"><div style=\"display: table-cell;\"></div><div style=\"display: table-cell;\">outline_line_alpha&nbsp;=&nbsp;1.0,</div></div><div class=\"1230\" style=\"display: none;\"><div style=\"display: table-cell;\"></div><div style=\"display: table-cell;\">outline_line_cap&nbsp;=&nbsp;'butt',</div></div><div class=\"1230\" style=\"display: none;\"><div style=\"display: table-cell;\"></div><div style=\"display: table-cell;\">outline_line_color&nbsp;=&nbsp;'#e5e5e5',</div></div><div class=\"1230\" style=\"display: none;\"><div style=\"display: table-cell;\"></div><div style=\"display: table-cell;\">outline_line_dash&nbsp;=&nbsp;[],</div></div><div class=\"1230\" style=\"display: none;\"><div style=\"display: table-cell;\"></div><div style=\"display: table-cell;\">outline_line_dash_offset&nbsp;=&nbsp;0,</div></div><div class=\"1230\" style=\"display: none;\"><div style=\"display: table-cell;\"></div><div style=\"display: table-cell;\">outline_line_join&nbsp;=&nbsp;'bevel',</div></div><div class=\"1230\" style=\"display: none;\"><div style=\"display: table-cell;\"></div><div style=\"display: table-cell;\">outline_line_width&nbsp;=&nbsp;1,</div></div><div class=\"1230\" style=\"display: none;\"><div style=\"display: table-cell;\"></div><div style=\"display: table-cell;\">output_backend&nbsp;=&nbsp;'canvas',</div></div><div class=\"1230\" style=\"display: none;\"><div style=\"display: table-cell;\"></div><div style=\"display: table-cell;\">renderers&nbsp;=&nbsp;[GlyphRenderer(id='1149', ...)],</div></div><div class=\"1230\" style=\"display: none;\"><div style=\"display: table-cell;\"></div><div style=\"display: table-cell;\">reset_policy&nbsp;=&nbsp;'standard',</div></div><div class=\"1230\" style=\"display: none;\"><div style=\"display: table-cell;\"></div><div style=\"display: table-cell;\">right&nbsp;=&nbsp;[],</div></div><div class=\"1230\" style=\"display: none;\"><div style=\"display: table-cell;\"></div><div style=\"display: table-cell;\">sizing_mode&nbsp;=&nbsp;None,</div></div><div class=\"1230\" style=\"display: none;\"><div style=\"display: table-cell;\"></div><div style=\"display: table-cell;\">subscribed_events&nbsp;=&nbsp;[],</div></div><div class=\"1230\" style=\"display: none;\"><div style=\"display: table-cell;\"></div><div style=\"display: table-cell;\">syncable&nbsp;=&nbsp;True,</div></div><div class=\"1230\" style=\"display: none;\"><div style=\"display: table-cell;\"></div><div style=\"display: table-cell;\">tags&nbsp;=&nbsp;[],</div></div><div class=\"1230\" style=\"display: none;\"><div style=\"display: table-cell;\"></div><div style=\"display: table-cell;\">title&nbsp;=&nbsp;Title(id='1164', ...),</div></div><div class=\"1230\" style=\"display: none;\"><div style=\"display: table-cell;\"></div><div style=\"display: table-cell;\">title_location&nbsp;=&nbsp;'above',</div></div><div class=\"1230\" style=\"display: none;\"><div style=\"display: table-cell;\"></div><div style=\"display: table-cell;\">toolbar&nbsp;=&nbsp;Toolbar(id='1138', ...),</div></div><div class=\"1230\" style=\"display: none;\"><div style=\"display: table-cell;\"></div><div style=\"display: table-cell;\">toolbar_location&nbsp;=&nbsp;'right',</div></div><div class=\"1230\" style=\"display: none;\"><div style=\"display: table-cell;\"></div><div style=\"display: table-cell;\">toolbar_sticky&nbsp;=&nbsp;True,</div></div><div class=\"1230\" style=\"display: none;\"><div style=\"display: table-cell;\"></div><div style=\"display: table-cell;\">visible&nbsp;=&nbsp;True,</div></div><div class=\"1230\" style=\"display: none;\"><div style=\"display: table-cell;\"></div><div style=\"display: table-cell;\">width&nbsp;=&nbsp;600,</div></div><div class=\"1230\" style=\"display: none;\"><div style=\"display: table-cell;\"></div><div style=\"display: table-cell;\">width_policy&nbsp;=&nbsp;'auto',</div></div><div class=\"1230\" style=\"display: none;\"><div style=\"display: table-cell;\"></div><div style=\"display: table-cell;\">x_range&nbsp;=&nbsp;DataRange1d(id='1115', ...),</div></div><div class=\"1230\" style=\"display: none;\"><div style=\"display: table-cell;\"></div><div style=\"display: table-cell;\">x_scale&nbsp;=&nbsp;LinearScale(id='1119', ...),</div></div><div class=\"1230\" style=\"display: none;\"><div style=\"display: table-cell;\"></div><div style=\"display: table-cell;\">y_range&nbsp;=&nbsp;DataRange1d(id='1117', ...),</div></div><div class=\"1230\" style=\"display: none;\"><div style=\"display: table-cell;\"></div><div style=\"display: table-cell;\">y_scale&nbsp;=&nbsp;LinearScale(id='1121', ...))</div></div></div>\n",
       "<script>\n",
       "(function() {\n",
       "  let expanded = false;\n",
       "  const ellipsis = document.getElementById(\"1231\");\n",
       "  ellipsis.addEventListener(\"click\", function() {\n",
       "    const rows = document.getElementsByClassName(\"1230\");\n",
       "    for (let i = 0; i < rows.length; i++) {\n",
       "      const el = rows[i];\n",
       "      el.style.display = expanded ? \"none\" : \"table-row\";\n",
       "    }\n",
       "    ellipsis.innerHTML = expanded ? \"&hellip;)\" : \"&lsaquo;&lsaquo;&lsaquo;\";\n",
       "    expanded = !expanded;\n",
       "  });\n",
       "})();\n",
       "</script>\n"
      ],
      "text/plain": [
       "Figure(id='1114', ...)"
      ]
     },
     "execution_count": 30,
     "metadata": {},
     "output_type": "execute_result"
    }
   ],
   "source": [
    "draw_vectors(word_tsne[:, 0], word_tsne[:, 1], token=words)"
   ]
  },
  {
   "cell_type": "code",
   "execution_count": 33,
   "metadata": {
    "scrolled": true
   },
   "outputs": [],
   "source": [
    "embedding = umap.UMAP(n_neighbors=5).fit_transform(word_vectors) # преобразовываем"
   ]
  },
  {
   "cell_type": "code",
   "execution_count": 34,
   "metadata": {},
   "outputs": [
    {
     "data": {
      "text/html": [
       "\n",
       "\n",
       "\n",
       "\n",
       "\n",
       "\n",
       "  <div class=\"bk-root\" id=\"7c3688ea-11d9-439d-a5c2-2e5ebe7a2c80\" data-root-id=\"1235\"></div>\n"
      ]
     },
     "metadata": {},
     "output_type": "display_data"
    },
    {
     "data": {
      "application/javascript": [
       "(function(root) {\n",
       "  function embed_document(root) {\n",
       "    \n",
       "  const docs_json = {\"dc6b25f9-887d-4d96-be7d-293c87fc6641\":{\"defs\":[],\"roots\":{\"references\":[{\"attributes\":{\"below\":[{\"id\":\"1244\"}],\"center\":[{\"id\":\"1247\"},{\"id\":\"1251\"}],\"height\":400,\"left\":[{\"id\":\"1248\"}],\"renderers\":[{\"id\":\"1270\"}],\"title\":{\"id\":\"1296\"},\"toolbar\":{\"id\":\"1259\"},\"x_range\":{\"id\":\"1236\"},\"x_scale\":{\"id\":\"1240\"},\"y_range\":{\"id\":\"1238\"},\"y_scale\":{\"id\":\"1242\"}},\"id\":\"1235\",\"subtype\":\"Figure\",\"type\":\"Plot\"},{\"attributes\":{\"bottom_units\":\"screen\",\"coordinates\":null,\"fill_alpha\":0.5,\"fill_color\":\"lightgrey\",\"group\":null,\"left_units\":\"screen\",\"level\":\"overlay\",\"line_alpha\":1.0,\"line_color\":\"black\",\"line_dash\":[4,4],\"line_width\":2,\"right_units\":\"screen\",\"syncable\":false,\"top_units\":\"screen\"},\"id\":\"1258\",\"type\":\"BoxAnnotation\"},{\"attributes\":{\"coordinates\":null,\"formatter\":{\"id\":\"1299\"},\"group\":null,\"major_label_policy\":{\"id\":\"1300\"},\"ticker\":{\"id\":\"1249\"}},\"id\":\"1248\",\"type\":\"LinearAxis\"},{\"attributes\":{},\"id\":\"1242\",\"type\":\"LinearScale\"},{\"attributes\":{},\"id\":\"1303\",\"type\":\"AllLabels\"},{\"attributes\":{\"coordinates\":null,\"formatter\":{\"id\":\"1302\"},\"group\":null,\"major_label_policy\":{\"id\":\"1303\"},\"ticker\":{\"id\":\"1245\"}},\"id\":\"1244\",\"type\":\"LinearAxis\"},{\"attributes\":{\"fill_alpha\":{\"value\":0.2},\"fill_color\":{\"field\":\"color\"},\"hatch_alpha\":{\"value\":0.2},\"hatch_color\":{\"field\":\"color\"},\"line_alpha\":{\"value\":0.2},\"line_color\":{\"field\":\"color\"},\"size\":{\"value\":10},\"x\":{\"field\":\"x\"},\"y\":{\"field\":\"y\"}},\"id\":\"1269\",\"type\":\"Scatter\"},{\"attributes\":{},\"id\":\"1305\",\"type\":\"Selection\"},{\"attributes\":{\"coordinates\":null,\"data_source\":{\"id\":\"1234\"},\"glyph\":{\"id\":\"1267\"},\"group\":null,\"hover_glyph\":null,\"muted_glyph\":{\"id\":\"1269\"},\"nonselection_glyph\":{\"id\":\"1268\"},\"view\":{\"id\":\"1271\"}},\"id\":\"1270\",\"type\":\"GlyphRenderer\"},{\"attributes\":{},\"id\":\"1238\",\"type\":\"DataRange1d\"},{\"attributes\":{\"data\":{\"color\":[\"blue\",\"blue\",\"blue\",\"blue\",\"blue\",\"blue\",\"blue\",\"blue\",\"blue\",\"blue\",\"blue\",\"blue\",\"blue\",\"blue\",\"blue\",\"blue\",\"blue\",\"blue\",\"blue\",\"blue\",\"blue\",\"blue\",\"blue\",\"blue\",\"blue\",\"blue\",\"blue\",\"blue\",\"blue\",\"blue\",\"blue\",\"blue\",\"blue\",\"blue\",\"blue\",\"blue\",\"blue\",\"blue\",\"blue\",\"blue\",\"blue\",\"blue\",\"blue\",\"blue\",\"blue\",\"blue\",\"blue\",\"blue\",\"blue\",\"blue\",\"blue\",\"blue\",\"blue\",\"blue\",\"blue\",\"blue\",\"blue\",\"blue\",\"blue\",\"blue\",\"blue\",\"blue\",\"blue\",\"blue\",\"blue\",\"blue\",\"blue\",\"blue\",\"blue\",\"blue\",\"blue\",\"blue\",\"blue\",\"blue\",\"blue\",\"blue\",\"blue\",\"blue\",\"blue\",\"blue\",\"blue\",\"blue\",\"blue\",\"blue\",\"blue\",\"blue\",\"blue\",\"blue\",\"blue\",\"blue\",\"blue\",\"blue\",\"blue\",\"blue\",\"blue\",\"blue\",\"blue\",\"blue\",\"blue\",\"blue\",\"blue\",\"blue\",\"blue\",\"blue\",\"blue\",\"blue\",\"blue\",\"blue\",\"blue\",\"blue\",\"blue\",\"blue\",\"blue\",\"blue\",\"blue\",\"blue\",\"blue\",\"blue\",\"blue\",\"blue\",\"blue\",\"blue\",\"blue\",\"blue\",\"blue\",\"blue\",\"blue\",\"blue\",\"blue\",\"blue\",\"blue\",\"blue\",\"blue\",\"blue\",\"blue\",\"blue\",\"blue\",\"blue\",\"blue\",\"blue\",\"blue\",\"blue\",\"blue\",\"blue\",\"blue\",\"blue\",\"blue\",\"blue\",\"blue\",\"blue\",\"blue\",\"blue\",\"blue\",\"blue\",\"blue\",\"blue\",\"blue\",\"blue\",\"blue\",\"blue\",\"blue\",\"blue\",\"blue\",\"blue\",\"blue\",\"blue\",\"blue\",\"blue\",\"blue\",\"blue\",\"blue\",\"blue\",\"blue\",\"blue\",\"blue\",\"blue\",\"blue\",\"blue\",\"blue\",\"blue\",\"blue\",\"blue\",\"blue\",\"blue\",\"blue\",\"blue\",\"blue\",\"blue\",\"blue\",\"blue\",\"blue\",\"blue\",\"blue\",\"blue\",\"blue\",\"blue\",\"blue\",\"blue\",\"blue\",\"blue\",\"blue\",\"blue\",\"blue\",\"blue\",\"blue\",\"blue\",\"blue\",\"blue\",\"blue\",\"blue\",\"blue\",\"blue\",\"blue\",\"blue\",\"blue\",\"blue\",\"blue\",\"blue\",\"blue\",\"blue\",\"blue\",\"blue\",\"blue\",\"blue\",\"blue\",\"blue\",\"blue\",\"blue\",\"blue\",\"blue\",\"blue\",\"blue\",\"blue\",\"blue\",\"blue\",\"blue\",\"blue\",\"blue\",\"blue\",\"blue\",\"blue\",\"blue\",\"blue\",\"blue\",\"blue\",\"blue\",\"blue\",\"blue\",\"blue\",\"blue\",\"blue\",\"blue\",\"blue\",\"blue\",\"blue\",\"blue\",\"blue\",\"blue\",\"blue\",\"blue\",\"blue\",\"blue\",\"blue\",\"blue\",\"blue\",\"blue\",\"blue\",\"blue\",\"blue\",\"blue\",\"blue\",\"blue\",\"blue\",\"blue\",\"blue\",\"blue\",\"blue\",\"blue\",\"blue\",\"blue\",\"blue\",\"blue\",\"blue\",\"blue\",\"blue\",\"blue\",\"blue\",\"blue\",\"blue\",\"blue\",\"blue\",\"blue\",\"blue\",\"blue\",\"blue\",\"blue\",\"blue\",\"blue\",\"blue\",\"blue\",\"blue\",\"blue\",\"blue\",\"blue\",\"blue\",\"blue\",\"blue\",\"blue\",\"blue\",\"blue\",\"blue\",\"blue\",\"blue\",\"blue\",\"blue\",\"blue\",\"blue\",\"blue\",\"blue\",\"blue\",\"blue\",\"blue\",\"blue\",\"blue\",\"blue\",\"blue\",\"blue\",\"blue\",\"blue\",\"blue\",\"blue\",\"blue\",\"blue\",\"blue\",\"blue\",\"blue\",\"blue\",\"blue\",\"blue\",\"blue\",\"blue\",\"blue\",\"blue\",\"blue\",\"blue\",\"blue\",\"blue\",\"blue\",\"blue\",\"blue\",\"blue\",\"blue\",\"blue\",\"blue\",\"blue\",\"blue\",\"blue\",\"blue\",\"blue\",\"blue\",\"blue\",\"blue\",\"blue\",\"blue\",\"blue\",\"blue\",\"blue\",\"blue\",\"blue\",\"blue\",\"blue\",\"blue\",\"blue\",\"blue\",\"blue\",\"blue\",\"blue\",\"blue\",\"blue\",\"blue\",\"blue\",\"blue\",\"blue\",\"blue\",\"blue\",\"blue\",\"blue\",\"blue\",\"blue\",\"blue\",\"blue\",\"blue\",\"blue\",\"blue\",\"blue\",\"blue\",\"blue\",\"blue\",\"blue\",\"blue\",\"blue\",\"blue\",\"blue\",\"blue\",\"blue\",\"blue\",\"blue\",\"blue\",\"blue\",\"blue\",\"blue\",\"blue\",\"blue\",\"blue\",\"blue\",\"blue\",\"blue\",\"blue\",\"blue\",\"blue\",\"blue\",\"blue\",\"blue\",\"blue\",\"blue\",\"blue\",\"blue\",\"blue\",\"blue\",\"blue\",\"blue\",\"blue\",\"blue\",\"blue\",\"blue\",\"blue\",\"blue\",\"blue\",\"blue\",\"blue\",\"blue\",\"blue\",\"blue\",\"blue\",\"blue\",\"blue\",\"blue\",\"blue\",\"blue\",\"blue\",\"blue\",\"blue\",\"blue\",\"blue\",\"blue\",\"blue\",\"blue\",\"blue\",\"blue\",\"blue\",\"blue\",\"blue\",\"blue\",\"blue\",\"blue\",\"blue\",\"blue\",\"blue\",\"blue\",\"blue\",\"blue\",\"blue\",\"blue\",\"blue\",\"blue\",\"blue\",\"blue\",\"blue\",\"blue\",\"blue\",\"blue\",\"blue\",\"blue\",\"blue\",\"blue\",\"blue\",\"blue\",\"blue\",\"blue\",\"blue\",\"blue\",\"blue\",\"blue\",\"blue\",\"blue\",\"blue\",\"blue\",\"blue\",\"blue\",\"blue\",\"blue\",\"blue\",\"blue\",\"blue\",\"blue\",\"blue\",\"blue\",\"blue\",\"blue\",\"blue\",\"blue\",\"blue\",\"blue\",\"blue\",\"blue\",\"blue\",\"blue\",\"blue\",\"blue\",\"blue\",\"blue\",\"blue\",\"blue\",\"blue\",\"blue\",\"blue\",\"blue\",\"blue\",\"blue\",\"blue\",\"blue\",\"blue\",\"blue\",\"blue\",\"blue\",\"blue\",\"blue\",\"blue\",\"blue\",\"blue\",\"blue\",\"blue\",\"blue\",\"blue\",\"blue\",\"blue\",\"blue\",\"blue\",\"blue\",\"blue\",\"blue\",\"blue\",\"blue\",\"blue\",\"blue\",\"blue\",\"blue\",\"blue\",\"blue\",\"blue\",\"blue\",\"blue\",\"blue\",\"blue\",\"blue\",\"blue\",\"blue\",\"blue\",\"blue\",\"blue\",\"blue\",\"blue\",\"blue\",\"blue\",\"blue\",\"blue\",\"blue\",\"blue\",\"blue\",\"blue\",\"blue\",\"blue\",\"blue\",\"blue\",\"blue\",\"blue\",\"blue\",\"blue\",\"blue\",\"blue\",\"blue\",\"blue\",\"blue\",\"blue\",\"blue\",\"blue\",\"blue\",\"blue\",\"blue\",\"blue\",\"blue\",\"blue\",\"blue\",\"blue\",\"blue\",\"blue\",\"blue\",\"blue\",\"blue\",\"blue\",\"blue\",\"blue\",\"blue\",\"blue\",\"blue\",\"blue\",\"blue\",\"blue\",\"blue\",\"blue\",\"blue\",\"blue\",\"blue\",\"blue\",\"blue\",\"blue\",\"blue\",\"blue\",\"blue\",\"blue\",\"blue\",\"blue\",\"blue\",\"blue\",\"blue\",\"blue\",\"blue\",\"blue\",\"blue\",\"blue\",\"blue\",\"blue\",\"blue\",\"blue\",\"blue\",\"blue\",\"blue\",\"blue\",\"blue\",\"blue\",\"blue\",\"blue\",\"blue\",\"blue\",\"blue\",\"blue\",\"blue\",\"blue\",\"blue\",\"blue\",\"blue\",\"blue\",\"blue\",\"blue\",\"blue\",\"blue\",\"blue\",\"blue\",\"blue\",\"blue\",\"blue\",\"blue\",\"blue\",\"blue\",\"blue\",\"blue\",\"blue\",\"blue\",\"blue\",\"blue\",\"blue\",\"blue\",\"blue\",\"blue\",\"blue\",\"blue\",\"blue\",\"blue\",\"blue\",\"blue\",\"blue\",\"blue\",\"blue\",\"blue\",\"blue\",\"blue\",\"blue\",\"blue\",\"blue\",\"blue\",\"blue\",\"blue\",\"blue\",\"blue\",\"blue\",\"blue\",\"blue\",\"blue\",\"blue\",\"blue\",\"blue\",\"blue\",\"blue\",\"blue\",\"blue\",\"blue\",\"blue\",\"blue\",\"blue\",\"blue\",\"blue\",\"blue\",\"blue\",\"blue\",\"blue\",\"blue\",\"blue\",\"blue\",\"blue\",\"blue\",\"blue\",\"blue\",\"blue\",\"blue\",\"blue\",\"blue\",\"blue\",\"blue\",\"blue\",\"blue\",\"blue\",\"blue\",\"blue\",\"blue\",\"blue\",\"blue\",\"blue\",\"blue\",\"blue\",\"blue\",\"blue\",\"blue\",\"blue\",\"blue\",\"blue\",\"blue\",\"blue\",\"blue\",\"blue\",\"blue\",\"blue\",\"blue\",\"blue\",\"blue\",\"blue\",\"blue\",\"blue\",\"blue\",\"blue\",\"blue\",\"blue\",\"blue\",\"blue\",\"blue\",\"blue\",\"blue\",\"blue\",\"blue\",\"blue\",\"blue\",\"blue\",\"blue\",\"blue\",\"blue\",\"blue\",\"blue\",\"blue\",\"blue\",\"blue\",\"blue\",\"blue\",\"blue\",\"blue\",\"blue\",\"blue\",\"blue\",\"blue\",\"blue\",\"blue\",\"blue\",\"blue\",\"blue\",\"blue\",\"blue\",\"blue\",\"blue\",\"blue\",\"blue\",\"blue\",\"blue\",\"blue\",\"blue\",\"blue\",\"blue\",\"blue\",\"blue\",\"blue\",\"blue\",\"blue\",\"blue\",\"blue\",\"blue\",\"blue\",\"blue\",\"blue\",\"blue\",\"blue\",\"blue\",\"blue\",\"blue\",\"blue\",\"blue\",\"blue\",\"blue\",\"blue\",\"blue\",\"blue\",\"blue\",\"blue\",\"blue\",\"blue\",\"blue\",\"blue\",\"blue\",\"blue\",\"blue\",\"blue\",\"blue\",\"blue\",\"blue\",\"blue\",\"blue\",\"blue\",\"blue\",\"blue\",\"blue\",\"blue\",\"blue\",\"blue\",\"blue\",\"blue\",\"blue\",\"blue\",\"blue\",\"blue\",\"blue\",\"blue\",\"blue\",\"blue\",\"blue\",\"blue\",\"blue\",\"blue\",\"blue\",\"blue\",\"blue\",\"blue\",\"blue\",\"blue\",\"blue\",\"blue\",\"blue\",\"blue\",\"blue\",\"blue\",\"blue\",\"blue\",\"blue\",\"blue\",\"blue\",\"blue\",\"blue\",\"blue\",\"blue\",\"blue\",\"blue\",\"blue\",\"blue\",\"blue\",\"blue\",\"blue\",\"blue\",\"blue\",\"blue\",\"blue\",\"blue\",\"blue\",\"blue\",\"blue\",\"blue\",\"blue\",\"blue\",\"blue\",\"blue\",\"blue\",\"blue\",\"blue\",\"blue\",\"blue\",\"blue\",\"blue\",\"blue\",\"blue\",\"blue\",\"blue\",\"blue\",\"blue\",\"blue\",\"blue\",\"blue\",\"blue\",\"blue\",\"blue\",\"blue\",\"blue\",\"blue\",\"blue\",\"blue\",\"blue\",\"blue\",\"blue\",\"blue\",\"blue\",\"blue\",\"blue\",\"blue\",\"blue\",\"blue\",\"blue\",\"blue\",\"blue\",\"blue\",\"blue\",\"blue\",\"blue\",\"blue\",\"blue\",\"blue\",\"blue\",\"blue\",\"blue\",\"blue\",\"blue\",\"blue\",\"blue\",\"blue\",\"blue\",\"blue\",\"blue\",\"blue\",\"blue\",\"blue\",\"blue\",\"blue\",\"blue\",\"blue\",\"blue\",\"blue\",\"blue\",\"blue\",\"blue\",\"blue\",\"blue\",\"blue\",\"blue\",\"blue\",\"blue\",\"blue\",\"blue\",\"blue\",\"blue\",\"blue\",\"blue\",\"blue\",\"blue\",\"blue\",\"blue\",\"blue\",\"blue\",\"blue\"],\"token\":[\"<user>\",\".\",\":\",\"rt\",\",\",\"<repeat>\",\"<hashtag>\",\"<number>\",\"<url>\",\"!\",\"i\",\"a\",\"\\\"\",\"the\",\"?\",\"you\",\"to\",\"(\",\"<allcaps>\",\"<elong>\",\")\",\"me\",\"de\",\"<smile>\",\"\\uff01\",\"que\",\"and\",\"\\u3002\",\"-\",\"my\",\"no\",\"\\u3001\",\"is\",\"it\",\"\\u2026\",\"in\",\"n\",\"for\",\"/\",\"of\",\"la\",\"'s\",\"*\",\"do\",\"n't\",\"that\",\"on\",\"y\",\"'\",\"e\",\"o\",\"u\",\"en\",\"this\",\"el\",\"so\",\"be\",\"'m\",\"with\",\"just\",\">\",\"your\",\"^\",\"like\",\"have\",\"te\",\"at\",\"\\uff1f\",\"love\",\"se\",\"are\",\"<\",\"m\",\"r\",\"if\",\"all\",\"b\",\"\\u30fb\",\"not\",\"but\",\"we\",\"es\",\"ya\",\"&\",\"follow\",\"up\",\"what\",\"get\",\"lol\",\"un\",\"\\u2665\",\"lo\",\"when\",\"was\",\"\\u201c\",\"\\u201d\",\"one\",\"por\",\"si\",\"out\",\"_\",\"mi\",\"can\",\"<sadface>\",\"\\u0645\\u0646\",\"\\u2661\",\"\\u00b4\",\"he\",\"con\",\"they\",\"now\",\"go\",\"\\u060c\",\"para\",\"los\",\"know\",\"haha\",\"good\",\"tu\",\"back\",\"~\",\"about\",\"new\",\";\",\"as\",\"day\",\"how\",\"who\",\"will\",\"want\",\"people\",\"yo\",\"eu\",\"from\",\"di\",\"time\",\"<heart>\",\"s\",\"aku\",\"da\",\"'re\",\"<lolface>\",\"una\",\"got\",\"las\",\"more\",\"x\",\"she\",\"today\",\"\\uff08\",\">>\",\"k\",\"by\",\"or\",\"\\u0641\\u064a\",\"\\uff65\",\"too\",\"le\",\"\\u00e9\",\"|\",\"[\",\"\\uff09\",\"]\",\"see\",\"why\",\"yg\",\"ca\",\"como\",\"her\",\"\\u2014\",\"q\",\"need\",\"an\",\"na\",\"\\u7b11\",\"there\",\"\\u03c9\",\"happy\",\"im\",\"mas\",\"je\",\"life\",\"really\",\"make\",\"yang\",\"shit\",\"think\",\"t\",\"\\u2764\",\"n\\u00e3o\",\"never\",\"some\",\"\\uff5e\",\"oh\",\"\\u2605\",\"did\",\"would\",\"del\",\"`\",\"d\",\"please\",\"via\",\"much\",\"fuck\",\"al\",\"dia\",\"$\",\"\\u0648\",\"right\",\"best\",\"c\",\"going\",\"\\u0627\\u0644\\u0644\\u0647\",\"pero\",\"only\",\"has\",\"\\u266a\",\"'ll\",\"twitter\",\"=\",\"hahaha\",\"its\",\"nn\",\"\\uff40\",\"\\u00bf\",\"am\",\"say\",\"<neutralface>\",\"them\",\"here\",\"\\u0644\\u0627\",\"off\",\"still\",\"dan\",\"+\",\"night\",\"w\",\"ada\",\"someone\",\"even\",\"then\",\"\\u2606\",\"ni\",\"come\",\"com\",\"always\",\"man\",\"'ve\",\"been\",\"his\",\"itu\",\"\\u0639\\u0644\\u0649\",\"-_-\",\"\\u263a\",\"over\",\"um\",\"\\u0645\\u0627\",\"hate\",\"girl\",\"ai\",\"had\",\"pra\",\"todo\",\"mais\",\"feel\",\"let\",\"ini\",\"because\",\"\\uff9f\",\"thanks\",\"ah\",\"way\",\"ever\",\"look\",\"tweet\",\"followers\",\"should\",\"our\",\"xd\",\"aja\",\"esta\",\"school\",\"him\",\"ser\",\"take\",\"than\",\"video\",\"em\",\"last\",\"wanna\",\"does\",\"us\",\"miss\",\"l\",\"ga\",\"better\",\"well\",\"could\",\"\\u25bd\",\"%\",\"apa\",\"cuando\",\"team\",\"\\u2714\",\"@\",\"ok\",\"\\u061f\",\"\\u2022\",\"vida\",\"quiero\",\"les\",\"being\",\"real\",\"down\",\"kamu\",\"everyone\",\"gonna\",\"live\",\"tonight\",\"yes\",\"work\",\"ass\",\"retweet\",\"nada\",\"sama\",\"first\",\"<<\",\"photo\",\"tomorrow\",\"where\",\"god\",\"son\",\"ke\",\"ta\",\"f\",\"home\",\"lagi\",\"thank\",\"birthday\",\"\\u2588\",\"ha\",\"great\",\"lmao\",\"omg\",\"morning\",\"m\\u00e1s\",\"mau\",\"baby\",\"dont\",\"\\uff61\",\"their\",\"p\",\"things\",\"game\",\"pas\",\"bad\",\"year\",\"yeah\",\"su\",\"bitch\",\"\\u0432\",\"stop\",\"hoy\",\"something\",\"meu\",\"tak\",\"gak\",\"world\",\"amor\",\"h\",\"\\\\\",\"ver\",\"\\uff1b\",\"porque\",\"give\",\"these\",\"\\u0627\\u0644\\u0644\\u0647\\u0645\",\"were\",\"hay\",\"sleep\",\"gue\",\"every\",\"friends\",\"uma\",\"tell\",\"amo\",\"vou\",\"bien\",\"\\u00a1\",\"again\",\"\\uff3e\",\"\\uff0f\",\"done\",\"after\",\"todos\",\"girls\",\"guys\",\"getting\",\"big\",\"wait\",\"justin\",\"eh\",\"\\u2192\",\"kan\",\"kita\",\"jajaja\",\"wish\",\"said\",\"fucking\",\"show\",\"thing\",\"next\",\"voc\\u00ea\",\"nos\",\"little\",\"tengo\",\"keep\",\"person\",\"''\",\"\\u2200\",\"hope\",\"\\u0643\\u0644\",\"hey\",\"bisa\",\"free\",\"made\",\"foto\",\"va\",\"everything\",\"iya\",\"nigga\",\"eso\",\"et\",\"watch\",\"music\",\"week\",\"talk\",\"ne\",\"solo\",\"gente\",\"udah\",\"\\uff1a\",\"--\",\"\\uff3c\",\"mejor\",\"facebook\",\"ma\",\"v\",\"phone\",\"most\",\"same\",\"okay\",\"ik\",\"before\",\"minha\",\"days\",\"g\",\"ti\",\"damn\",\"nice\",\"voy\",\"vai\",\"call\",\"long\",\"tapi\",\"http\",\"sin\",\"nunca\",\"doing\",\"other\",\"find\",\"il\",\"sa\",\"sorry\",\"nya\",\"orang\",\"\\u00b0\",\"hard\",\"mean\",\"die\",\"\\u0627\\u0644\\u0644\\u064a\",\"tem\",\"soy\",\"este\",\"kalo\",\"s\\u00f3\",\"th\",\"win\",\"nothing\",\"into\",\"face\",\"cute\",\"'d\",\"gracias\",\"lah\",\"\\u0438\",\"any\",\"play\",\"\\u2190\",\"ko\",\"text\",\"\\u2323\",\"estoy\",\"tau\",\"ur\",\"buat\",\"#\",\"cause\",\"\\u044f\",\"put\",\"kau\",\"siempre\",\"juga\",\"casa\",\"\\u0623\\u0646\",\"help\",\"start\",\"feliz\",\"old\",\"ir\",\"very\",\"care\",\"bir\",\"makes\",\"song\",\"check\",\"watching\",\"ahora\",\"jadi\",\"os\",\"may\",\"friend\",\"beautiful\",\"heart\",\"ka\",\"vc\",\"mundo\",\"\\u043d\\u0430\",\"sure\",\"tan\",\"pretty\",\"aqui\",\"\\u043d\\u0435\",\"house\",\"\\u0631\\u062a\\u0648\\u064a\\u062a\",\"\\u064a\\u0627\",\"ja\",\"true\",\"muy\",\"away\",\"already\",\"actually\",\"believe\",\"try\",\"many\",\"ma\\u00f1ana\",\"mis\",\"lu\",\"those\",\"hot\",\"qu\\u00e9\",\"mal\",\"\\u0639\\u0646\",\"though\",\"ask\",\"amazing\",\"bed\",\"}\",\"two\",\"mom\",\"d\\u00eda\",\"ve\",\"dari\",\"gameinsight\",\"stay\",\"fun\",\"around\",\"van\",\"cont\",\"ready\",\"money\",\"bu\",\"funny\",\"cool\",\"hair\",\"\\u00e0\",\"tho\",\"{\",\"wo\",\"hi\",\"name\",\"tiene\",\"hahahaha\",\"pa\",\"algo\",\"gotta\",\"\\u0648\\u0644\\u0627\",\"boy\",\"another\",\"c'est\",\"hari\",\"jajajaja\",\"having\",\"cara\",\"jaja\",\"dm\",\"looking\",\"top\",\"android\",\"dah\",\"wow\",\"\\u2591\",\"eres\",\"ben\",\"must\",\"news\",\"met\",\"est\\u00e1\",\"nih\",\"family\",\"black\",\"thought\",\"nak\",\"super\",\"end\",\"hace\",\"remember\",\"ama\",\"party\",\"cant\",\"vamos\",\"anything\",\"anyone\",\"\\u0641\\u0648\\u0644\\u0648\",\"perfect\",\"guy\",\"vez\",\"christmas\",\"dos\",\"bueno\",\"nao\",\"years\",\"vote\",\"dormir\",\"bro\",\"else\",\"quien\",\"untuk\",\"jangan\",\"myself\",\"head\",\"mind\",\"gua\",\"talking\",\"while\",\"dat\",\"food\",\"\\u0434\",\"coming\",\"wkwk\",\"trying\",\"saya\",\"mucho\",\"without\",\"wrong\",\"\\u2019s\",\"baru\",\"__\",\"hehe\",\"hacer\",\"lot\",\"followed\",\"crazy\",\"hell\",\"feeling\",\"des\",\"kok\",\"j\",\"stats\",\"j'\",\"\\u0627\\u0646\",\"tweets\",\"non\",\"cosas\",\"era\",\"high\",\"niggas\",\"change\",\"movie\",\"xx\",\"mad\",\"sih\",\"sometimes\",\"deh\",\"allah\",\"through\",\"pour\",\"ela\",\"soon\",\"gone\",\"playing\",\"smile\",\"bukan\",\"tv\",\"fans\",\"hasta\",\"akan\",\"y'\",\"looks\",\"isso\",\"\\u270c\",\"tired\",\"boys\",\"might\",\"dong\",\"lg\",\"use\",\"maybe\",\"until\",\"menos\",\"own\",\"dengan\",\"eat\",\"ou\",\"weekend\",\"\\u02d8\",\"class\",\"ele\",\"harry\",\"iphone\",\"friday\",\"single\",\"ff\",\"awesome\",\"bout\",\"muito\",\"hoje\",\"\\u00ac\",\"dios\",\"such\",\"estar\",\"j\\u00e1\",\"quando\",\"esa\",\"making\",\"\\u2501\",\"times\",\"lmfao\",\"gw\",\"moment\",\"yet\",\"aw\",\"smh\",\"banget\",\"masih\",\"qui\",\"quem\",\"\\u2013\",\"leave\",\"du\",\"une\",\"guess\",\"hit\",\"\\u0441\",\"pm\",\"since\",\"pues\",\"est\",\"job\",\"\\uff89\",\"mana\",\"bom\",\"siapa\",\"suka\",\"bieber\",\"mention\",\"lebih\",\"favorite\",\"bitches\",\"forever\",\"\\u0644\\u064a\",\"final\",\"read\",\"alguien\",\"open\",\"yourself\",\"ese\",\"che\",\"sex\",\"yaa\",\"car\",\"direction\",\"tidak\",\"seu\",\"gets\",\"left\",\"re\",\"jam\",\"enough\",\"\\u0625\\u0644\\u0627\",\"once\",\"\\u2019\",\"part\",\"cada\",\"\\u5b9a\\u671f\",\"\\u0644\\u0643\",\"een\",\"seen\",\"kak\",\"as\\u00ed\",\"nem\",\"\\u0639\\u0645\\u0644\",\"white\",\"told\",\"says\",\"esto\",\"sad\",\"mo\",\"fue\",\"yah\",\"summer\",\"\\u0647\",\"\\u2b55\",\"\\u00bb\",\"thats\",\"\\u0645\\u0639\",\"posted\",\"wants\",\"agora\",\"together\",\"fan\",\"men\",\"hear\",\"full\",\"\\u2600\",\"sigo\",\"pq\",\"dulu\",\"plus\",\"foi\",\"tudo\",\"\\u0647\\u0648\",\"ill\",\"\\u3042\",\"thinking\",\"wtf\",\"pagi\",\"mama\",\"kalau\",\"hati\",\"sexy\",\"sayang\",\"baik\",\"semua\",\"hola\",\"went\",\"vos\",\"tanto\",\"finally\",\"fb\",\"sea\",\"stupid\",\"tus\",\"seriously\",\"hora\",\"min\",\"pic\",\"estas\",\"turn\",\"hours\",\"excited\",\"nah\",\"buy\",\"saying\",\"mah\",\"break\",\"needs\",\"ce\",\"room\",\"choice\",\"far\",\"dead\",\"quero\",\"saw\",\"kids\",\"lil\",\"whole\",\"puede\",\"fall\",\"sus\",\"lost\",\"asi\",\"word\",\"\\u2639\",\"also\",\"\\u0631\\u064a\\u062a\\u0648\\u064a\\u062a\",\"probably\",\"everybody\",\"tarde\",\"run\",\"sei\",\"follback\",\"forget\",\"sweet\",\"welcome\",\"selamat\",\"\\uff3f\",\"sur\",\"place\",\"gusta\",\"sabe\",\"androidgames\",\"tp\",\"tiempo\",\"\\u0628\\u0633\",\"sou\",\"tuh\",\"vs\",\"eyes\",\"\\u0627\\u0646\\u0627\",\"picture\",\"das\",\"meet\",\"anak\",\"persona\",\"essa\",\"bored\",\"following\",\"nadie\",\"nobody\",\"dice\",\"alone\",\"sick\",\"red\",\"city\",\"cinta\",\"\\u6708\",\"linda\",\"dream\",\"story\",\"km\",\"het\",\"waiting\",\"^_^\",\"mine\",\"\\u0447\\u0442\\u043e\",\"reason\",\"kk\",\"\\u0644\\u0648\",\"online\",\"fast\",\"udh\",\"wanted\",\"op\",\"others\",\"gay\",\"n\\u2019t\",\"used\",\"sem\",\"understand\",\"moi\",\"sm\",\"aint\",\"donde\",\"bem\",\"which\",\"ng\",\"followback\",\"punya\",\"late\",\"anda\",\"tidur\",\"puedo\",\"early\",\"nd\",\"personas\",\"banyak\",\"\\u2705\",\"\\u278a\",\"trust\",\"noche\",\"tl\",\"\\uff1e\",\"\\u00ab\",\"af\",\"move\",\"pro\",\"bring\",\"ku\",\"called\",\"relationship\",\"idk\",\"hurt\",\"st\",\"pernah\",\"pessoas\",\"hello\",\"uno\",\"unfollowers\",\"cry\"],\"x\":{\"__ndarray__\":\"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\",\"dtype\":\"float32\",\"order\":\"little\",\"shape\":[1000]},\"y\":{\"__ndarray__\":\"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\",\"dtype\":\"float32\",\"order\":\"little\",\"shape\":[1000]}},\"selected\":{\"id\":\"1305\"},\"selection_policy\":{\"id\":\"1304\"}},\"id\":\"1234\",\"type\":\"ColumnDataSource\"},{\"attributes\":{\"source\":{\"id\":\"1234\"}},\"id\":\"1271\",\"type\":\"CDSView\"},{\"attributes\":{},\"id\":\"1299\",\"type\":\"BasicTickFormatter\"},{\"attributes\":{\"axis\":{\"id\":\"1248\"},\"coordinates\":null,\"dimension\":1,\"group\":null,\"ticker\":null},\"id\":\"1251\",\"type\":\"Grid\"},{\"attributes\":{},\"id\":\"1252\",\"type\":\"PanTool\"},{\"attributes\":{\"callback\":null,\"tooltips\":[[\"token\",\"@token\"]]},\"id\":\"1272\",\"type\":\"HoverTool\"},{\"attributes\":{},\"id\":\"1240\",\"type\":\"LinearScale\"},{\"attributes\":{\"fill_alpha\":{\"value\":0.1},\"fill_color\":{\"field\":\"color\"},\"hatch_alpha\":{\"value\":0.1},\"hatch_color\":{\"field\":\"color\"},\"line_alpha\":{\"value\":0.1},\"line_color\":{\"field\":\"color\"},\"size\":{\"value\":10},\"x\":{\"field\":\"x\"},\"y\":{\"field\":\"y\"}},\"id\":\"1268\",\"type\":\"Scatter\"},{\"attributes\":{},\"id\":\"1256\",\"type\":\"ResetTool\"},{\"attributes\":{\"coordinates\":null,\"group\":null},\"id\":\"1296\",\"type\":\"Title\"},{\"attributes\":{},\"id\":\"1300\",\"type\":\"AllLabels\"},{\"attributes\":{\"fill_alpha\":{\"value\":0.25},\"fill_color\":{\"field\":\"color\"},\"hatch_alpha\":{\"value\":0.25},\"hatch_color\":{\"field\":\"color\"},\"line_alpha\":{\"value\":0.25},\"line_color\":{\"field\":\"color\"},\"size\":{\"value\":10},\"x\":{\"field\":\"x\"},\"y\":{\"field\":\"y\"}},\"id\":\"1267\",\"type\":\"Scatter\"},{\"attributes\":{},\"id\":\"1255\",\"type\":\"SaveTool\"},{\"attributes\":{\"active_scroll\":{\"id\":\"1253\"},\"tools\":[{\"id\":\"1252\"},{\"id\":\"1253\"},{\"id\":\"1254\"},{\"id\":\"1255\"},{\"id\":\"1256\"},{\"id\":\"1257\"},{\"id\":\"1272\"}]},\"id\":\"1259\",\"type\":\"Toolbar\"},{\"attributes\":{},\"id\":\"1253\",\"type\":\"WheelZoomTool\"},{\"attributes\":{\"overlay\":{\"id\":\"1258\"}},\"id\":\"1254\",\"type\":\"BoxZoomTool\"},{\"attributes\":{},\"id\":\"1304\",\"type\":\"UnionRenderers\"},{\"attributes\":{},\"id\":\"1236\",\"type\":\"DataRange1d\"},{\"attributes\":{\"axis\":{\"id\":\"1244\"},\"coordinates\":null,\"group\":null,\"ticker\":null},\"id\":\"1247\",\"type\":\"Grid\"},{\"attributes\":{},\"id\":\"1245\",\"type\":\"BasicTicker\"},{\"attributes\":{},\"id\":\"1257\",\"type\":\"HelpTool\"},{\"attributes\":{},\"id\":\"1249\",\"type\":\"BasicTicker\"},{\"attributes\":{},\"id\":\"1302\",\"type\":\"BasicTickFormatter\"}],\"root_ids\":[\"1235\"]},\"title\":\"Bokeh Application\",\"version\":\"2.4.2\"}};\n",
       "  const render_items = [{\"docid\":\"dc6b25f9-887d-4d96-be7d-293c87fc6641\",\"root_ids\":[\"1235\"],\"roots\":{\"1235\":\"7c3688ea-11d9-439d-a5c2-2e5ebe7a2c80\"}}];\n",
       "  root.Bokeh.embed.embed_items_notebook(docs_json, render_items);\n",
       "\n",
       "  }\n",
       "  if (root.Bokeh !== undefined) {\n",
       "    embed_document(root);\n",
       "  } else {\n",
       "    let attempts = 0;\n",
       "    const timer = setInterval(function(root) {\n",
       "      if (root.Bokeh !== undefined) {\n",
       "        clearInterval(timer);\n",
       "        embed_document(root);\n",
       "      } else {\n",
       "        attempts++;\n",
       "        if (attempts > 100) {\n",
       "          clearInterval(timer);\n",
       "          console.log(\"Bokeh: ERROR: Unable to run BokehJS code because BokehJS library is missing\");\n",
       "        }\n",
       "      }\n",
       "    }, 10, root)\n",
       "  }\n",
       "})(window);"
      ],
      "application/vnd.bokehjs_exec.v0+json": ""
     },
     "metadata": {
      "application/vnd.bokehjs_exec.v0+json": {
       "id": "1235"
      }
     },
     "output_type": "display_data"
    },
    {
     "data": {
      "text/html": [
       "<div style=\"display: table;\"><div style=\"display: table-row;\"><div style=\"display: table-cell;\"><b title=\"bokeh.plotting.figure.Figure\">Figure</b>(</div><div style=\"display: table-cell;\">id&nbsp;=&nbsp;'1235', <span id=\"1363\" style=\"cursor: pointer;\">&hellip;)</span></div></div><div class=\"1362\" style=\"display: none;\"><div style=\"display: table-cell;\"></div><div style=\"display: table-cell;\">above&nbsp;=&nbsp;[],</div></div><div class=\"1362\" style=\"display: none;\"><div style=\"display: table-cell;\"></div><div style=\"display: table-cell;\">align&nbsp;=&nbsp;'start',</div></div><div class=\"1362\" style=\"display: none;\"><div style=\"display: table-cell;\"></div><div style=\"display: table-cell;\">aspect_ratio&nbsp;=&nbsp;None,</div></div><div class=\"1362\" style=\"display: none;\"><div style=\"display: table-cell;\"></div><div style=\"display: table-cell;\">aspect_scale&nbsp;=&nbsp;1,</div></div><div class=\"1362\" style=\"display: none;\"><div style=\"display: table-cell;\"></div><div style=\"display: table-cell;\">background&nbsp;=&nbsp;None,</div></div><div class=\"1362\" style=\"display: none;\"><div style=\"display: table-cell;\"></div><div style=\"display: table-cell;\">background_fill_alpha&nbsp;=&nbsp;1.0,</div></div><div class=\"1362\" style=\"display: none;\"><div style=\"display: table-cell;\"></div><div style=\"display: table-cell;\">background_fill_color&nbsp;=&nbsp;'#ffffff',</div></div><div class=\"1362\" style=\"display: none;\"><div style=\"display: table-cell;\"></div><div style=\"display: table-cell;\">below&nbsp;=&nbsp;[LinearAxis(id='1244', ...)],</div></div><div class=\"1362\" style=\"display: none;\"><div style=\"display: table-cell;\"></div><div style=\"display: table-cell;\">border_fill_alpha&nbsp;=&nbsp;1.0,</div></div><div class=\"1362\" style=\"display: none;\"><div style=\"display: table-cell;\"></div><div style=\"display: table-cell;\">border_fill_color&nbsp;=&nbsp;'#ffffff',</div></div><div class=\"1362\" style=\"display: none;\"><div style=\"display: table-cell;\"></div><div style=\"display: table-cell;\">center&nbsp;=&nbsp;[Grid(id='1247', ...), Grid(id='1251', ...)],</div></div><div class=\"1362\" style=\"display: none;\"><div style=\"display: table-cell;\"></div><div style=\"display: table-cell;\">css_classes&nbsp;=&nbsp;[],</div></div><div class=\"1362\" style=\"display: none;\"><div style=\"display: table-cell;\"></div><div style=\"display: table-cell;\">disabled&nbsp;=&nbsp;False,</div></div><div class=\"1362\" style=\"display: none;\"><div style=\"display: table-cell;\"></div><div style=\"display: table-cell;\">extra_x_ranges&nbsp;=&nbsp;{},</div></div><div class=\"1362\" style=\"display: none;\"><div style=\"display: table-cell;\"></div><div style=\"display: table-cell;\">extra_x_scales&nbsp;=&nbsp;{},</div></div><div class=\"1362\" style=\"display: none;\"><div style=\"display: table-cell;\"></div><div style=\"display: table-cell;\">extra_y_ranges&nbsp;=&nbsp;{},</div></div><div class=\"1362\" style=\"display: none;\"><div style=\"display: table-cell;\"></div><div style=\"display: table-cell;\">extra_y_scales&nbsp;=&nbsp;{},</div></div><div class=\"1362\" style=\"display: none;\"><div style=\"display: table-cell;\"></div><div style=\"display: table-cell;\">frame_height&nbsp;=&nbsp;None,</div></div><div class=\"1362\" style=\"display: none;\"><div style=\"display: table-cell;\"></div><div style=\"display: table-cell;\">frame_width&nbsp;=&nbsp;None,</div></div><div class=\"1362\" style=\"display: none;\"><div style=\"display: table-cell;\"></div><div style=\"display: table-cell;\">height&nbsp;=&nbsp;400,</div></div><div class=\"1362\" style=\"display: none;\"><div style=\"display: table-cell;\"></div><div style=\"display: table-cell;\">height_policy&nbsp;=&nbsp;'auto',</div></div><div class=\"1362\" style=\"display: none;\"><div style=\"display: table-cell;\"></div><div style=\"display: table-cell;\">hidpi&nbsp;=&nbsp;True,</div></div><div class=\"1362\" style=\"display: none;\"><div style=\"display: table-cell;\"></div><div style=\"display: table-cell;\">inner_height&nbsp;=&nbsp;0,</div></div><div class=\"1362\" style=\"display: none;\"><div style=\"display: table-cell;\"></div><div style=\"display: table-cell;\">inner_width&nbsp;=&nbsp;0,</div></div><div class=\"1362\" style=\"display: none;\"><div style=\"display: table-cell;\"></div><div style=\"display: table-cell;\">js_event_callbacks&nbsp;=&nbsp;{},</div></div><div class=\"1362\" style=\"display: none;\"><div style=\"display: table-cell;\"></div><div style=\"display: table-cell;\">js_property_callbacks&nbsp;=&nbsp;{},</div></div><div class=\"1362\" style=\"display: none;\"><div style=\"display: table-cell;\"></div><div style=\"display: table-cell;\">left&nbsp;=&nbsp;[LinearAxis(id='1248', ...)],</div></div><div class=\"1362\" style=\"display: none;\"><div style=\"display: table-cell;\"></div><div style=\"display: table-cell;\">lod_factor&nbsp;=&nbsp;10,</div></div><div class=\"1362\" style=\"display: none;\"><div style=\"display: table-cell;\"></div><div style=\"display: table-cell;\">lod_interval&nbsp;=&nbsp;300,</div></div><div class=\"1362\" style=\"display: none;\"><div style=\"display: table-cell;\"></div><div style=\"display: table-cell;\">lod_threshold&nbsp;=&nbsp;2000,</div></div><div class=\"1362\" style=\"display: none;\"><div style=\"display: table-cell;\"></div><div style=\"display: table-cell;\">lod_timeout&nbsp;=&nbsp;500,</div></div><div class=\"1362\" style=\"display: none;\"><div style=\"display: table-cell;\"></div><div style=\"display: table-cell;\">margin&nbsp;=&nbsp;(0, 0, 0, 0),</div></div><div class=\"1362\" style=\"display: none;\"><div style=\"display: table-cell;\"></div><div style=\"display: table-cell;\">match_aspect&nbsp;=&nbsp;False,</div></div><div class=\"1362\" style=\"display: none;\"><div style=\"display: table-cell;\"></div><div style=\"display: table-cell;\">max_height&nbsp;=&nbsp;None,</div></div><div class=\"1362\" style=\"display: none;\"><div style=\"display: table-cell;\"></div><div style=\"display: table-cell;\">max_width&nbsp;=&nbsp;None,</div></div><div class=\"1362\" style=\"display: none;\"><div style=\"display: table-cell;\"></div><div style=\"display: table-cell;\">min_border&nbsp;=&nbsp;5,</div></div><div class=\"1362\" style=\"display: none;\"><div style=\"display: table-cell;\"></div><div style=\"display: table-cell;\">min_border_bottom&nbsp;=&nbsp;None,</div></div><div class=\"1362\" style=\"display: none;\"><div style=\"display: table-cell;\"></div><div style=\"display: table-cell;\">min_border_left&nbsp;=&nbsp;None,</div></div><div class=\"1362\" style=\"display: none;\"><div style=\"display: table-cell;\"></div><div style=\"display: table-cell;\">min_border_right&nbsp;=&nbsp;None,</div></div><div class=\"1362\" style=\"display: none;\"><div style=\"display: table-cell;\"></div><div style=\"display: table-cell;\">min_border_top&nbsp;=&nbsp;None,</div></div><div class=\"1362\" style=\"display: none;\"><div style=\"display: table-cell;\"></div><div style=\"display: table-cell;\">min_height&nbsp;=&nbsp;None,</div></div><div class=\"1362\" style=\"display: none;\"><div style=\"display: table-cell;\"></div><div style=\"display: table-cell;\">min_width&nbsp;=&nbsp;None,</div></div><div class=\"1362\" style=\"display: none;\"><div style=\"display: table-cell;\"></div><div style=\"display: table-cell;\">name&nbsp;=&nbsp;None,</div></div><div class=\"1362\" style=\"display: none;\"><div style=\"display: table-cell;\"></div><div style=\"display: table-cell;\">outer_height&nbsp;=&nbsp;0,</div></div><div class=\"1362\" style=\"display: none;\"><div style=\"display: table-cell;\"></div><div style=\"display: table-cell;\">outer_width&nbsp;=&nbsp;0,</div></div><div class=\"1362\" style=\"display: none;\"><div style=\"display: table-cell;\"></div><div style=\"display: table-cell;\">outline_line_alpha&nbsp;=&nbsp;1.0,</div></div><div class=\"1362\" style=\"display: none;\"><div style=\"display: table-cell;\"></div><div style=\"display: table-cell;\">outline_line_cap&nbsp;=&nbsp;'butt',</div></div><div class=\"1362\" style=\"display: none;\"><div style=\"display: table-cell;\"></div><div style=\"display: table-cell;\">outline_line_color&nbsp;=&nbsp;'#e5e5e5',</div></div><div class=\"1362\" style=\"display: none;\"><div style=\"display: table-cell;\"></div><div style=\"display: table-cell;\">outline_line_dash&nbsp;=&nbsp;[],</div></div><div class=\"1362\" style=\"display: none;\"><div style=\"display: table-cell;\"></div><div style=\"display: table-cell;\">outline_line_dash_offset&nbsp;=&nbsp;0,</div></div><div class=\"1362\" style=\"display: none;\"><div style=\"display: table-cell;\"></div><div style=\"display: table-cell;\">outline_line_join&nbsp;=&nbsp;'bevel',</div></div><div class=\"1362\" style=\"display: none;\"><div style=\"display: table-cell;\"></div><div style=\"display: table-cell;\">outline_line_width&nbsp;=&nbsp;1,</div></div><div class=\"1362\" style=\"display: none;\"><div style=\"display: table-cell;\"></div><div style=\"display: table-cell;\">output_backend&nbsp;=&nbsp;'canvas',</div></div><div class=\"1362\" style=\"display: none;\"><div style=\"display: table-cell;\"></div><div style=\"display: table-cell;\">renderers&nbsp;=&nbsp;[GlyphRenderer(id='1270', ...)],</div></div><div class=\"1362\" style=\"display: none;\"><div style=\"display: table-cell;\"></div><div style=\"display: table-cell;\">reset_policy&nbsp;=&nbsp;'standard',</div></div><div class=\"1362\" style=\"display: none;\"><div style=\"display: table-cell;\"></div><div style=\"display: table-cell;\">right&nbsp;=&nbsp;[],</div></div><div class=\"1362\" style=\"display: none;\"><div style=\"display: table-cell;\"></div><div style=\"display: table-cell;\">sizing_mode&nbsp;=&nbsp;None,</div></div><div class=\"1362\" style=\"display: none;\"><div style=\"display: table-cell;\"></div><div style=\"display: table-cell;\">subscribed_events&nbsp;=&nbsp;[],</div></div><div class=\"1362\" style=\"display: none;\"><div style=\"display: table-cell;\"></div><div style=\"display: table-cell;\">syncable&nbsp;=&nbsp;True,</div></div><div class=\"1362\" style=\"display: none;\"><div style=\"display: table-cell;\"></div><div style=\"display: table-cell;\">tags&nbsp;=&nbsp;[],</div></div><div class=\"1362\" style=\"display: none;\"><div style=\"display: table-cell;\"></div><div style=\"display: table-cell;\">title&nbsp;=&nbsp;Title(id='1296', ...),</div></div><div class=\"1362\" style=\"display: none;\"><div style=\"display: table-cell;\"></div><div style=\"display: table-cell;\">title_location&nbsp;=&nbsp;'above',</div></div><div class=\"1362\" style=\"display: none;\"><div style=\"display: table-cell;\"></div><div style=\"display: table-cell;\">toolbar&nbsp;=&nbsp;Toolbar(id='1259', ...),</div></div><div class=\"1362\" style=\"display: none;\"><div style=\"display: table-cell;\"></div><div style=\"display: table-cell;\">toolbar_location&nbsp;=&nbsp;'right',</div></div><div class=\"1362\" style=\"display: none;\"><div style=\"display: table-cell;\"></div><div style=\"display: table-cell;\">toolbar_sticky&nbsp;=&nbsp;True,</div></div><div class=\"1362\" style=\"display: none;\"><div style=\"display: table-cell;\"></div><div style=\"display: table-cell;\">visible&nbsp;=&nbsp;True,</div></div><div class=\"1362\" style=\"display: none;\"><div style=\"display: table-cell;\"></div><div style=\"display: table-cell;\">width&nbsp;=&nbsp;600,</div></div><div class=\"1362\" style=\"display: none;\"><div style=\"display: table-cell;\"></div><div style=\"display: table-cell;\">width_policy&nbsp;=&nbsp;'auto',</div></div><div class=\"1362\" style=\"display: none;\"><div style=\"display: table-cell;\"></div><div style=\"display: table-cell;\">x_range&nbsp;=&nbsp;DataRange1d(id='1236', ...),</div></div><div class=\"1362\" style=\"display: none;\"><div style=\"display: table-cell;\"></div><div style=\"display: table-cell;\">x_scale&nbsp;=&nbsp;LinearScale(id='1240', ...),</div></div><div class=\"1362\" style=\"display: none;\"><div style=\"display: table-cell;\"></div><div style=\"display: table-cell;\">y_range&nbsp;=&nbsp;DataRange1d(id='1238', ...),</div></div><div class=\"1362\" style=\"display: none;\"><div style=\"display: table-cell;\"></div><div style=\"display: table-cell;\">y_scale&nbsp;=&nbsp;LinearScale(id='1242', ...))</div></div></div>\n",
       "<script>\n",
       "(function() {\n",
       "  let expanded = false;\n",
       "  const ellipsis = document.getElementById(\"1363\");\n",
       "  ellipsis.addEventListener(\"click\", function() {\n",
       "    const rows = document.getElementsByClassName(\"1362\");\n",
       "    for (let i = 0; i < rows.length; i++) {\n",
       "      const el = rows[i];\n",
       "      el.style.display = expanded ? \"none\" : \"table-row\";\n",
       "    }\n",
       "    ellipsis.innerHTML = expanded ? \"&hellip;)\" : \"&lsaquo;&lsaquo;&lsaquo;\";\n",
       "    expanded = !expanded;\n",
       "  });\n",
       "})();\n",
       "</script>\n"
      ],
      "text/plain": [
       "Figure(id='1235', ...)"
      ]
     },
     "execution_count": 34,
     "metadata": {},
     "output_type": "execute_result"
    }
   ],
   "source": [
    "draw_vectors(embedding[:, 0], embedding[:, 1], token=words)\n",
    "# hover a mouse over there and see if you can identify the clusters"
   ]
  },
  {
   "cell_type": "markdown",
   "metadata": {},
   "source": [
    "### Visualizing phrases\n",
    "\n",
    "Word embeddings can also be used to represent short phrases. The simplest way is to take __an average__ of vectors for all tokens in the phrase with some weights.\n",
    "\n",
    "This trick is useful to identify what data are you working with: find if there are any outliers, clusters or other artefacts.\n",
    "\n",
    "Let's try this new hammer on our data!\n"
   ]
  },
  {
   "cell_type": "code",
   "execution_count": null,
   "metadata": {},
   "outputs": [],
   "source": [
    "def get_phrase_embedding(phrase):\n",
    "    \"\"\"\n",
    "    Convert phrase to a vector by aggregating it's word embeddings. See description above.\n",
    "    \"\"\"\n",
    "    # 1. lowercase phrase\n",
    "    # 2. tokenize phrase\n",
    "    # 3. average word vectors for all words in tokenized phrase\n",
    "    # skip words that are not in model's vocabulary\n",
    "    # if all words are missing from vocabulary, return zeros\n",
    "    \n",
    "    vector = np.zeros([model.vector_size], dtype='float32')\n",
    "    phrase_tokenized = # YOUR CODE HERE\n",
    "    phrase_vectors = [model[x] for x in phrase_tokenized if x in model.vocab.keys()]\n",
    "\n",
    "    if len(phrase_vectors) != 0:\n",
    "        vector = np.mean(phrase_vectors, axis=0)\n",
    "\n",
    "    # YOUR CODE\n",
    "    \n",
    "    return vector\n",
    "        \n",
    "    "
   ]
  },
  {
   "cell_type": "code",
   "execution_count": null,
   "metadata": {},
   "outputs": [],
   "source": [
    "get_phrase_embedding(data[402687])"
   ]
  },
  {
   "cell_type": "code",
   "execution_count": null,
   "metadata": {},
   "outputs": [],
   "source": [
    "vector = get_phrase_embedding(\"I'm very sure. This never happened to me before...\")"
   ]
  },
  {
   "cell_type": "code",
   "execution_count": null,
   "metadata": {},
   "outputs": [],
   "source": [
    "# let's only consider ~5k phrases for a first run.\n",
    "chosen_phrases = data[::len(data) // 1000]\n",
    "\n",
    "# compute vectors for chosen phrases and turn them to numpy array\n",
    "phrase_vectors = np.asarray([get_phrase_embedding(x) for x in chosen_phrases]) # YOUR CODE"
   ]
  },
  {
   "cell_type": "code",
   "execution_count": null,
   "metadata": {},
   "outputs": [],
   "source": [
    "assert isinstance(phrase_vectors, np.ndarray) and np.isfinite(phrase_vectors).all()\n",
    "assert phrase_vectors.shape == (len(chosen_phrases), model.vector_size)"
   ]
  },
  {
   "cell_type": "code",
   "execution_count": null,
   "metadata": {},
   "outputs": [],
   "source": [
    "# map vectors into 2d space with pca, tsne or your other method of choice\n",
    "# don't forget to normalize\n",
    "\n",
    "phrase_vectors_2d = umap.UMAP(n_neighbors=3).fit_transform(phrase_vectors) # преобразовываем\n",
    "\n",
    "# phrase_vectors_2d = (phrase_vectors_2d - phrase_vectors_2d.mean(axis=0)) / phrase_vectors_2d.std(axis=0)"
   ]
  },
  {
   "cell_type": "code",
   "execution_count": null,
   "metadata": {},
   "outputs": [],
   "source": [
    "draw_vectors(phrase_vectors_2d[:, 0], phrase_vectors_2d[:, 1],\n",
    "             phrase=[phrase[:50] for phrase in chosen_phrases],\n",
    "             radius=20,)"
   ]
  },
  {
   "cell_type": "markdown",
   "metadata": {},
   "source": [
    "Finally, let's build a simple \"similar question\" engine with phrase embeddings we've built."
   ]
  },
  {
   "cell_type": "code",
   "execution_count": null,
   "metadata": {},
   "outputs": [],
   "source": [
    "# compute vector embedding for all lines in data\n",
    "data_vectors = np.vstack([get_phrase_embedding(l) for l in data])"
   ]
  },
  {
   "cell_type": "code",
   "execution_count": null,
   "metadata": {},
   "outputs": [],
   "source": [
    "norms = np.linalg.norm(data_vectors, axis=1)"
   ]
  },
  {
   "cell_type": "code",
   "execution_count": null,
   "metadata": {},
   "outputs": [],
   "source": [
    "printable_set = set(string.printable)"
   ]
  },
  {
   "cell_type": "code",
   "execution_count": null,
   "metadata": {},
   "outputs": [],
   "source": [
    "data_subset = [x for x in data if set(x).issubset(printable_set)]"
   ]
  },
  {
   "cell_type": "code",
   "execution_count": null,
   "metadata": {},
   "outputs": [],
   "source": [
    "def find_nearest(query, k=10):\n",
    "    \"\"\"\n",
    "    given text line (query), return k most similar lines from data, sorted from most to least similar\n",
    "    similarity should be measured as cosine between query and line embedding vectors\n",
    "    hint: it's okay to use global variables: data and data_vectors. see also: np.argpartition, np.argsort\n",
    "    \"\"\"\n",
    "    # YOUR CODE\n",
    "    query_vector = get_phrase_embedding(query)\n",
    "    dists = data_vectors.dot(query_vector[:, None])[:, 0] / ((norms+1e-16)*np.linalg.norm(query_vector))\n",
    "    nearest_elements = dists.argsort(axis=0)[-k:][::-1]\n",
    "    out = [data[i] for i in nearest_elements]\n",
    "    return out# <YOUR CODE: top-k lines starting from most similar>"
   ]
  },
  {
   "cell_type": "code",
   "execution_count": null,
   "metadata": {},
   "outputs": [],
   "source": [
    "results = find_nearest(query=\"How do i enter the matrix?\", k=10)\n",
    "\n",
    "print(''.join(results))\n",
    "\n",
    "assert len(results) == 10 and isinstance(results[0], str)\n",
    "assert results[0] == 'How do I get to the dark web?\\n'\n",
    "# assert results[3] == 'What can I do to save the world?\\n'"
   ]
  },
  {
   "cell_type": "code",
   "execution_count": null,
   "metadata": {},
   "outputs": [],
   "source": [
    "find_nearest(query=\"How does Trump?\", k=10)"
   ]
  },
  {
   "cell_type": "code",
   "execution_count": null,
   "metadata": {},
   "outputs": [],
   "source": [
    "find_nearest(query=\"Why don't i ask a question myself?\", k=10)"
   ]
  },
  {
   "cell_type": "code",
   "execution_count": null,
   "metadata": {},
   "outputs": [],
   "source": [
    "from sklearn.cluster import DBSCAN, KMeans"
   ]
  },
  {
   "cell_type": "code",
   "execution_count": null,
   "metadata": {},
   "outputs": [],
   "source": [
    "kmeans = KMeans(3)"
   ]
  },
  {
   "cell_type": "code",
   "execution_count": null,
   "metadata": {},
   "outputs": [],
   "source": [
    "labels = kmeans.fit_predict(np.asarray(phrase_vectors))"
   ]
  },
  {
   "cell_type": "code",
   "execution_count": null,
   "metadata": {},
   "outputs": [],
   "source": [
    "_colors = ['red', 'green', 'blue']"
   ]
  },
  {
   "cell_type": "code",
   "execution_count": null,
   "metadata": {},
   "outputs": [],
   "source": [
    "draw_vectors(phrase_vectors_2d[:, 0], phrase_vectors_2d[:, 1], color=[_colors[l] for l in labels],\n",
    "             phrase=[phrase[:50] for phrase in chosen_phrases],\n",
    "             radius=20,)"
   ]
  },
  {
   "cell_type": "code",
   "execution_count": null,
   "metadata": {},
   "outputs": [],
   "source": [
    "plt.figure(figsize=(12, 10))\n",
    "plt.scatter(phrase_vectors_2d[:,0], phrase_vectors_2d[:, 1], c=labels.astype(float))"
   ]
  },
  {
   "cell_type": "markdown",
   "metadata": {
    "collapsed": true
   },
   "source": [
    "__Now what?__\n",
    "* Try running TSNE instead of UMAP (it takes a long time)\n",
    "* Try running UMAP or TSNEon all data, not just 1000 phrases\n",
    "* See what other embeddings are there in the model zoo: `gensim.downloader.info()`\n",
    "* Take a look at [FastText](https://github.com/facebookresearch/fastText) embeddings\n",
    "* Optimize find_nearest with locality-sensitive hashing: use [nearpy](https://github.com/pixelogik/NearPy) or `sklearn.neighbors`.\n",
    "\n",
    "\n"
   ]
  },
  {
   "cell_type": "markdown",
   "metadata": {},
   "source": [
    "### Extra: your own word2vec"
   ]
  },
  {
   "cell_type": "code",
   "execution_count": null,
   "metadata": {},
   "outputs": [],
   "source": [
    "import torch\n",
    "import torch.nn as  nn\n",
    "import torch.autograd  as autograd\n",
    "import torch.optim as optim\n",
    "import torch.nn.functional as F\n",
    "from torch.optim.lr_scheduler import StepLR, ReduceLROnPlateau"
   ]
  },
  {
   "cell_type": "code",
   "execution_count": null,
   "metadata": {},
   "outputs": [],
   "source": [
    "vocabulary = set(itertools.chain.from_iterable(data_tok))\n",
    "\n",
    "word_to_index = # YOUR CODE HERE\n",
    "index_to_word = # YOUR CODE HERE\n",
    "word_counter = {word: 0 for word in word_to_index.keys()}"
   ]
  },
  {
   "cell_type": "markdown",
   "metadata": {},
   "source": [
    "Generating context pairs:"
   ]
  },
  {
   "cell_type": "code",
   "execution_count": null,
   "metadata": {},
   "outputs": [],
   "source": [
    "context_tuple_list = []\n",
    "w = 4\n",
    "\n",
    "for text in data_tok:\n",
    "    for i, word in enumerate(text):\n",
    "        first_context_word_index = max(0,i-w)\n",
    "        last_context_word_index = min(i+w, len(text))\n",
    "        for j in range(first_context_word_index, last_context_word_index):\n",
    "            if i!=j:\n",
    "                context_tuple_list.append((word_to_index[word], word_to_index[text[j]]))\n",
    "                word_counter[word] += 1.\n",
    "print(\"There are {} pairs of target and context words\".format(len(context_tuple_list)))"
   ]
  },
  {
   "cell_type": "markdown",
   "metadata": {},
   "source": [
    "Casting everything to `torch.LongTensor`"
   ]
  },
  {
   "cell_type": "code",
   "execution_count": null,
   "metadata": {},
   "outputs": [],
   "source": [
    "data_torch = torch.tensor(context_tuple_list).type(torch.LongTensor)\n",
    "X_torch = data_torch[:, 0]\n",
    "y_torch = data_torch[:, 1]\n",
    "del data_torch"
   ]
  },
  {
   "cell_type": "code",
   "execution_count": null,
   "metadata": {},
   "outputs": [],
   "source": [
    "class Word2VecModel(nn.Module):\n",
    "\n",
    "    def __init__(self, embedding_size, vocab_size):\n",
    "        super(Word2VecModel, self).__init__()\n",
    "        # YOUR CODE HERE\n",
    "        \n",
    "    def forward(self, context_word):\n",
    "        # YOUR CODE HERE"
   ]
  },
  {
   "cell_type": "code",
   "execution_count": null,
   "metadata": {},
   "outputs": [],
   "source": [
    "device = torch.device('cuda:0') if torch.cuda.is_available() else torch.device('cpu')"
   ]
  },
  {
   "cell_type": "code",
   "execution_count": null,
   "metadata": {},
   "outputs": [],
   "source": [
    "model = Word2VecModel(25, len(word_to_index)).to(device)"
   ]
  },
  {
   "cell_type": "code",
   "execution_count": null,
   "metadata": {},
   "outputs": [],
   "source": [
    "loss_func = nn.CrossEntropyLoss()\n",
    "opt = torch.optim.Adam(model.parameters(), lr=0.01)\n",
    "# To reduce learning rate on plateau of the loss functions\n",
    "lr_scheduler = ReduceLROnPlateau(opt, patience=35)"
   ]
  },
  {
   "cell_type": "code",
   "execution_count": null,
   "metadata": {},
   "outputs": [],
   "source": [
    "loss_func(model(X_torch[:5].to(device)), y_torch[:5].to(device))"
   ]
  },
  {
   "cell_type": "code",
   "execution_count": null,
   "metadata": {},
   "outputs": [],
   "source": [
    "batch_size = 1024\n",
    "n_iterations = 1000\n",
    "local_train_loss_history = []"
   ]
  },
  {
   "cell_type": "code",
   "execution_count": null,
   "metadata": {},
   "outputs": [],
   "source": [
    "def plot_train_process(train_loss):\n",
    "    fig, axes = plt.subplots(1, 1, figsize=(15, 5))\n",
    "\n",
    "    axes.set_title('Loss')\n",
    "    axes.plot(train_loss, label='train')\n",
    "    axes.legend()\n",
    "    plt.show()"
   ]
  },
  {
   "cell_type": "code",
   "execution_count": null,
   "metadata": {},
   "outputs": [],
   "source": [
    "for i in range(n_iterations):\n",
    "\n",
    "    ix = np.random.randint(0, len(context_tuple_list), batch_size)\n",
    "    x_batch = X_torch[ix].to(device)\n",
    "    y_batch = y_torch[ix].to(device)\n",
    "\n",
    "    # predict log-probabilities or logits\n",
    "    ### YOUR CODE\n",
    "\n",
    "    # compute loss, just like before\n",
    "    ### YOUR CODE\n",
    "\n",
    "\n",
    "    # compute gradients\n",
    "    ### YOUR CODE\n",
    "\n",
    "    # Adam step\n",
    "    ### YOUR CODE\n",
    "\n",
    "    # clear gradients\n",
    "    ### YOUR CODE\n",
    "\n",
    "    local_train_loss_history.append(loss.item())\n",
    "    lr_scheduler.step(local_train_loss_history[-1])\n",
    "    \n",
    "    if i % 100 == 0:\n",
    "        clear_output(True)\n",
    "        plot_train_process(local_train_loss_history)"
   ]
  },
  {
   "cell_type": "code",
   "execution_count": null,
   "metadata": {},
   "outputs": [],
   "source": [
    "matrix = next(model.embeddings.parameters()).detach().cpu()"
   ]
  },
  {
   "cell_type": "code",
   "execution_count": null,
   "metadata": {},
   "outputs": [],
   "source": [
    "def get_closest(word, top_n):\n",
    "    global matrix, word_to_index, index_to_word\n",
    "    y = matrix[word_to_index[word]][None, :]\n",
    "\n",
    "    dist = F.cosine_similarity(matrix,y)\n",
    "    index_sorted = torch.argsort(dist)\n",
    "    top_n = index_sorted[-top_n:]\n",
    "    return [index_to_word[x] for x in top_n.numpy()]"
   ]
  },
  {
   "cell_type": "code",
   "execution_count": null,
   "metadata": {},
   "outputs": [],
   "source": [
    "get_closest('apple', 5)"
   ]
  },
  {
   "cell_type": "markdown",
   "metadata": {},
   "source": [
    "It might look not so promising. Remember about the upgrades to word2vec: subsampling and negative sampling."
   ]
  }
 ],
 "metadata": {
  "kernelspec": {
   "display_name": "work_env",
   "language": "python",
   "name": "work_env"
  },
  "language_info": {
   "codemirror_mode": {
    "name": "ipython",
    "version": 3
   },
   "file_extension": ".py",
   "mimetype": "text/x-python",
   "name": "python",
   "nbconvert_exporter": "python",
   "pygments_lexer": "ipython3",
   "version": "3.8.2"
  }
 },
 "nbformat": 4,
 "nbformat_minor": 2
}
